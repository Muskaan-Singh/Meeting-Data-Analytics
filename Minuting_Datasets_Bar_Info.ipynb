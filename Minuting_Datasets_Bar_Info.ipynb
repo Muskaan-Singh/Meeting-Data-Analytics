{
  "nbformat": 4,
  "nbformat_minor": 0,
  "metadata": {
    "colab": {
      "name": "Minuting Datasets Bar Info.ipynb",
      "provenance": [],
      "include_colab_link": true
    },
    "kernelspec": {
      "name": "python3",
      "display_name": "Python 3"
    },
    "language_info": {
      "name": "python"
    }
  },
  "cells": [
    {
      "cell_type": "markdown",
      "metadata": {
        "id": "view-in-github",
        "colab_type": "text"
      },
      "source": [
        "<a href=\"https://colab.research.google.com/github/Muskaan-Singh/Meeting-Data-Analytics/blob/main/Minuting_Datasets_Bar_Info.ipynb\" target=\"_parent\"><img src=\"https://colab.research.google.com/assets/colab-badge.svg\" alt=\"Open In Colab\"/></a>"
      ]
    },
    {
      "cell_type": "code",
      "execution_count": null,
      "metadata": {
        "colab": {
          "base_uri": "https://localhost:8080/"
        },
        "id": "duCP_qLcbyF9",
        "outputId": "f42a7427-1c3a-4323-c6c5-b4b6d09b8310"
      },
      "outputs": [
        {
          "output_type": "stream",
          "name": "stdout",
          "text": [
            "Cloning into 'Meeting-Data-Analytics'...\n",
            "remote: Enumerating objects: 157, done.\u001b[K\n",
            "remote: Counting objects: 100% (3/3), done.\u001b[K\n",
            "remote: Compressing objects: 100% (3/3), done.\u001b[K\n",
            "remote: Total 157 (delta 0), reused 0 (delta 0), pack-reused 154\u001b[K\n",
            "Receiving objects: 100% (157/157), 1.82 MiB | 24.51 MiB/s, done.\n",
            "Resolving deltas: 100% (24/24), done.\n"
          ]
        }
      ],
      "source": [
        "!git clone https://github.com/Muskaan-Singh/Meeting-Data-Analytics.git"
      ]
    },
    {
      "cell_type": "code",
      "source": [
        "!git clone https://github.com/saprativa/ICSI.git"
      ],
      "metadata": {
        "id": "ydTfdaV18a8x",
        "colab": {
          "base_uri": "https://localhost:8080/"
        },
        "outputId": "22e3c47e-6e40-431b-eff3-87f598814601"
      },
      "execution_count": null,
      "outputs": [
        {
          "output_type": "stream",
          "name": "stdout",
          "text": [
            "Cloning into 'ICSI'...\n",
            "remote: Enumerating objects: 4548, done.\u001b[K\n",
            "remote: Counting objects: 100% (12/12), done.\u001b[K\n",
            "remote: Compressing objects: 100% (5/5), done.\u001b[K\n",
            "remote: Total 4548 (delta 2), reused 12 (delta 2), pack-reused 4536\u001b[K\n",
            "Receiving objects: 100% (4548/4548), 56.97 MiB | 14.72 MiB/s, done.\n",
            "Resolving deltas: 100% (2010/2010), done.\n",
            "Checking out files: 100% (4576/4576), done.\n"
          ]
        }
      ]
    },
    {
      "cell_type": "markdown",
      "source": [
        "Bar"
      ],
      "metadata": {
        "id": "RX7y7d9NcT_a"
      }
    },
    {
      "cell_type": "code",
      "source": [
        "import pandas as pd\n",
        "import numpy as np\n",
        "import nltk\n",
        "import nltk\n",
        "nltk.download('stopwords')\n",
        "nltk.download('punkt')\n",
        "from nltk.corpus import stopwords\n",
        "import csv\n",
        "from nltk.tag import pos_tag # for proper noun\n",
        "from nltk.tokenize import word_tokenize, sent_tokenize\n",
        "from statistics import median\n",
        "import math\n",
        "from copy import deepcopy\n",
        "import os\n",
        "import xml.etree.ElementTree as ET\n",
        "\n",
        "import matplotlib.pyplot as plt\n",
        "import seaborn as sns\n",
        "\n",
        "import statistics"
      ],
      "metadata": {
        "colab": {
          "base_uri": "https://localhost:8080/"
        },
        "id": "hOlzuVuwb-EL",
        "outputId": "cb9ca1e6-601f-4ffe-d79b-46ff7d876836"
      },
      "execution_count": null,
      "outputs": [
        {
          "output_type": "stream",
          "name": "stdout",
          "text": [
            "[nltk_data] Downloading package stopwords to /root/nltk_data...\n",
            "[nltk_data]   Unzipping corpora/stopwords.zip.\n",
            "[nltk_data] Downloading package punkt to /root/nltk_data...\n",
            "[nltk_data]   Unzipping tokenizers/punkt.zip.\n"
          ]
        }
      ]
    },
    {
      "cell_type": "markdown",
      "source": [
        "AMI_Bar"
      ],
      "metadata": {
        "id": "fyfciEkqcvMy"
      }
    },
    {
      "cell_type": "code",
      "source": [
        "path='/content/drive/MyDrive/Kaggle/Cpastone_text_minuting/ami/transcripts'\n",
        "filelist=os.listdir(path)\n",
        "transcripts={}\n",
        "for file in filelist:\n",
        "    with open(f'{path}/{file}', 'r') as f: \n",
        "        txt=f.read()\n",
        "        transcripts[file.split('.')[0]]=txt\n",
        "\n",
        "path='/content/drive/MyDrive/Kaggle/Cpastone_text_minuting/ami/summaries/extractive'\n",
        "filelist=os.listdir(path)       \n",
        "extractive_summary={}\n",
        "for file in filelist:\n",
        "    with open(f'{path}/{file}', 'r') as f: \n",
        "        txt=f.read()\n",
        "        extractive_summary[file.split('.')[0]]=txt \n",
        "        \n",
        "path='/content/drive/MyDrive/Kaggle/Cpastone_text_minuting/ami/summaries/abstractive'\n",
        "filelist=os.listdir(path)       \n",
        "abstractive_summary={}\n",
        "for file in filelist:\n",
        "    with open(f'{path}/{file}', 'r') as f: \n",
        "        txt=f.read()\n",
        "        abstractive_summary[file.split('.')[0]]=txt"
      ],
      "metadata": {
        "id": "dYKBR07ZcTZ3"
      },
      "execution_count": null,
      "outputs": []
    },
    {
      "cell_type": "code",
      "source": [
        "inner_join_transcripts=deepcopy(transcripts)\n",
        "inner_join_extractive_summary=deepcopy(extractive_summary)\n",
        "inner_join_abstractive_summary=deepcopy(abstractive_summary)\n",
        "l=list(transcripts.keys())\n",
        "\n",
        "for i in l:\n",
        "    if i not in inner_join_abstractive_summary:\n",
        "        del inner_join_transcripts[i]\n",
        "        if i in inner_join_extractive_summary:\n",
        "            del inner_join_extractive_summary[i]\n",
        "        continue\n",
        "    if i not in inner_join_extractive_summary:\n",
        "        del inner_join_transcripts[i]\n",
        "        if i in inner_join_abstractive_summary:\n",
        "            del inner_join_abstractive_summary[i]\n",
        "\n",
        "def ami_mean(transcripts, small_threshold , big_threshold ):\n",
        "    stopWords = list(set(stopwords.words(\"english\")))\n",
        "    count_small=0\n",
        "    count_big=0\n",
        "    sum_small=0\n",
        "    sum_big=0\n",
        "    position_small=[]\n",
        "    position_big=[]\n",
        "    total_sent=0\n",
        "    total_words=0\n",
        "    total_refined_words=0\n",
        "    unique={}\n",
        "    number=len(transcripts)\n",
        "    total_unique_refined_words=0\n",
        "    max_len=[]\n",
        "    position_max_len=[]\n",
        "    small_bool=[]\n",
        "    turns=0\n",
        "    for key in transcripts.keys():\n",
        "        txt=nltk.sent_tokenize(transcripts[key])\n",
        "        total_sent+=len(txt)\n",
        "        m=0\n",
        "        p=0\n",
        "        for index,sentence in enumerate(txt):\n",
        "            temp=nltk.word_tokenize(sentence)\n",
        "            sen_len=len(temp)\n",
        "            m=max(m,sen_len)\n",
        "            if m==sen_len:\n",
        "                p=index/len(txt)\n",
        "            temp=[word.lower() for word in temp]\n",
        "            word_tokens_refined=[x for x in temp if x not in stopWords]\n",
        "            for word in word_tokens_refined:\n",
        "                if word not in unique: \n",
        "                    total_unique_refined_words+=1\n",
        "                    unique[word]=1\n",
        "                elif word in unique:\n",
        "                    unique[word]+=1\n",
        "\n",
        "            total_refined_words+=len(word_tokens_refined)\n",
        "            total_words+=sen_len\n",
        "            \n",
        "            if sen_len<small_threshold:\n",
        "                count_small+=1\n",
        "                sum_small+=sen_len\n",
        "                position_small.append(index/len(txt))\n",
        "                small_bool.append(1)\n",
        "            elif sen_len>big_threshold:\n",
        "                count_big+=1\n",
        "                sum_big+=sen_len\n",
        "                position_big.append(index/len(txt))\n",
        "                small_bool.append(0)\n",
        "            else:\n",
        "                small_bool.append(0)\n",
        "                \n",
        "        max_len.append(m)\n",
        "        position_max_len.append(p)\n",
        "\n",
        "    # number of continuous occurances\n",
        "    small_cont=0\n",
        "    check=False\n",
        "    for i in range(0,len(small_bool),4):\n",
        "        if sum(small_bool[i:i+4])>=2:\n",
        "            small_cont+=1\n",
        "            check=False\n",
        "        else:\n",
        "            try: \n",
        "                if sum(small_bool[i:i+4])==1 and small_bool[i+3]==1:\n",
        "                    check=True\n",
        "                elif sum(small_bool[i:i+4])==1 and small_bool[i]==1 and check==True:\n",
        "                    small_cont+=1\n",
        "                    check=False            \n",
        "            except:\n",
        "                pass\n",
        "\n",
        "    \n",
        "    \n",
        "    return (count_small, count_big, sum_small, sum_big, position_small, position_big, \n",
        "total_sent, total_words, total_refined_words, total_unique_refined_words, unique, number, max_len,\n",
        "            position_max_len, small_cont)\n",
        "\n",
        "(count_small_transcripts_ami, count_big_transcripts_ami, sum_small_transcripts_ami, \n",
        "sum_big_transcripts_ami, position_small_transcripts_ami, position_big_transcripts_ami, \n",
        "total_sent_transcripts_ami, total_words_transcripts_ami, total_refined_words_transcripts_ami,\n",
        "total_refined_unique_words_transcripts_ami, unique_dict_transcripts_ami, number_transcripts_ami,\n",
        "max_len_transcripts_ami, position_max_len_transcripts_ami, small_cont_transcripts_ami) = ami_mean(transcripts, 5 , 10)\n",
        "\n",
        "(count_small_esum_ami, count_big_esum_ami, sum_small_esum_ami, \n",
        "sum_big_esum_ami, position_small_esum_ami, position_big_esum_ami, \n",
        "total_sent_esum_ami, total_words_esum_ami, total_refined_words_esum_ami,\n",
        "total_refined_unique_words_esum_ami, unique_dict_esum_ami,number_esum_ami,\n",
        "max_len_esum_ami, position_max_len_esum_ami,small_cont_esum_ami)  = ami_mean(extractive_summary, 5 , 10)\n",
        "\n",
        "(count_small_asum_ami, count_big_asum_ami, sum_small_asum_ami, \n",
        "sum_big_asum_ami, position_small_asum_ami, position_big_asum_ami, \n",
        "total_sent_asum_ami, total_words_asum_ami, total_refined_words_asum_ami,\n",
        "total_refined_unique_words_asum_ami, unique_dict_asum_ami,number_asum_ami,\n",
        "max_len_asum_ami, position_max_len_asum_ami,small_cont_asum_ami) = ami_mean(abstractive_summary, 5 , 10)\n",
        "\n",
        "# number of hours:\n",
        "ami_hours=100  #from their website"
      ],
      "metadata": {
        "id": "fTL_3OnJcY8_"
      },
      "execution_count": null,
      "outputs": []
    },
    {
      "cell_type": "markdown",
      "source": [
        "ICSI-Bar"
      ],
      "metadata": {
        "id": "jLueTEwKcr_X"
      }
    },
    {
      "cell_type": "code",
      "source": [
        "path='/content/ICSI/ICSI_original_transcripts/transcripts/'\n",
        "temp=os.listdir(path)\n",
        "root_list=[]\n",
        "meeting_name_list=[]\n",
        "text_list=[]\n",
        "time_list=[]\n",
        "\n",
        "path1='/content/ICSI/ICSIplus/Contributions/Summarization/abstractive'\n",
        "absumfilelist=os.listdir(path1)\n",
        "\n",
        "filelist=[]\n",
        "for file in absumfilelist:\n",
        "    if f'{file[:-12]}.mrt' in temp:\n",
        "        filelist.append(f'{file[:-12]}.mrt')\n",
        "\n",
        "\n",
        "for file in filelist:\n",
        "    if file[-3:]=='mrt':\n",
        "        tree = ET.parse(f'{path}/{file}')\n",
        "        root = tree.getroot()\n",
        "        root_list.append(root)\n",
        "        meeting_name=root.attrib['Session']\n",
        "        meeting_name_list.append(meeting_name)\n",
        "        time = float(root[1].attrib['EndTime'])-float(root[1].attrib['StartTime'])\n",
        "        time_list.append(time)\n",
        "        txt=[]\n",
        "        for child in root[1]:\n",
        "            txt.append(child.text)\n",
        "        text_list.append(txt)\n",
        "        \n",
        "ab_sumroot_list=[]\n",
        "ab_sumtext_list=[]\n",
        "for f in absumfilelist:\n",
        "    tree = ET.parse(f'{path1}/{f}')\n",
        "    root = tree.getroot()\n",
        "    ab_sumroot_list.append(root)\n",
        "    txt=[]\n",
        "    s=[]\n",
        "    for child in ab_sumroot_list[0]:\n",
        "        for i in child:\n",
        "            txt.append(i.text)\n",
        "    ab_sumtext_list.append(txt)\n",
        "\n",
        "icsi_hours=sum(time_list)/3600\n",
        "\n",
        "def icsi_mean(text_list,small_threshold, big_threshold):\n",
        "    stopWords = list(set(stopwords.words(\"english\")))\n",
        "    count_small=0\n",
        "    count_big=0\n",
        "    sum_small=0\n",
        "    sum_big=0\n",
        "    position_small=[]\n",
        "    position_big=[]\n",
        "    total_sent=0\n",
        "    total_words=0\n",
        "    total_refined_words=0\n",
        "    unique={}\n",
        "    total_unique_refined_words=0\n",
        "    number=len(text_list)\n",
        "    \n",
        "    max_len=[]\n",
        "    position_max_len=[]\n",
        "    \n",
        "    small_bool=[]\n",
        "    for i in range(len(text_list)):\n",
        "        # index of one document \n",
        "        \n",
        "        total_sent+=len(text_list[i])\n",
        "        m=0\n",
        "        p=0\n",
        "        #m=max(m,len(text_list[i]))\n",
        "        #if m==len(text_list[i]):\n",
        "        #    p=i/\n",
        "        for index,text in enumerate(text_list[i]):\n",
        "            \n",
        "            a=nltk.word_tokenize(text)\n",
        "            m=max(m,len(a))\n",
        "            if m==len(a):\n",
        "                p=index/len(text_list[i])\n",
        "            a=[word.lower() for word in a]\n",
        "            word_tokens_refined=[x for x in a if x not in stopWords]\n",
        "            for word in word_tokens_refined:\n",
        "                if word not in unique: \n",
        "                    total_unique_refined_words+=1\n",
        "                    unique[word]=1\n",
        "                elif word in unique:\n",
        "                    unique[word]+=1\n",
        "            total_refined_words+=len(word_tokens_refined)\n",
        "            total_words+=len(a)\n",
        "            \n",
        "            if len(a)<small_threshold:\n",
        "                count_small+=1\n",
        "                sum_small+=len(a)\n",
        "                position_small.append(index/len(text_list[i]))\n",
        "                small_bool.append(1)\n",
        "            elif len(a)>big_threshold:\n",
        "                count_big+=1\n",
        "                sum_big+=len(a)\n",
        "                position_big.append(index/len(text_list[i]))\n",
        "                small_bool.append(0)\n",
        "            else:\n",
        "                small_bool.append(0)\n",
        "            max_len.append(m)\n",
        "            position_max_len.append(p)\n",
        "     \n",
        "    small_cont=0\n",
        "    check=False\n",
        "    for i in range(0,len(small_bool),4):\n",
        "        if sum(small_bool[i:i+4])>=2:\n",
        "            small_cont+=1\n",
        "            check=False\n",
        "        else:\n",
        "            try:\n",
        "                if sum(small_bool[i:i+4])==1 and small_bool[i+3]==1:\n",
        "                    check=True\n",
        "                elif sum(small_bool[i:i+4])==1 and small_bool[i]==1 and check==True:\n",
        "                    small_cont+=1\n",
        "                    check=False  \n",
        "            except:\n",
        "                pass\n",
        "\n",
        "                \n",
        "    return (count_small, count_big, sum_small, sum_big, position_small, position_big, total_sent,total_words,\n",
        "total_refined_words, total_unique_refined_words, unique, number, max_len, position_max_len, small_cont)\n",
        "\n",
        "(count_small_transcripts_icsi, count_big_transcripts_icsi, sum_small_transcripts_icsi,\n",
        "sum_big_transcripts_icsi, position_small_transcripts_icsi, position_big_transcripts_icsi,\n",
        "total_sent_transcripts_icsi,total_words_transcripts_icsi, total_refined_words_transcripts_icsi, \n",
        "total_refined_unique_words_transcripts_icsi, unique_dict_transcripts_icsi, number_transcripts_icsi, \n",
        "max_len_transcripts_icsi, position_max_len_transcripts_icsi, small_cont_transcripts_icsi)=icsi_mean(text_list,5,10)\n",
        "\n",
        "(count_small_asum_icsi, count_big_asum_icsi, sum_small_asum_icsi,\n",
        "sum_big_asum_icsi, position_small_asum_icsi, position_big_asum_icsi,\n",
        "total_sent_asum_icsi,total_words_asum_icsi, total_refined_words_asum_icsi, \n",
        "total_refined_unique_words_asum_icsi, unique_dict_asum_icsi, number_asum_icsi,\n",
        "max_len_asum_icsi, position_max_len_asum_icsi, small_count_asum_icsi)=icsi_mean(ab_sumtext_list,5,10)"
      ],
      "metadata": {
        "id": "FJDk6uF7cjKn"
      },
      "execution_count": null,
      "outputs": []
    },
    {
      "cell_type": "markdown",
      "source": [
        "AutoMin-Bar"
      ],
      "metadata": {
        "id": "tZV_uzoWeCC9"
      }
    },
    {
      "cell_type": "code",
      "source": [
        "!unzip /content/drive/MyDrive/Kaggle/Cpastone_text_minuting/AutoMin_combined_all.zip"
      ],
      "metadata": {
        "id": "nAQl44tTeDvZ",
        "colab": {
          "base_uri": "https://localhost:8080/"
        },
        "outputId": "8a118033-e6c4-4753-8a77-db9fe9f4bf47"
      },
      "execution_count": null,
      "outputs": [
        {
          "output_type": "stream",
          "name": "stdout",
          "text": [
            "Archive:  /content/drive/MyDrive/Kaggle/Cpastone_text_minuting/AutoMin_combined_all.zip\n",
            "   creating: train/\n",
            "   creating: train/meeting_en_test_013/\n",
            "  inflating: train/meeting_en_test_013/minutes_GENER_annot18.deidentified.txt  \n",
            "  inflating: train/meeting_en_test_013/transcript_MAN_annot20.deidentified.txt  \n",
            "   creating: train/meeting_cs_dev_006/\n",
            "  inflating: train/meeting_cs_dev_006/minutes_GENER_annot19.deidentified.txt  \n",
            "  inflating: train/meeting_cs_dev_006/transcript_MAN_annot18.deidentified.txt  \n",
            "   creating: train/meeting_en_train_012_1/\n",
            "  inflating: train/meeting_en_train_012_1/transcript_MAN_annot21.deidentified.txt  \n",
            "  inflating: train/meeting_en_train_012_1/minutes_ORIG.deidentified.txt  \n",
            "   creating: train/meeting_cs_train_027_1/\n",
            "  inflating: train/meeting_cs_train_027_1/minutes_ORIG.deidentified.txt  \n",
            "  inflating: train/meeting_cs_train_027_1/transcript_MAN_annot19.deidentified.txt  \n",
            "   creating: train/meeting_en_test_009/\n",
            "  inflating: train/meeting_en_test_009/minutes_ORIG.deidentified.txt  \n",
            "  inflating: train/meeting_en_test_009/transcript_MAN_annot02.deidentified.txt  \n",
            "   creating: train/meeting_en_train_063/\n",
            "  inflating: train/meeting_en_train_063/transcript_MAN_annot17.deidentified.txt  \n",
            "  inflating: train/meeting_en_train_063/minutes_ORIG.deidentified.txt  \n",
            "   creating: train/meeting_en_train_015_1/\n",
            "  inflating: train/meeting_en_train_015_1/minutes_GENER_annot06.deidentified.txt  \n",
            "  inflating: train/meeting_en_train_015_1/transcript_MAN_annot06.deidentified.txt  \n",
            "   creating: train/meeting_cs_train_009_1/\n",
            "  inflating: train/meeting_cs_train_009_1/transcript_MAN_annot18.deidentified.txt  \n",
            "  inflating: train/meeting_cs_train_009_1/minutes_GENER_annot18.deidentified.txt  \n",
            "   creating: train/meeting_en_dev_005/\n",
            "  inflating: train/meeting_en_dev_005/minutes_GENER_annot07.deidentified.txt  \n",
            "  inflating: train/meeting_en_dev_005/transcript_MAN_annot16.deidentified.txt  \n",
            "   creating: train/meeting_cs_dev_001_1/\n",
            "  inflating: train/meeting_cs_dev_001_1/transcript_MAN_annot18.deidentified.txt  \n",
            "  inflating: train/meeting_cs_dev_001_1/minutes_GENER_annot18.deidentified.txt  \n",
            "   creating: train/meeting_cs_dev_009_2/\n",
            "  inflating: train/meeting_cs_dev_009_2/minutes_ORIG.deidentified.txt  \n",
            "  inflating: train/meeting_cs_dev_009_2/transcript_MAN_annot05.deidentified.txt  \n",
            "   creating: train/meeting_cs_train_024_1/\n",
            "  inflating: train/meeting_cs_train_024_1/transcript_MAN_annot18.deidentified.txt  \n",
            "  inflating: train/meeting_cs_train_024_1/minutes_ORIG.deidentified.txt  \n",
            "   creating: train/meeting_en_train_048/\n",
            "  inflating: train/meeting_en_train_048/transcript_MAN_annot01.deidentified.txt  \n",
            "  inflating: train/meeting_en_train_048/minutes_GENER_annot01.deidentified.txt  \n",
            "   creating: train/meeting_en_train_053_1/\n",
            "  inflating: train/meeting_en_train_053_1/minutes_GENER_annot06.deidentified.txt  \n",
            "  inflating: train/meeting_en_train_053_1/transcript_MAN_annot06.deidentified.txt  \n",
            "   creating: train/meeting_en_train_013/\n",
            "  inflating: train/meeting_en_train_013/minutes_ORIG.deidentified.txt  \n",
            "  inflating: train/meeting_en_train_013/transcript_MAN2_annot06.deidentified.txt  \n",
            "   creating: train/meeting_en_test_002/\n",
            "  inflating: train/meeting_en_test_002/minutes_GENER_annot21.deidentified.txt  \n",
            "  inflating: train/meeting_en_test_002/transcript_MAN2_annot20.deidentified.txt  \n",
            "   creating: train/meeting_en_train_016_1/\n",
            "  inflating: train/meeting_en_train_016_1/transcript_MAN_annot13.deidentified.txt  \n",
            "  inflating: train/meeting_en_train_016_1/minutes_GENER_annot13.deidentified.txt  \n",
            "   creating: train/meeting_cs_dev_007_1/\n",
            "  inflating: train/meeting_cs_dev_007_1/minutes_GENER_annot18.deidentified.txt  \n",
            "  inflating: train/meeting_cs_dev_007_1/transcript_MAN2_annot05.deidentified.txt  \n",
            "   creating: train/meeting_cs_train_010_1/\n",
            "  inflating: train/meeting_cs_train_010_1/minutes_GENER_annot18.deidentified.txt  \n",
            "  inflating: train/meeting_cs_train_010_1/transcript_MAN2_annot05.deidentified.txt  \n",
            "   creating: train/meeting_en_train_018/\n",
            "  inflating: train/meeting_en_train_018/minutes_GENER_annot18.deidentified.txt  \n",
            "  inflating: train/meeting_en_train_018/transcript_MAN2_annot23.deidentified.txt  \n",
            "   creating: train/meeting_en_test_007_1/\n",
            "  inflating: train/meeting_en_test_007_1/transcript_MAN_annot07.deidentified.txt  \n",
            "  inflating: train/meeting_en_test_007_1/minutes_ORIG.deidentified.txt  \n",
            "   creating: train/meeting_en_train_009_1/\n",
            "  inflating: train/meeting_en_train_009_1/transcript_MAN_annot13.deidentified.txt  \n",
            "  inflating: train/meeting_en_train_009_1/minutes_GENER_annot13.deidentified.txt  \n",
            "   creating: train/meeting_cs_train_028_1/\n",
            "  inflating: train/meeting_cs_train_028_1/minutes_GENER_annot19.deidentified.txt  \n",
            "  inflating: train/meeting_cs_train_028_1/transcript_MAN2_annot05.deidentified.txt  \n",
            "   creating: train/meeting_en_test_007/\n",
            "  inflating: train/meeting_en_test_007/transcript_MAN_annot07.deidentified.txt  \n",
            "  inflating: train/meeting_en_test_007/minutes_GENER_annot07.deidentified.txt  \n",
            "   creating: train/meeting_cs_test_006_2/\n",
            "  inflating: train/meeting_cs_test_006_2/transcript_MAN_annot18.deidentified.txt  \n",
            "  inflating: train/meeting_cs_test_006_2/minutes_GENER_annot18.deidentified.txt  \n",
            "   creating: train/meeting_en_test_002_8/\n",
            "  inflating: train/meeting_en_test_002_8/transcript_MAN2_annot20.deidentified.txt  \n",
            "  inflating: train/meeting_en_test_002_8/minutes_GENER_annot23.deidentified.txt  \n",
            "   creating: train/meeting_cs_dev_010/\n",
            "  inflating: train/meeting_cs_dev_010/minutes_GENER_annot05.deidentified.txt  \n",
            "  inflating: train/meeting_cs_dev_010/transcript_MAN2_annot05.deidentified.txt  \n",
            "   creating: train/meeting_cs_train_031_1/\n",
            "  inflating: train/meeting_cs_train_031_1/minutes_ORIG.deidentified.txt  \n",
            "  inflating: train/meeting_cs_train_031_1/transcript_MAN_annot19.deidentified.txt  \n",
            "   creating: train/meeting_cs_train_032_1/\n",
            "  inflating: train/meeting_cs_train_032_1/minutes_GENER_annot19.deidentified.txt  \n",
            "  inflating: train/meeting_cs_train_032_1/transcript_MAN2_annot19.deidentified.txt  \n",
            "   creating: train/meeting_cs_train_018_1/\n",
            "  inflating: train/meeting_cs_train_018_1/transcript_MAN_annot18.deidentified.txt  \n",
            "  inflating: train/meeting_cs_train_018_1/minutes_GENER_annot18.deidentified.txt  \n",
            "   creating: train/meeting_en_train_042_1/\n",
            "  inflating: train/meeting_en_train_042_1/minutes_ORIG.deidentified.txt  \n",
            "  inflating: train/meeting_en_train_042_1/transcript_MAN_annot11.deidentified.txt  \n",
            "   creating: train/meeting_cs_dev_003_2/\n",
            "  inflating: train/meeting_cs_dev_003_2/transcript_MAN_annot18.deidentified.txt  \n",
            "  inflating: train/meeting_cs_dev_003_2/minutes_GENER_annot18.deidentified.txt  \n",
            "   creating: train/meeting_cs_train_007/\n",
            "  inflating: train/meeting_cs_train_007/minutes_GENER_annot05.deidentified.txt  \n",
            "  inflating: train/meeting_cs_train_007/transcript_MAN_annot05.deidentified.txt  \n",
            "   creating: train/meeting_en_train_016/\n",
            "  inflating: train/meeting_en_train_016/minutes_ORIG.deidentified.txt  \n",
            "  inflating: train/meeting_en_train_016/transcript_MAN_annot13.deidentified.txt  \n",
            "   creating: train/meeting_cs_dev_002/\n",
            "  inflating: train/meeting_cs_dev_002/minutes_GENER_annot05.deidentified.txt  \n",
            "  inflating: train/meeting_cs_dev_002/transcript_MAN2_annot05.deidentified.txt  \n",
            "   creating: train/meeting_en_test_015_1/\n",
            "  inflating: train/meeting_en_test_015_1/transcript_MAN_annot18.deidentified.txt  \n",
            "  inflating: train/meeting_en_test_015_1/minutes_GENER_annot13.deidentified.txt  \n",
            "   creating: train/meeting_en_train_023/\n",
            "  inflating: train/meeting_en_train_023/transcript_MAN_annot07.deidentified.txt  \n",
            "  inflating: train/meeting_en_train_023/minutes_GENER_annot07.deidentified.txt  \n",
            "   creating: train/meeting_en_train_067/\n",
            "  inflating: train/meeting_en_train_067/transcript_MAN_annot08.deidentified.txt  \n",
            "  inflating: train/meeting_en_train_067/minutes_ORIG.deidentified.txt  \n",
            "   creating: train/meeting_cs_dev_006_2/\n",
            "  inflating: train/meeting_cs_dev_006_2/transcript_MAN_annot18.deidentified.txt  \n",
            "  inflating: train/meeting_cs_dev_006_2/minutes_GENER_annot08.deidentified.txt  \n",
            "   creating: train/meeting_en_train_025_1/\n",
            "  inflating: train/meeting_en_train_025_1/minutes_GENER_annot24.deidentified.txt  \n",
            "  inflating: train/meeting_en_train_025_1/transcript_MAN_annot24.deidentified.txt  \n",
            "   creating: train/meeting_en_train_011/\n",
            "  inflating: train/meeting_en_train_011/minutes_GENER_annot11.deidentified.txt  \n",
            "  inflating: train/meeting_en_train_011/transcript_MAN_annot11.deidentified.txt  \n",
            "   creating: train/meeting_cs_test_005_2/\n",
            "  inflating: train/meeting_cs_test_005_2/transcript_MAN_annot18.deidentified.txt  \n",
            "  inflating: train/meeting_cs_test_005_2/minutes_ORIG.deidentified.txt  \n",
            "   creating: train/meeting_cs_train_013/\n",
            "  inflating: train/meeting_cs_train_013/minutes_GENER_annot05.deidentified.txt  \n",
            "  inflating: train/meeting_cs_train_013/transcript_MAN2_annot05.deidentified.txt  \n",
            "   creating: train/meeting_cs_train_008_1/\n",
            "  inflating: train/meeting_cs_train_008_1/minutes_GENER_annot18.deidentified.txt  \n",
            "  inflating: train/meeting_cs_train_008_1/transcript_MAN2_annot05.deidentified.txt  \n",
            "   creating: train/meeting_en_train_017_1/\n",
            "  inflating: train/meeting_en_train_017_1/transcript_MAN_annot03.deidentified.txt  \n",
            "  inflating: train/meeting_en_train_017_1/minutes_ORIG.deidentified.txt  \n",
            "   creating: train/meeting_en_test_002_10/\n",
            "  inflating: train/meeting_en_test_002_10/transcript_MAN2_annot20.deidentified.txt  \n",
            "  inflating: train/meeting_en_test_002_10/minutes_GENER_annot17.deidentified.txt  \n",
            "   creating: train/meeting_en_train_074_1/\n",
            "  inflating: train/meeting_en_train_074_1/transcript_MAN_annot07.deidentified.txt  \n",
            "  inflating: train/meeting_en_train_074_1/minutes_ORIG.deidentified.txt  \n",
            "   creating: train/meeting_cs_test_008_1/\n",
            "  inflating: train/meeting_cs_test_008_1/transcript_MAN_annot18.deidentified.txt  \n",
            "  inflating: train/meeting_cs_test_008_1/minutes_GENER_annot18.deidentified.txt  \n",
            "   creating: train/meeting_en_train_070/\n",
            "  inflating: train/meeting_en_train_070/minutes_GENER_annot21.deidentified.txt  \n",
            "  inflating: train/meeting_en_train_070/transcript_MAN_annot21.deidentified.txt  \n",
            "   creating: train/meeting_cs_train_014_1/\n",
            "  inflating: train/meeting_cs_train_014_1/transcript_MAN_annot18.deidentified.txt  \n",
            "  inflating: train/meeting_cs_train_014_1/minutes_GENER_annot18.deidentified.txt  \n",
            "   creating: train/meeting_en_test_002_6/\n",
            "  inflating: train/meeting_en_test_002_6/transcript_MAN2_annot20.deidentified.txt  \n",
            "  inflating: train/meeting_en_test_002_6/minutes_GENER_annot99.deidentified.txt  \n",
            "   creating: train/meeting_en_train_003_1/\n",
            "  inflating: train/meeting_en_train_003_1/transcript_MAN2_annot13.deidentified.txt  \n",
            "  inflating: train/meeting_en_train_003_1/minutes_GENER_annot13.deidentified.txt  \n",
            "   creating: train/meeting_cs_test_003/\n",
            "  inflating: train/meeting_cs_test_003/minutes_GENER_annot19.deidentified.txt  \n",
            "  inflating: train/meeting_cs_test_003/transcript_MAN_annot18.deidentified.txt  \n",
            "   creating: train/meeting_en_train_035/\n",
            "  inflating: train/meeting_en_train_035/minutes_GENER_annot07.deidentified.txt  \n",
            "  inflating: train/meeting_en_train_035/transcript_MAN2_annot17.deidentified.txt  \n",
            "   creating: train/meeting_en_train_014/\n",
            "  inflating: train/meeting_en_train_014/transcript_MAN2_annot07.deidentified.txt  \n",
            "  inflating: train/meeting_en_train_014/minutes_GENER_annot07.deidentified.txt  \n",
            "   creating: train/meeting_en_train_063_1/\n",
            "  inflating: train/meeting_en_train_063_1/transcript_MAN_annot17.deidentified.txt  \n",
            "  inflating: train/meeting_en_train_063_1/minutes_GENER_annot17.deidentified.txt  \n",
            "   creating: train/meeting_cs_dev_010_1/\n",
            "  inflating: train/meeting_cs_dev_010_1/minutes_GENER_annot19.deidentified.txt  \n",
            "  inflating: train/meeting_cs_dev_010_1/transcript_MAN2_annot05.deidentified.txt  \n",
            "   creating: train/meeting_cs_train_021_1/\n",
            "  inflating: train/meeting_cs_train_021_1/minutes_ORIG.deidentified.txt  \n",
            "  inflating: train/meeting_cs_train_021_1/transcript_MAN_annot19.deidentified.txt  \n",
            "   creating: train/meeting_cs_train_005_2/\n",
            "  inflating: train/meeting_cs_train_005_2/transcript_MAN2_annot18.deidentified.txt  \n",
            "  inflating: train/meeting_cs_train_005_2/minutes_ORIG.deidentified.txt  \n",
            "   creating: train/meeting_en_train_055_2/\n",
            "  inflating: train/meeting_en_train_055_2/transcript_MAN2_annot06.deidentified.txt  \n",
            "  inflating: train/meeting_en_train_055_2/minutes_GENER_annot06.deidentified.txt  \n",
            "   creating: train/meeting_cs_train_015/\n",
            "  inflating: train/meeting_cs_train_015/minutes_GENER_annot05.deidentified.txt  \n",
            "  inflating: train/meeting_cs_train_015/transcript_MAN2_annot05.deidentified.txt  \n",
            "   creating: train/meeting_cs_dev_003_3/\n",
            "  inflating: train/meeting_cs_dev_003_3/transcript_MAN_annot18.deidentified.txt  \n",
            "  inflating: train/meeting_cs_dev_003_3/minutes_GENER_annot02.deidentified.txt  \n",
            "   creating: train/meeting_en_test_014_1/\n",
            "  inflating: train/meeting_en_test_014_1/minutes_GENER_annot06.deidentified.txt  \n",
            "  inflating: train/meeting_en_test_014_1/transcript_MAN_annot06.deidentified.txt  \n",
            "   creating: train/meeting_cs_train_019_1/\n",
            "  inflating: train/meeting_cs_train_019_1/transcript_MAN2_annot18.deidentified.txt  \n",
            "  inflating: train/meeting_cs_train_019_1/minutes_GENER_annot18.deidentified.txt  \n",
            "   creating: train/meeting_cs_train_014_2/\n",
            "  inflating: train/meeting_cs_train_014_2/transcript_MAN_annot18.deidentified.txt  \n",
            "  inflating: train/meeting_cs_train_014_2/minutes_ORIG.deidentified.txt  \n",
            "   creating: train/meeting_en_train_062/\n",
            "  inflating: train/meeting_en_train_062/minutes_ORIG.deidentified.txt  \n",
            "  inflating: train/meeting_en_train_062/transcript_MAN_annot24.deidentified.txt  \n",
            "   creating: train/meeting_cs_dev_010_2/\n",
            "  inflating: train/meeting_cs_dev_010_2/minutes_GENER_annot18.deidentified.txt  \n",
            "  inflating: train/meeting_cs_dev_010_2/transcript_MAN2_annot05.deidentified.txt  \n",
            "   creating: train/meeting_en_train_045/\n",
            "  inflating: train/meeting_en_train_045/minutes_ORIG.deidentified.txt  \n",
            "  inflating: train/meeting_en_train_045/transcript_MAN_annot06.deidentified.txt  \n",
            "   creating: train/meeting_en_train_033_1/\n",
            "  inflating: train/meeting_en_train_033_1/transcript_MAN_annot13.deidentified.txt  \n",
            "  inflating: train/meeting_en_train_033_1/minutes_GENER_annot13.deidentified.txt  \n",
            "   creating: train/meeting_en_train_076/\n",
            "  inflating: train/meeting_en_train_076/transcript_MAN_annot07.deidentified.txt  \n",
            "  inflating: train/meeting_en_train_076/minutes_GENER_annot07.deidentified.txt  \n",
            "   creating: train/meeting_cs_test_011_1/\n",
            "  inflating: train/meeting_cs_test_011_1/transcript_MAN_annot05.deidentified.txt  \n",
            "  inflating: train/meeting_cs_test_011_1/minutes_GENER_annot05.txt  \n",
            "   creating: train/meeting_en_train_050_1/\n",
            "  inflating: train/meeting_en_train_050_1/transcript_MAN_annot07.deidentified.txt  \n",
            "  inflating: train/meeting_en_train_050_1/minutes_ORIG.deidentified.txt  \n",
            "   creating: train/meeting_en_train_058_1/\n",
            "  inflating: train/meeting_en_train_058_1/transcript_MAN_annot18.deidentified.txt  \n",
            "  inflating: train/meeting_en_train_058_1/minutes_ORIG.deidentified.txt  \n",
            "   creating: train/meeting_en_train_077_1/\n",
            "  inflating: train/meeting_en_train_077_1/minutes_ORIG.deidentified.txt  \n",
            "  inflating: train/meeting_en_train_077_1/transcript_MAN_annot13.deidentified.txt  \n",
            "   creating: train/meeting_en_train_026/\n",
            "  inflating: train/meeting_en_train_026/minutes_GENER_annot06.deidentified.txt  \n",
            "  inflating: train/meeting_en_train_026/transcript_MAN_annot06.deidentified.txt  \n",
            "   creating: train/meeting_en_train_034/\n",
            "  inflating: train/meeting_en_train_034/transcript_MAN_annot13.deidentified.txt  \n",
            "  inflating: train/meeting_en_train_034/minutes_GENER_annot13.deidentified.txt  \n",
            "   creating: train/meeting_en_train_071/\n",
            "  inflating: train/meeting_en_train_071/transcript_MAN_annot07.deidentified.txt  \n",
            "  inflating: train/meeting_en_train_071/minutes_GENER_annot07.deidentified.txt  \n",
            "   creating: train/meeting_en_train_019_1/\n",
            "  inflating: train/meeting_en_train_019_1/minutes_GENER_annot13.deidentified.txt  \n",
            "  inflating: train/meeting_en_train_019_1/transcript_MAN_annot14.deidentified.txt  \n",
            "   creating: train/meeting_en_train_084_2/\n",
            "  inflating: train/meeting_en_train_084_2/transcript_MAN_annot07.deidentified.txt  \n",
            "  inflating: train/meeting_en_train_084_2/minutes_GENER_annot06.deidentified.txt  \n",
            "   creating: train/meeting_en_dev_008/\n",
            "  inflating: train/meeting_en_dev_008/transcript_MAN_annot09.deidentified.txt  \n",
            "  inflating: train/meeting_en_dev_008/minutes_GENER_annot09.deidentified.txt  \n",
            "   creating: train/meeting_en_train_080_1/\n",
            "  inflating: train/meeting_en_train_080_1/minutes_GENER_annot12.deidentified.txt  \n",
            "  inflating: train/meeting_en_train_080_1/transcript_MAN2_annot12.deidentified.txt  \n",
            "   creating: train/meeting_en_train_021/\n",
            "  inflating: train/meeting_en_train_021/minutes_GENER_annot07.deidentified.txt  \n",
            "  inflating: train/meeting_en_train_021/transcript_MAN_annot13.deidentified.txt  \n",
            "   creating: train/meeting_cs_dev_008_1/\n",
            "  inflating: train/meeting_cs_dev_008_1/transcript_MAN2_annot18.deidentified.txt  \n",
            "  inflating: train/meeting_cs_dev_008_1/minutes_GENER_annot18.deidentified.txt  \n",
            "   creating: train/meeting_cs_train_012_1/\n",
            "  inflating: train/meeting_cs_train_012_1/minutes_GENER_annot19.deidentified.txt  \n",
            "  inflating: train/meeting_cs_train_012_1/transcript_MAN2_annot19.deidentified.txt  \n",
            "   creating: train/meeting_cs_test_009_2/\n",
            "  inflating: train/meeting_cs_test_009_2/minutes_ORIG.deidentified.txt  \n",
            "  inflating: train/meeting_cs_test_009_2/transcript_MAN_annot05.deidentified.txt  \n",
            "   creating: train/meeting_en_train_008/\n",
            "  inflating: train/meeting_en_train_008/minutes_ORIG.deidentified.txt  \n",
            "  inflating: train/meeting_en_train_008/transcript_MAN_annot06.deidentified.txt  \n",
            "   creating: train/meeting_en_dev_004_1/\n",
            "  inflating: train/meeting_en_dev_004_1/transcript_MAN_annot18.deidentified.txt  \n",
            "  inflating: train/meeting_en_dev_004_1/minutes_GENER_annot07.deidentified.txt  \n",
            "   creating: train/meeting_en_train_077/\n",
            "  inflating: train/meeting_en_train_077/minutes_GENER_annot07.deidentified.txt  \n",
            "  inflating: train/meeting_en_train_077/transcript_MAN_annot13.deidentified.txt  \n",
            "   creating: train/meeting_en_train_031/\n",
            "  inflating: train/meeting_en_train_031/transcript_MAN_annot09.deidentified.txt  \n",
            "  inflating: train/meeting_en_train_031/minutes_GENER_annot09.deidentified.txt  \n",
            "   creating: train/meeting_en_train_064/\n",
            "  inflating: train/meeting_en_train_064/transcript_MAN_annot09.deidentified.txt  \n",
            "  inflating: train/meeting_en_train_064/minutes_ORIG.deidentified.txt  \n",
            "   creating: train/meeting_en_test_003/\n",
            "  inflating: train/meeting_en_test_003/transcript_MAN_annot07.deidentified.txt  \n",
            "  inflating: train/meeting_en_test_003/minutes_GENER_annot07.deidentified.txt  \n",
            "   creating: train/meeting_cs_dev_008/\n",
            "  inflating: train/meeting_cs_dev_008/minutes_GENER_annot05.deidentified.txt  \n",
            "  inflating: train/meeting_cs_dev_008/transcript_MAN2_annot18.deidentified.txt  \n",
            "   creating: train/meeting_cs_dev_010_3/\n",
            "  inflating: train/meeting_cs_dev_010_3/transcript_MAN2_annot05.deidentified.txt  \n",
            "  inflating: train/meeting_cs_dev_010_3/minutes_GENER_annot08.deidentified.txt  \n",
            "   creating: train/meeting_en_train_058/\n",
            "  inflating: train/meeting_en_train_058/transcript_MAN_annot18.deidentified.txt  \n",
            "  inflating: train/meeting_en_train_058/minutes_GENER_annot18.deidentified.txt  \n",
            "   creating: train/meeting_en_test_012/\n",
            "  inflating: train/meeting_en_test_012/minutes_ORIG.deidentified.txt  \n",
            "  inflating: train/meeting_en_test_012/transcript_MAN2_annot02.deidentified.txt  \n",
            "   creating: train/meeting_cs_train_030_1/\n",
            "  inflating: train/meeting_cs_train_030_1/minutes_GENER_annot18.deidentified.txt  \n",
            "  inflating: train/meeting_cs_train_030_1/transcript_MAN2_annot05.deidentified.txt  \n",
            "   creating: train/meeting_cs_test_004/\n",
            "  inflating: train/meeting_cs_test_004/minutes_GENER_annot05.deidentified.txt  \n",
            "  inflating: train/meeting_cs_test_004/transcript_MAN2_annot18.deidentified.txt  \n",
            "   creating: train/meeting_en_test_016_3/\n",
            "  inflating: train/meeting_en_test_016_3/transcript_MAN_annot07.deidentified.txt  \n",
            "  inflating: train/meeting_en_test_016_3/minutes_GENER_annot01.deidentified.txt  \n",
            "   creating: train/meeting_en_dev_006_2/\n",
            "  inflating: train/meeting_en_dev_006_2/transcript_MAN_annot07.deidentified.txt  \n",
            "  inflating: train/meeting_en_dev_006_2/minutes_GENER_annot06.deidentified.txt  \n",
            "   creating: train/meeting_en_dev_010_3/\n",
            "  inflating: train/meeting_en_dev_010_3/minutes_ORIG.deidentified.txt  \n",
            "  inflating: train/meeting_en_dev_010_3/transcript_MAN2_annot21.deidentified.txt  \n",
            "   creating: train/meeting_cs_test_001_1/\n",
            "  inflating: train/meeting_cs_test_001_1/minutes_GENER_annot19.deidentified.txt  \n",
            "  inflating: train/meeting_cs_test_001_1/transcript_MAN2_annot19.deidentified.txt  \n",
            "   creating: train/meeting_en_train_051_1/\n",
            "  inflating: train/meeting_en_train_051_1/minutes_GENER_annot24.deidentified.txt  \n",
            "  inflating: train/meeting_en_train_051_1/transcript_MAN_annot24.deidentified.txt  \n",
            "   creating: train/meeting_en_train_002/\n",
            "  inflating: train/meeting_en_train_002/transcript_MAN_annot17.deidentified.txt  \n",
            "  inflating: train/meeting_en_train_002/minutes_ORIG.deidentified.txt  \n",
            "   creating: train/meeting_en_train_080/\n",
            "  inflating: train/meeting_en_train_080/minutes_ORIG.deidentified.txt  \n",
            "  inflating: train/meeting_en_train_080/transcript_MAN2_annot12.deidentified.txt  \n",
            "   creating: train/meeting_en_train_085_7/\n",
            "  inflating: train/meeting_en_train_085_7/transcript_MAN_annot07.deidentified.txt  \n",
            "  inflating: train/meeting_en_train_085_7/minutes_GENER_annot13.deidentified.txt  \n",
            "   creating: train/meeting_en_train_055_1/\n",
            "  inflating: train/meeting_en_train_055_1/minutes_ORIG.deidentified.txt  \n",
            "  inflating: train/meeting_en_train_055_1/transcript_MAN2_annot06.deidentified.txt  \n",
            "   creating: train/meeting_en_train_085_1/\n",
            "  inflating: train/meeting_en_train_085_1/transcript_MAN_annot07.deidentified.txt  \n",
            "  inflating: train/meeting_en_train_085_1/minutes_GENER_annot07.deidentified.txt  \n",
            "   creating: train/meeting_en_train_024/\n",
            "  inflating: train/meeting_en_train_024/transcript_MAN_annot18.deidentified.txt  \n",
            "  inflating: train/meeting_en_train_024/minutes_GENER_annot18.deidentified.txt  \n",
            "   creating: train/meeting_en_train_069/\n",
            "  inflating: train/meeting_en_train_069/minutes_GENER_annot07.deidentified.txt  \n",
            "  inflating: train/meeting_en_train_069/transcript_MAN2_annot13.deidentified.txt  \n",
            "   creating: train/meeting_en_test_002_9/\n",
            "  inflating: train/meeting_en_test_002_9/transcript_MAN2_annot20.deidentified.txt  \n",
            "  inflating: train/meeting_en_test_002_9/minutes_GENER_annot13.deidentified.txt  \n",
            "   creating: train/meeting_en_dev_010_5/\n",
            "  inflating: train/meeting_en_dev_010_5/minutes_GENER_annot02.deidentified.txt  \n",
            "  inflating: train/meeting_en_dev_010_5/transcript_MAN2_annot21.deidentified.txt  \n",
            "   creating: train/meeting_en_train_051/\n",
            "  inflating: train/meeting_en_train_051/minutes_ORIG.deidentified.txt  \n",
            "  inflating: train/meeting_en_train_051/transcript_MAN_annot24.deidentified.txt  \n",
            "   creating: train/meeting_en_train_004/\n",
            "  inflating: train/meeting_en_train_004/transcript_MAN_annot22.deidentified.txt  \n",
            "  inflating: train/meeting_en_train_004/minutes_GENER_annot22.deidentified.txt  \n",
            "   creating: train/meeting_en_train_084/\n",
            "  inflating: train/meeting_en_train_084/transcript_MAN_annot07.deidentified.txt  \n",
            "  inflating: train/meeting_en_train_084/minutes_GENER_annot07.deidentified.txt  \n",
            "   creating: train/meeting_en_train_072_2/\n",
            "  inflating: train/meeting_en_train_072_2/transcript_MAN2_annot11.deidentified.txt  \n",
            "  inflating: train/meeting_en_train_072_2/minutes_GENER_annot06.deidentified.txt  \n",
            "   creating: train/meeting_en_dev_010_2/\n",
            "  inflating: train/meeting_en_dev_010_2/minutes_GENER_annot97.deidentified.txt  \n",
            "  inflating: train/meeting_en_dev_010_2/transcript_MAN2_annot21.deidentified.txt  \n",
            "   creating: train/meeting_cs_test_002_3/\n",
            "  inflating: train/meeting_cs_test_002_3/transcript_MAN_annot18.deidentified.txt  \n",
            "  inflating: train/meeting_cs_test_002_3/minutes_GENER_annot08.deidentified.txt  \n",
            "   creating: train/meeting_en_train_007/\n",
            "  inflating: train/meeting_en_train_007/minutes_ORIG.deidentified.txt  \n",
            "  inflating: train/meeting_en_train_007/transcript_MAN_annot13.deidentified.txt  \n",
            "   creating: train/meeting_en_dev_009_1/\n",
            "  inflating: train/meeting_en_dev_009_1/transcript_MAN2_annot06.deidentified.txt  \n",
            "  inflating: train/meeting_en_dev_009_1/minutes_GENER_annot06.deidentified.txt  \n",
            "   creating: train/meeting_en_train_060_1/\n",
            "  inflating: train/meeting_en_train_060_1/transcript_MAN_annot07.deidentified.txt  \n",
            "  inflating: train/meeting_en_train_060_1/minutes_ORIG.deidentified.txt  \n",
            "   creating: train/meeting_en_train_049/\n",
            "  inflating: train/meeting_en_train_049/minutes_GENER_annot11.deidentified.txt  \n",
            "  inflating: train/meeting_en_train_049/transcript_MAN2_annot13.deidentified.txt  \n",
            "   creating: train/meeting_en_test_002_2/\n",
            "  inflating: train/meeting_en_test_002_2/minutes_GENER_annot11.deidentified.txt  \n",
            "  inflating: train/meeting_en_test_002_2/transcript_MAN2_annot20.deidentified.txt  \n",
            "   creating: train/meeting_en_train_076_1/\n",
            "  inflating: train/meeting_en_train_076_1/transcript_MAN_annot07.deidentified.txt  \n",
            "  inflating: train/meeting_en_train_076_1/minutes_ORIG.deidentified.txt  \n",
            "   creating: train/meeting_en_train_030_1/\n",
            "  inflating: train/meeting_en_train_030_1/transcript_MAN_annot01.deidentified.txt  \n",
            "  inflating: train/meeting_en_train_030_1/minutes_GENER_annot01.deidentified.txt  \n",
            "   creating: train/meeting_cs_train_030/\n",
            "  inflating: train/meeting_cs_train_030/minutes_GENER_annot05.deidentified.txt  \n",
            "  inflating: train/meeting_cs_train_030/transcript_MAN2_annot05.deidentified.txt  \n",
            "   creating: train/meeting_en_test_016_2/\n",
            "  inflating: train/meeting_en_test_016_2/transcript_MAN_annot07.deidentified.txt  \n",
            "  inflating: train/meeting_en_test_016_2/minutes_GENER_annot02.deidentified.txt  \n",
            "   creating: train/meeting_cs_train_025_1/\n",
            "  inflating: train/meeting_cs_train_025_1/minutes_ORIG.deidentified.txt  \n",
            "  inflating: train/meeting_cs_train_025_1/transcript_MAN_annot05.deidentified.txt  \n",
            "   creating: train/meeting_en_test_005/\n",
            "  inflating: train/meeting_en_test_005/transcript_MAN_annot09.deidentified.txt  \n",
            "  inflating: train/meeting_en_test_005/minutes_ORIG.deidentified.txt  \n",
            "   creating: train/meeting_en_train_043/\n",
            "  inflating: train/meeting_en_train_043/minutes_GENER_annot24.deidentified.txt  \n",
            "  inflating: train/meeting_en_train_043/transcript_MAN_annot24.deidentified.txt  \n",
            "   creating: train/meeting_cs_train_028/\n",
            "  inflating: train/meeting_cs_train_028/minutes_GENER_annot05.deidentified.txt  \n",
            "  inflating: train/meeting_cs_train_028/transcript_MAN2_annot05.deidentified.txt  \n",
            "   creating: train/meeting_cs_train_009/\n",
            "  inflating: train/meeting_cs_train_009/minutes_GENER_annot19.deidentified.txt  \n",
            "  inflating: train/meeting_cs_train_009/transcript_MAN_annot18.deidentified.txt  \n",
            "   creating: train/meeting_en_test_008/\n",
            "  inflating: train/meeting_en_test_008/transcript_MAN2_annot22.deidentified.txt  \n",
            "  inflating: train/meeting_en_test_008/minutes_ORIG.deidentified.txt  \n",
            "   creating: train/meeting_en_train_041/\n",
            "  inflating: train/meeting_en_train_041/transcript_MAN_annot08.deidentified.txt  \n",
            "  inflating: train/meeting_en_train_041/minutes_ORIG.deidentified.txt  \n",
            "   creating: train/meeting_en_test_002_7/\n",
            "  inflating: train/meeting_en_test_002_7/transcript_MAN2_annot20.deidentified.txt  \n",
            "  inflating: train/meeting_en_test_002_7/minutes_GENER_annot02.deidentified.txt  \n",
            "   creating: train/meeting_en_train_001_1/\n",
            "  inflating: train/meeting_en_train_001_1/minutes_GENER_annot02.deidentified.txt  \n",
            "  inflating: train/meeting_en_train_001_1/transcript_MAN2_annot02.deidentified.txt  \n",
            "   creating: train/meeting_en_test_017_1/\n",
            "  inflating: train/meeting_en_test_017_1/transcript_MAN2_annot07.deidentified.txt  \n",
            "  inflating: train/meeting_en_test_017_1/minutes_ORIG.deidentified.txt  \n",
            "   creating: train/meeting_cs_test_003_1/\n",
            "  inflating: train/meeting_cs_test_003_1/transcript_MAN_annot18.deidentified.txt  \n",
            "  inflating: train/meeting_cs_test_003_1/minutes_GENER_annot18.deidentified.txt  \n",
            "   creating: train/meeting_en_test_006_1/\n",
            "  inflating: train/meeting_en_test_006_1/minutes_GENER_annot16.deidentified.txt  \n",
            "  inflating: train/meeting_en_test_006_1/transcript_MAN_annot16.deidentified.txt  \n",
            "   creating: train/meeting_cs_train_004/\n",
            "  inflating: train/meeting_cs_train_004/minutes_GENER_annot19.deidentified.txt  \n",
            "  inflating: train/meeting_cs_train_004/transcript_MAN_annot19.deidentified.txt  \n",
            "   creating: train/meeting_en_test_006/\n",
            "  inflating: train/meeting_en_test_006/minutes_ORIG.deidentified.txt  \n",
            "  inflating: train/meeting_en_test_006/transcript_MAN_annot16.deidentified.txt  \n",
            "   creating: train/meeting_en_train_060/\n",
            "  inflating: train/meeting_en_train_060/transcript_MAN_annot07.deidentified.txt  \n",
            "  inflating: train/meeting_en_train_060/minutes_GENER_annot07.deidentified.txt  \n",
            "   creating: train/meeting_cs_test_007_2/\n",
            "  inflating: train/meeting_cs_test_007_2/transcript_MAN_annot18.deidentified.txt  \n",
            "  inflating: train/meeting_cs_test_007_2/minutes_ORIG.deidentified.txt  \n",
            "   creating: train/meeting_cs_train_019_2/\n",
            "  inflating: train/meeting_cs_train_019_2/transcript_MAN2_annot18.deidentified.txt  \n",
            "  inflating: train/meeting_cs_train_019_2/minutes_ORIG.deidentified.txt  \n",
            "   creating: train/meeting_en_train_081/\n",
            "  inflating: train/meeting_en_train_081/minutes_ORIG.deidentified.txt  \n",
            "  inflating: train/meeting_en_train_081/transcript_MAN_annot24.deidentified.txt  \n",
            "   creating: train/meeting_en_test_011_1/\n",
            "  inflating: train/meeting_en_test_011_1/minutes_GENER_annot24.deidentified.txt  \n",
            "  inflating: train/meeting_en_test_011_1/transcript_MAN_annot24.deidentified.txt  \n",
            "   creating: train/meeting_en_test_018_2/\n",
            "  inflating: train/meeting_en_test_018_2/transcript_MAN_annot23.deidentified.txt  \n",
            "  inflating: train/meeting_en_test_018_2/minutes_GENER_annot17.deidentified.txt  \n",
            "   creating: train/meeting_en_train_081_1/\n",
            "  inflating: train/meeting_en_train_081_1/minutes_GENER_annot24.deidentified.txt  \n",
            "  inflating: train/meeting_en_train_081_1/transcript_MAN_annot24.deidentified.txt  \n",
            "   creating: train/meeting_en_train_042/\n",
            "  inflating: train/meeting_en_train_042/minutes_GENER_annot11.deidentified.txt  \n",
            "  inflating: train/meeting_en_train_042/transcript_MAN_annot11.deidentified.txt  \n",
            "   creating: train/meeting_cs_train_006_1/\n",
            "  inflating: train/meeting_cs_train_006_1/minutes_GENER_annot18.deidentified.txt  \n",
            "  inflating: train/meeting_cs_train_006_1/transcript_MAN2_annot05.deidentified.txt  \n",
            "   creating: train/meeting_cs_train_017_2/\n",
            "  inflating: train/meeting_cs_train_017_2/minutes_ORIG.deidentified.txt  \n",
            "  inflating: train/meeting_cs_train_017_2/transcript_MAN2_annot05.deidentified.txt  \n",
            "   creating: train/meeting_cs_train_030_2/\n",
            "  inflating: train/meeting_cs_train_030_2/minutes_ORIG.deidentified.txt  \n",
            "  inflating: train/meeting_cs_train_030_2/transcript_MAN2_annot05.deidentified.txt  \n",
            "   creating: train/meeting_en_train_057/\n",
            "  inflating: train/meeting_en_train_057/transcript_MAN_annot17.deidentified.txt  \n",
            "  inflating: train/meeting_en_train_057/minutes_GENER_annot17.deidentified.txt  \n",
            "   creating: train/meeting_en_train_083/\n",
            "  inflating: train/meeting_en_train_083/transcript_MAN_annot08.deidentified.txt  \n",
            "  inflating: train/meeting_en_train_083/minutes_ORIG.deidentified.txt  \n",
            "   creating: train/meeting_cs_train_016/\n",
            "  inflating: train/meeting_cs_train_016/minutes_GENER_annot05.deidentified.txt  \n",
            "  inflating: train/meeting_cs_train_016/transcript_MAN2_annot05.deidentified.txt  \n",
            "   creating: train/meeting_cs_test_010_1/\n",
            "  inflating: train/meeting_cs_test_010_1/transcript_MAN_annot18.deidentified.txt  \n",
            "  inflating: train/meeting_cs_test_010_1/minutes_GENER_annot18.deidentified.txt  \n",
            "   creating: train/meeting_en_train_040/\n",
            "  inflating: train/meeting_en_train_040/minutes_GENER_annot10.deidentified.txt  \n",
            "  inflating: train/meeting_en_train_040/transcript_MAN_annot10.deidentified.txt  \n",
            "   creating: train/meeting_en_train_073/\n",
            "  inflating: train/meeting_en_train_073/transcript_MAN_annot22.deidentified.txt  \n",
            "  inflating: train/meeting_en_train_073/minutes_GENER_annot22.deidentified.txt  \n",
            "   creating: train/meeting_en_test_010_2/\n",
            "  inflating: train/meeting_en_test_010_2/transcript_MAN_annot03.deidentified.txt  \n",
            "  inflating: train/meeting_en_test_010_2/minutes_GENER_annot02.deidentified.txt  \n",
            "   creating: train/meeting_cs_train_008_2/\n",
            " extracting: train/meeting_cs_train_008_2/minutes_ORIG.deidentified.txt  \n",
            "  inflating: train/meeting_cs_train_008_2/transcript_MAN2_annot05.deidentified.txt  \n",
            "   creating: train/meeting_en_train_056_1/\n",
            "  inflating: train/meeting_en_train_056_1/minutes_GENER_annot06.deidentified.txt  \n",
            "  inflating: train/meeting_en_train_056_1/transcript_MAN_annot06.deidentified.txt  \n",
            "   creating: train/meeting_en_train_035_2/\n",
            "  inflating: train/meeting_en_train_035_2/transcript_MAN2_annot17.deidentified.txt  \n",
            "  inflating: train/meeting_en_train_035_2/minutes_GENER_annot17.deidentified.txt  \n",
            "   creating: train/meeting_en_train_071_1/\n",
            "  inflating: train/meeting_en_train_071_1/transcript_MAN_annot07.deidentified.txt  \n",
            "  inflating: train/meeting_en_train_071_1/minutes_ORIG.deidentified.txt  \n",
            "   creating: train/meeting_en_test_015/\n",
            "  inflating: train/meeting_en_test_015/transcript_MAN_annot18.deidentified.txt  \n",
            "  inflating: train/meeting_en_test_015/minutes_GENER_annot18.deidentified.txt  \n",
            "   creating: train/meeting_en_train_085_5/\n",
            "  inflating: train/meeting_en_train_085_5/transcript_MAN_annot07.deidentified.txt  \n",
            "  inflating: train/meeting_en_train_085_5/minutes_GENER_annot99.deidentified.txt  \n",
            "   creating: train/meeting_cs_test_001/\n",
            "  inflating: train/meeting_cs_test_001/minutes_GENER_annot05.deidentified.txt  \n",
            "  inflating: train/meeting_cs_test_001/transcript_MAN2_annot19.deidentified.txt  \n",
            "   creating: train/meeting_en_test_003_2/\n",
            "  inflating: train/meeting_en_test_003_2/transcript_MAN_annot07.deidentified.txt  \n",
            "  inflating: train/meeting_en_test_003_2/minutes_GENER_annot06.deidentified.txt  \n",
            "   creating: train/meeting_en_train_036/\n",
            "  inflating: train/meeting_en_train_036/transcript_MAN_annot08.deidentified.txt  \n",
            "  inflating: train/meeting_en_train_036/minutes_ORIG.deidentified.txt  \n",
            "   creating: train/meeting_en_train_036_1/\n",
            "  inflating: train/meeting_en_train_036_1/transcript_MAN_annot08.deidentified.txt  \n",
            "  inflating: train/meeting_en_train_036_1/minutes_GENER_annot08.deidentified.txt  \n",
            "   creating: train/meeting_en_train_065/\n",
            "  inflating: train/meeting_en_train_065/minutes_GENER_annot12.deidentified.txt  \n",
            "  inflating: train/meeting_en_train_065/transcript_MAN_annot12.deidentified.txt  \n",
            "   creating: train/meeting_cs_train_029/\n",
            "  inflating: train/meeting_cs_train_029/minutes_GENER_annot05.deidentified.txt  \n",
            "  inflating: train/meeting_cs_train_029/transcript_MAN2_annot18.deidentified.txt  \n",
            "   creating: train/meeting_en_train_022_1/\n",
            "  inflating: train/meeting_en_train_022_1/transcript_MAN_annot13.deidentified.txt  \n",
            "  inflating: train/meeting_en_train_022_1/minutes_GENER_annot13.deidentified.txt  \n",
            "   creating: train/meeting_en_dev_004/\n",
            "  inflating: train/meeting_en_dev_004/transcript_MAN_annot18.deidentified.txt  \n",
            "  inflating: train/meeting_en_dev_004/minutes_GENER_annot18.deidentified.txt  \n",
            "   creating: train/meeting_en_train_028_1/\n",
            "  inflating: train/meeting_en_train_028_1/transcript_MAN_annot15.deidentified.txt  \n",
            "  inflating: train/meeting_en_train_028_1/minutes_GENER_annot15.deidentified.txt  \n",
            "   creating: train/meeting_en_dev_010_7/\n",
            "  inflating: train/meeting_en_dev_010_7/minutes_GENER_annot01.deidentified.txt  \n",
            "  inflating: train/meeting_en_dev_010_7/transcript_MAN2_annot21.deidentified.txt  \n",
            "   creating: train/meeting_en_train_056/\n",
            "  inflating: train/meeting_en_train_056/minutes_ORIG.deidentified.txt  \n",
            "  inflating: train/meeting_en_train_056/transcript_MAN_annot06.deidentified.txt  \n",
            "   creating: train/meeting_en_test_016/\n",
            "  inflating: train/meeting_en_test_016/transcript_MAN_annot07.deidentified.txt  \n",
            "  inflating: train/meeting_en_test_016/minutes_GENER_annot07.deidentified.txt  \n",
            "   creating: train/meeting_en_train_049_1/\n",
            "  inflating: train/meeting_en_train_049_1/transcript_MAN2_annot13.deidentified.txt  \n",
            "  inflating: train/meeting_en_train_049_1/minutes_GENER_annot13.deidentified.txt  \n",
            "   creating: train/meeting_en_train_075_1/\n",
            "  inflating: train/meeting_en_train_075_1/transcript_MAN3_annot06.deidentified.txt  \n",
            "  inflating: train/meeting_en_train_075_1/minutes_GENER_annot06.deidentified.txt  \n",
            "   creating: train/meeting_cs_train_024/\n",
            "  inflating: train/meeting_cs_train_024/transcript_MAN_annot18.deidentified.txt  \n",
            "  inflating: train/meeting_cs_train_024/minutes_GENER_annot18.deidentified.txt  \n",
            "   creating: train/meeting_en_test_001_1/\n",
            "  inflating: train/meeting_en_test_001_1/transcript_MAN2_annot24.deidentified.txt  \n",
            "  inflating: train/meeting_en_test_001_1/minutes_GENER_annot02.deidentified.txt  \n",
            "   creating: train/meeting_en_train_010_1/\n",
            "  inflating: train/meeting_en_train_010_1/minutes_GENER_annot12.deidentified.txt  \n",
            "  inflating: train/meeting_en_train_010_1/transcript_MAN_annot12.deidentified.txt  \n",
            "   creating: train/meeting_en_train_021_1/\n",
            "  inflating: train/meeting_en_train_021_1/transcript_MAN_annot13.deidentified.txt  \n",
            "  inflating: train/meeting_en_train_021_1/minutes_GENER_annot13.deidentified.txt  \n",
            "   creating: train/meeting_en_dev_010_6/\n",
            "  inflating: train/meeting_en_dev_010_6/minutes_GENER_annot95.deidentified.txt  \n",
            "  inflating: train/meeting_en_dev_010_6/transcript_MAN2_annot21.deidentified.txt  \n",
            "   creating: train/meeting_cs_train_011_1/\n",
            "  inflating: train/meeting_cs_train_011_1/minutes_GENER_annot18.deidentified.txt  \n",
            "  inflating: train/meeting_cs_train_011_1/transcript_MAN2_annot05.deidentified.txt  \n",
            "   creating: train/meeting_cs_dev_007_2/\n",
            "  inflating: train/meeting_cs_dev_007_2/minutes_ORIG.deidentified.txt  \n",
            "  inflating: train/meeting_cs_dev_007_2/transcript_MAN2_annot05.deidentified.txt  \n",
            "   creating: train/meeting_en_dev_007/\n",
            "  inflating: train/meeting_en_dev_007/transcript_MAN2_annot07.deidentified.txt  \n",
            "  inflating: train/meeting_en_dev_007/minutes_GENER_annot07.deidentified.txt  \n",
            "   creating: train/meeting_cs_train_007_1/\n",
            "  inflating: train/meeting_cs_train_007_1/minutes_ORIG.deidentified.txt  \n",
            "  inflating: train/meeting_cs_train_007_1/transcript_MAN_annot05.deidentified.txt  \n",
            "   creating: train/meeting_cs_train_028_2/\n",
            "  inflating: train/meeting_cs_train_028_2/minutes_ORIG.deidentified.txt  \n",
            "  inflating: train/meeting_cs_train_028_2/transcript_MAN2_annot05.deidentified.txt  \n",
            "   creating: train/meeting_en_train_023_1/\n",
            "  inflating: train/meeting_en_train_023_1/transcript_MAN_annot07.deidentified.txt  \n",
            "  inflating: train/meeting_en_train_023_1/minutes_ORIG.deidentified.txt  \n",
            "   creating: train/meeting_cs_test_016_1/\n",
            "  inflating: train/meeting_cs_test_016_1/transcript_MAN_annot05.deidentified.txt  \n",
            "  inflating: train/meeting_cs_test_016_1/minutes_GENER_annot05.txt  \n",
            "   creating: train/meeting_en_train_082_1/\n",
            "  inflating: train/meeting_en_train_082_1/minutes_GENER_annot02.deidentified.txt  \n",
            "  inflating: train/meeting_en_train_082_1/transcript_MAN_annot02.deidentified.txt  \n",
            "   creating: train/meeting_cs_test_007_1/\n",
            "  inflating: train/meeting_cs_test_007_1/transcript_MAN_annot18.deidentified.txt  \n",
            "  inflating: train/meeting_cs_test_007_1/minutes_GENER_annot18.deidentified.txt  \n",
            "   creating: train/meeting_en_train_085_4/\n",
            "  inflating: train/meeting_en_train_085_4/transcript_MAN_annot07.deidentified.txt  \n",
            "  inflating: train/meeting_en_train_085_4/minutes_GENER_annot09.deidentified.txt  \n",
            "   creating: train/meeting_cs_dev_008_2/\n",
            "  inflating: train/meeting_cs_dev_008_2/transcript_MAN2_annot18.deidentified.txt  \n",
            "  inflating: train/meeting_cs_dev_008_2/minutes_ORIG.deidentified.txt  \n",
            "   creating: train/meeting_en_train_046/\n",
            "  inflating: train/meeting_en_train_046/minutes_GENER_annot11.deidentified.txt  \n",
            "  inflating: train/meeting_en_train_046/transcript_MAN_annot11.deidentified.txt  \n",
            "   creating: train/meeting_cs_train_008/\n",
            "  inflating: train/meeting_cs_train_008/minutes_GENER_annot05.deidentified.txt  \n",
            "  inflating: train/meeting_cs_train_008/transcript_MAN2_annot05.deidentified.txt  \n",
            "   creating: train/meeting_cs_train_016_1/\n",
            "  inflating: train/meeting_cs_train_016_1/minutes_GENER_annot18.deidentified.txt  \n",
            "  inflating: train/meeting_cs_train_016_1/transcript_MAN2_annot05.deidentified.txt  \n",
            "   creating: train/meeting_cs_test_008/\n",
            "  inflating: train/meeting_cs_test_008/minutes_GENER_annot19.deidentified.txt  \n",
            "  inflating: train/meeting_cs_test_008/transcript_MAN_annot18.deidentified.txt  \n",
            "   creating: train/meeting_cs_train_002/\n",
            "  inflating: train/meeting_cs_train_002/minutes_GENER_annot19.deidentified.txt  \n",
            "  inflating: train/meeting_cs_train_002/transcript_MAN_annot19.deidentified.txt  \n",
            "   creating: train/meeting_en_train_007_1/\n",
            "  inflating: train/meeting_en_train_007_1/transcript_MAN_annot13.deidentified.txt  \n",
            "  inflating: train/meeting_en_train_007_1/minutes_GENER_annot13.deidentified.txt  \n",
            "   creating: train/meeting_en_train_085/\n",
            "  inflating: train/meeting_en_train_085/transcript_MAN_annot07.deidentified.txt  \n",
            "  inflating: train/meeting_en_train_085/minutes_GENER_annot11.deidentified.txt  \n",
            "   creating: train/meeting_cs_test_002_2/\n",
            "  inflating: train/meeting_cs_test_002_2/transcript_MAN_annot18.deidentified.txt  \n",
            "  inflating: train/meeting_cs_test_002_2/minutes_ORIG.deidentified.txt  \n",
            "   creating: train/meeting_cs_dev_005_2/\n",
            "  inflating: train/meeting_cs_dev_005_2/minutes_ORIG.deidentified.txt  \n",
            "  inflating: train/meeting_cs_dev_005_2/transcript_MAN2_annot05.deidentified.txt  \n",
            "   creating: train/meeting_cs_train_016_2/\n",
            "  inflating: train/meeting_cs_train_016_2/minutes_ORIG.deidentified.txt  \n",
            "  inflating: train/meeting_cs_train_016_2/transcript_MAN2_annot05.deidentified.txt  \n",
            "   creating: train/meeting_en_dev_009_3/\n",
            "  inflating: train/meeting_en_dev_009_3/transcript_MAN2_annot06.deidentified.txt  \n",
            "  inflating: train/meeting_en_dev_009_3/minutes_GENER_annot01.deidentified.txt  \n",
            "   creating: train/meeting_cs_dev_004/\n",
            "  inflating: train/meeting_cs_dev_004/minutes_GENER_annot05.deidentified.txt  \n",
            "  inflating: train/meeting_cs_dev_004/transcript_MAN2_annot05.deidentified.txt  \n",
            "   creating: train/meeting_en_train_039/\n",
            "  inflating: train/meeting_en_train_039/transcript_MAN2_annot09.deidentified.txt  \n",
            "  inflating: train/meeting_en_train_039/minutes_ORIG.deidentified.txt  \n",
            "   creating: train/meeting_en_train_084_1/\n",
            "  inflating: train/meeting_en_train_084_1/transcript_MAN_annot07.deidentified.txt  \n",
            "  inflating: train/meeting_en_train_084_1/minutes_ORIG.deidentified.txt  \n",
            "   creating: train/meeting_cs_train_006/\n",
            "  inflating: train/meeting_cs_train_006/minutes_GENER_annot05.deidentified.txt  \n",
            "  inflating: train/meeting_cs_train_006/transcript_MAN2_annot05.deidentified.txt  \n",
            "   creating: train/meeting_cs_train_026/\n",
            "  inflating: train/meeting_cs_train_026/minutes_GENER_annot05.deidentified.txt  \n",
            "  inflating: train/meeting_cs_train_026/transcript_MAN_annot05.deidentified.txt  \n",
            "   creating: train/meeting_en_train_061/\n",
            "  inflating: train/meeting_en_train_061/minutes_GENER_annot06.deidentified.txt  \n",
            "  inflating: train/meeting_en_train_061/transcript_MAN_annot06.deidentified.txt  \n",
            "   creating: train/meeting_en_train_047/\n",
            "  inflating: train/meeting_en_train_047/transcript_MAN_annot09.deidentified.txt  \n",
            "  inflating: train/meeting_en_train_047/minutes_ORIG.deidentified.txt  \n",
            "   creating: train/meeting_cs_train_017/\n",
            "  inflating: train/meeting_cs_train_017/minutes_GENER_annot05.deidentified.txt  \n",
            "  inflating: train/meeting_cs_train_017/transcript_MAN2_annot05.deidentified.txt  \n",
            "   creating: train/meeting_cs_dev_003_4/\n",
            "  inflating: train/meeting_cs_dev_003_4/transcript_MAN_annot18.deidentified.txt  \n",
            "  inflating: train/meeting_cs_dev_003_4/minutes_GENER_annot08.deidentified.txt  \n",
            "   creating: train/meeting_en_train_045_1/\n",
            "  inflating: train/meeting_en_train_045_1/minutes_GENER_annot06.deidentified.txt  \n",
            "  inflating: train/meeting_en_train_045_1/transcript_MAN_annot06.deidentified.txt  \n",
            "   creating: train/meeting_en_train_002_1/\n",
            "  inflating: train/meeting_en_train_002_1/transcript_MAN_annot17.deidentified.txt  \n",
            "  inflating: train/meeting_en_train_002_1/minutes_GENER_annot17.deidentified.txt  \n",
            "   creating: train/meeting_en_train_035_1/\n",
            "  inflating: train/meeting_en_train_035_1/minutes_ORIG.deidentified.txt  \n",
            "  inflating: train/meeting_en_train_035_1/transcript_MAN2_annot17.deidentified.txt  \n",
            "   creating: train/meeting_cs_test_006_4/\n",
            "  inflating: train/meeting_cs_test_006_4/transcript_MAN_annot18.deidentified.txt  \n",
            "  inflating: train/meeting_cs_test_006_4/minutes_GENER_annot08.deidentified.txt  \n",
            "   creating: train/meeting_cs_train_032/\n",
            "  inflating: train/meeting_cs_train_032/minutes_GENER_annot05.deidentified.txt  \n",
            "  inflating: train/meeting_cs_train_032/transcript_MAN2_annot19.deidentified.txt  \n",
            "   creating: train/meeting_en_train_067_1/\n",
            "  inflating: train/meeting_en_train_067_1/transcript_MAN_annot08.deidentified.txt  \n",
            "  inflating: train/meeting_en_train_067_1/minutes_GENER_annot08.deidentified.txt  \n",
            "   creating: train/meeting_cs_train_014/\n",
            "  inflating: train/meeting_cs_train_014/minutes_GENER_annot05.deidentified.txt  \n",
            "  inflating: train/meeting_cs_train_014/transcript_MAN_annot18.deidentified.txt  \n",
            "   creating: train/meeting_cs_dev_004_2/\n",
            "  inflating: train/meeting_cs_dev_004_2/minutes_ORIG.deidentified.txt  \n",
            "  inflating: train/meeting_cs_dev_004_2/transcript_MAN2_annot05.deidentified.txt  \n",
            "   creating: train/meeting_en_dev_009/\n",
            "  inflating: train/meeting_en_dev_009/minutes_ORIG.deidentified.txt  \n",
            "  inflating: train/meeting_en_dev_009/transcript_MAN2_annot06.deidentified.txt  \n",
            "   creating: train/meeting_cs_test_006_3/\n",
            "  inflating: train/meeting_cs_test_006_3/transcript_MAN_annot18.deidentified.txt  \n",
            "  inflating: train/meeting_cs_test_006_3/minutes_ORIG.deidentified.txt  \n",
            "   creating: train/meeting_en_test_018/\n",
            "  inflating: train/meeting_en_test_018/minutes_ORIG.deidentified.txt  \n",
            "  inflating: train/meeting_en_test_018/transcript_MAN_annot23.deidentified.txt  \n",
            "   creating: train/meeting_cs_dev_004_1/\n",
            "  inflating: train/meeting_cs_dev_004_1/minutes_GENER_annot18.deidentified.txt  \n",
            "  inflating: train/meeting_cs_dev_004_1/transcript_MAN2_annot05.deidentified.txt  \n",
            "   creating: train/meeting_en_dev_010/\n",
            "  inflating: train/meeting_en_dev_010/minutes_GENER_annot21.deidentified.txt  \n",
            "  inflating: train/meeting_en_dev_010/transcript_MAN2_annot21.deidentified.txt  \n",
            "   creating: train/meeting_cs_test_005/\n",
            "  inflating: train/meeting_cs_test_005/minutes_GENER_annot05.deidentified.txt  \n",
            "  inflating: train/meeting_cs_test_005/transcript_MAN_annot18.deidentified.txt  \n",
            "   creating: train/meeting_cs_dev_006_1/\n",
            "  inflating: train/meeting_cs_dev_006_1/transcript_MAN_annot18.deidentified.txt  \n",
            "  inflating: train/meeting_cs_dev_006_1/minutes_GENER_annot18.deidentified.txt  \n",
            "   creating: train/meeting_en_test_003_1/\n",
            "  inflating: train/meeting_en_test_003_1/transcript_MAN_annot07.deidentified.txt  \n",
            "  inflating: train/meeting_en_test_003_1/minutes_ORIG.deidentified.txt  \n",
            "   creating: train/meeting_cs_train_009_2/\n",
            "  inflating: train/meeting_cs_train_009_2/transcript_MAN_annot18.deidentified.txt  \n",
            "  inflating: train/meeting_cs_train_009_2/minutes_ORIG.deidentified.txt  \n",
            "   creating: train/meeting_en_train_037/\n",
            "  inflating: train/meeting_en_train_037/minutes_GENER_annot02.deidentified.txt  \n",
            "  inflating: train/meeting_en_train_037/transcript_MAN_annot02.deidentified.txt  \n",
            "   creating: train/meeting_en_train_053/\n",
            "  inflating: train/meeting_en_train_053/minutes_ORIG.deidentified.txt  \n",
            "  inflating: train/meeting_en_train_053/transcript_MAN_annot06.deidentified.txt  \n",
            "   creating: train/meeting_en_train_052/\n",
            "  inflating: train/meeting_en_train_052/transcript_MAN_annot17.deidentified.txt  \n",
            "  inflating: train/meeting_en_train_052/minutes_ORIG.deidentified.txt  \n",
            "   creating: train/meeting_cs_train_010/\n",
            "  inflating: train/meeting_cs_train_010/minutes_GENER_annot05.deidentified.txt  \n",
            "  inflating: train/meeting_cs_train_010/transcript_MAN2_annot05.deidentified.txt  \n",
            "   creating: train/meeting_cs_train_033/\n",
            "  inflating: train/meeting_cs_train_033/minutes_GENER_annot05.deidentified.txt  \n",
            "  inflating: train/meeting_cs_train_033/transcript_MAN_annot05.deidentified.txt  \n",
            "   creating: train/meeting_en_train_005/\n",
            "  inflating: train/meeting_en_train_005/transcript_MAN_annot15.deidentified.txt  \n",
            "  inflating: train/meeting_en_train_005/minutes_GENER_annot15.deidentified.txt  \n",
            "   creating: train/meeting_en_test_010_1/\n",
            "  inflating: train/meeting_en_test_010_1/transcript_MAN_annot03.deidentified.txt  \n",
            "  inflating: train/meeting_en_test_010_1/minutes_ORIG.deidentified.txt  \n",
            "   creating: train/meeting_en_train_041_1/\n",
            "  inflating: train/meeting_en_train_041_1/transcript_MAN_annot08.deidentified.txt  \n",
            "  inflating: train/meeting_en_train_041_1/minutes_GENER_annot08.deidentified.txt  \n",
            "   creating: train/meeting_en_train_052_1/\n",
            "  inflating: train/meeting_en_train_052_1/transcript_MAN_annot17.deidentified.txt  \n",
            "  inflating: train/meeting_en_train_052_1/minutes_GENER_annot17.deidentified.txt  \n",
            "   creating: train/meeting_cs_train_012/\n",
            "  inflating: train/meeting_cs_train_012/minutes_GENER_annot05.deidentified.txt  \n",
            "  inflating: train/meeting_cs_train_012/transcript_MAN2_annot19.deidentified.txt  \n",
            "   creating: train/meeting_en_train_027/\n",
            "  inflating: train/meeting_en_train_027/transcript_MAN_annot08.deidentified.txt  \n",
            "  inflating: train/meeting_en_train_027/minutes_GENER_annot08.deidentified.txt  \n",
            "   creating: train/meeting_cs_train_018/\n",
            "  inflating: train/meeting_cs_train_018/minutes_GENER_annot19.deidentified.txt  \n",
            "  inflating: train/meeting_cs_train_018/transcript_MAN_annot18.deidentified.txt  \n",
            "   creating: train/meeting_en_test_005_1/\n",
            "  inflating: train/meeting_en_test_005_1/transcript_MAN_annot09.deidentified.txt  \n",
            "  inflating: train/meeting_en_test_005_1/minutes_GENER_annot09.deidentified.txt  \n",
            "   creating: train/meeting_en_test_012_1/\n",
            "  inflating: train/meeting_en_test_012_1/minutes_GENER_annot02.deidentified.txt  \n",
            "  inflating: train/meeting_en_test_012_1/transcript_MAN2_annot02.deidentified.txt  \n",
            "   creating: train/meeting_cs_test_010/\n",
            "  inflating: train/meeting_cs_test_010/minutes_GENER_annot19.deidentified.txt  \n",
            "  inflating: train/meeting_cs_test_010/transcript_MAN_annot18.deidentified.txt  \n",
            "   creating: train/meeting_cs_train_012_2/\n",
            "  inflating: train/meeting_cs_train_012_2/minutes_ORIG.deidentified.txt  \n",
            "  inflating: train/meeting_cs_train_012_2/transcript_MAN2_annot19.deidentified.txt  \n",
            "   creating: train/meeting_cs_dev_005_1/\n",
            "  inflating: train/meeting_cs_dev_005_1/minutes_GENER_annot19.deidentified.txt  \n",
            "  inflating: train/meeting_cs_dev_005_1/transcript_MAN2_annot05.deidentified.txt  \n",
            "   creating: train/meeting_cs_train_011/\n",
            "  inflating: train/meeting_cs_train_011/minutes_GENER_annot05.deidentified.txt  \n",
            "  inflating: train/meeting_cs_train_011/transcript_MAN2_annot05.deidentified.txt  \n",
            "   creating: train/meeting_en_test_013_1/\n",
            "  inflating: train/meeting_en_test_013_1/minutes_GENER_annot20.deidentified.txt  \n",
            "  inflating: train/meeting_en_test_013_1/transcript_MAN_annot20.deidentified.txt  \n",
            "   creating: train/meeting_en_train_072/\n",
            "  inflating: train/meeting_en_train_072/transcript_MAN2_annot11.deidentified.txt  \n",
            "  inflating: train/meeting_en_train_072/minutes_GENER_annot11.deidentified.txt  \n",
            "   creating: train/meeting_en_dev_006_1/\n",
            "  inflating: train/meeting_en_dev_006_1/transcript_MAN_annot07.deidentified.txt  \n",
            "  inflating: train/meeting_en_dev_006_1/minutes_ORIG.deidentified.txt  \n",
            "   creating: train/meeting_cs_train_022_2/\n",
            "  inflating: train/meeting_cs_train_022_2/minutes_ORIG.deidentified.txt  \n",
            "  inflating: train/meeting_cs_train_022_2/transcript_MAN2_annot19.deidentified.txt  \n",
            "   creating: train/meeting_cs_train_004_1/\n",
            "  inflating: train/meeting_cs_train_004_1/minutes_ORIG.deidentified.txt  \n",
            "  inflating: train/meeting_cs_train_004_1/transcript_MAN_annot19.deidentified.txt  \n",
            "   creating: train/meeting_en_train_011_1/\n",
            "  inflating: train/meeting_en_train_011_1/minutes_ORIG.deidentified.txt  \n",
            "  inflating: train/meeting_en_train_011_1/transcript_MAN_annot11.deidentified.txt  \n",
            "   creating: train/meeting_en_train_025/\n",
            "  inflating: train/meeting_en_train_025/minutes_ORIG.deidentified.txt  \n",
            "  inflating: train/meeting_en_train_025/transcript_MAN_annot24.deidentified.txt  \n",
            "   creating: train/meeting_en_train_078_1/\n",
            "  inflating: train/meeting_en_train_078_1/minutes_GENER_annot06.deidentified.txt  \n",
            "  inflating: train/meeting_en_train_078_1/transcript_MAN_annot06.deidentified.txt  \n",
            "   creating: train/meeting_en_train_014_1/\n",
            "  inflating: train/meeting_en_train_014_1/transcript_MAN2_annot07.deidentified.txt  \n",
            "  inflating: train/meeting_en_train_014_1/minutes_ORIG.deidentified.txt  \n",
            "   creating: train/meeting_en_test_010/\n",
            "  inflating: train/meeting_en_test_010/transcript_MAN_annot03.deidentified.txt  \n",
            "  inflating: train/meeting_en_test_010/minutes_GENER_annot03.deidentified.txt  \n",
            "   creating: train/meeting_en_dev_004_2/\n",
            "  inflating: train/meeting_en_dev_004_2/transcript_MAN_annot18.deidentified.txt  \n",
            "  inflating: train/meeting_en_dev_004_2/minutes_ORIG.deidentified.txt  \n",
            "   creating: train/meeting_en_dev_001/\n",
            "  inflating: train/meeting_en_dev_001/transcript_MAN_annot18.deidentified.txt  \n",
            "  inflating: train/meeting_en_dev_001/minutes_GENER_annot18.deidentified.txt  \n",
            "   creating: train/meeting_en_train_032/\n",
            "  inflating: train/meeting_en_train_032/transcript_MAN_annot13.deidentified.txt  \n",
            "  inflating: train/meeting_en_train_032/minutes_GENER_annot13.deidentified.txt  \n",
            "   creating: train/meeting_en_train_039_1/\n",
            "  inflating: train/meeting_en_train_039_1/transcript_MAN2_annot09.deidentified.txt  \n",
            "  inflating: train/meeting_en_train_039_1/minutes_GENER_annot09.deidentified.txt  \n",
            "   creating: train/meeting_cs_train_001/\n",
            "  inflating: train/meeting_cs_train_001/transcript_MAN_annot18.deidentified.txt  \n",
            "  inflating: train/meeting_cs_train_001/minutes_GENER_annot18.deidentified.txt  \n",
            "   creating: train/meeting_en_train_074/\n",
            "  inflating: train/meeting_en_train_074/transcript_MAN_annot07.deidentified.txt  \n",
            "  inflating: train/meeting_en_train_074/minutes_GENER_annot07.deidentified.txt  \n",
            "   creating: train/meeting_cs_train_023_1/\n",
            "  inflating: train/meeting_cs_train_023_1/minutes_ORIG.deidentified.txt  \n",
            "  inflating: train/meeting_cs_train_023_1/transcript_MAN_annot05.deidentified.txt  \n",
            "   creating: train/meeting_en_train_064_1/\n",
            "  inflating: train/meeting_en_train_064_1/transcript_MAN_annot09.deidentified.txt  \n",
            "  inflating: train/meeting_en_train_064_1/minutes_GENER_annot09.deidentified.txt  \n",
            "   creating: train/meeting_en_test_009_1/\n",
            "  inflating: train/meeting_en_test_009_1/minutes_GENER_annot02.deidentified.txt  \n",
            "  inflating: train/meeting_en_test_009_1/transcript_MAN_annot02.deidentified.txt  \n",
            "   creating: train/meeting_en_train_006/\n",
            "  inflating: train/meeting_en_train_006/minutes_GENER_annot05.deidentified.txt  \n",
            "  inflating: train/meeting_en_train_006/transcript_MAN_annot13.deidentified.txt  \n",
            "   creating: train/meeting_en_train_038/\n",
            "  inflating: train/meeting_en_train_038/transcript_MAN_annot09.deidentified.txt  \n",
            "  inflating: train/meeting_en_train_038/minutes_ORIG.deidentified.txt  \n",
            "   creating: train/meeting_en_test_002_4/\n",
            "  inflating: train/meeting_en_test_002_4/minutes_ORIG.deidentified.txt  \n",
            "  inflating: train/meeting_en_test_002_4/transcript_MAN2_annot20.deidentified.txt  \n",
            "   creating: train/meeting_en_dev_005_1/\n",
            "  inflating: train/meeting_en_dev_005_1/minutes_ORIG.deidentified.txt  \n",
            "  inflating: train/meeting_en_dev_005_1/transcript_MAN_annot16.deidentified.txt  \n",
            "   creating: train/meeting_cs_test_012_1/\n",
            "  inflating: train/meeting_cs_test_012_1/minutes_GENER_annot19.txt.txt  \n",
            "  inflating: train/meeting_cs_test_012_1/transcript_MAN_annot19.txt.txt  \n",
            "   creating: train/meeting_cs_test_004_1/\n",
            "  inflating: train/meeting_cs_test_004_1/transcript_MAN2_annot18.deidentified.txt  \n",
            "  inflating: train/meeting_cs_test_004_1/minutes_GENER_annot18.deidentified.txt  \n",
            "   creating: train/meeting_en_train_079/\n",
            "  inflating: train/meeting_en_train_079/transcript_MAN_annot07.deidentified.txt  \n",
            "  inflating: train/meeting_en_train_079/minutes_GENER_annot07.deidentified.txt  \n",
            "   creating: train/meeting_en_train_079_2/\n",
            "  inflating: train/meeting_en_train_079_2/transcript_MAN_annot07.deidentified.txt  \n",
            "  inflating: train/meeting_en_train_079_2/minutes_GENER_annot02.deidentified.txt  \n",
            "   creating: train/meeting_en_train_024_1/\n",
            "  inflating: train/meeting_en_train_024_1/transcript_MAN_annot18.deidentified.txt  \n",
            "  inflating: train/meeting_en_train_024_1/minutes_GENER_annot13.deidentified.txt  \n",
            "   creating: train/meeting_en_train_029_1/\n",
            "  inflating: train/meeting_en_train_029_1/minutes_ORIG.deidentified.txt  \n",
            "  inflating: train/meeting_en_train_029_1/transcript_MAN_annot20.deidentified.txt  \n",
            "   creating: train/meeting_cs_test_004_2/\n",
            "  inflating: train/meeting_cs_test_004_2/transcript_MAN2_annot18.deidentified.txt  \n",
            "  inflating: train/meeting_cs_test_004_2/minutes_ORIG.deidentified.txt  \n",
            "   creating: train/meeting_en_train_062_1/\n",
            "  inflating: train/meeting_en_train_062_1/minutes_GENER_annot24.deidentified.txt  \n",
            "  inflating: train/meeting_en_train_062_1/transcript_MAN_annot24.deidentified.txt  \n",
            "   creating: train/meeting_cs_train_031/\n",
            "  inflating: train/meeting_cs_train_031/minutes_GENER_annot19.deidentified.txt  \n",
            "  inflating: train/meeting_cs_train_031/transcript_MAN_annot19.deidentified.txt  \n",
            "   creating: train/meeting_cs_dev_003_1/\n",
            "  inflating: train/meeting_cs_dev_003_1/minutes_GENER_annot19.deidentified.txt  \n",
            "  inflating: train/meeting_cs_dev_003_1/transcript_MAN_annot18.deidentified.txt  \n",
            "   creating: train/meeting_cs_dev_001/\n",
            "  inflating: train/meeting_cs_dev_001/minutes_GENER_annot19.deidentified.txt  \n",
            "  inflating: train/meeting_cs_dev_001/transcript_MAN_annot18.deidentified.txt  \n",
            "   creating: train/meeting_en_train_015/\n",
            "  inflating: train/meeting_en_train_015/minutes_ORIG.deidentified.txt  \n",
            "  inflating: train/meeting_en_train_015/transcript_MAN_annot06.deidentified.txt  \n",
            "   creating: train/meeting_cs_train_033_1/\n",
            "  inflating: train/meeting_cs_train_033_1/transcript_MAN_annot05.deidentified.txt  \n",
            "  inflating: train/meeting_cs_train_033_1/minutes_GENER_annot02.deidentified.txt  \n",
            "  inflating: train/.DS_Store         \n",
            "   creating: train/meeting_cs_dev_003/\n",
            "  inflating: train/meeting_cs_dev_003/minutes_GENER_annot05.deidentified.txt  \n",
            "  inflating: train/meeting_cs_dev_003/transcript_MAN_annot18.deidentified.txt  \n",
            "   creating: train/meeting_en_test_017/\n",
            "  inflating: train/meeting_en_test_017/transcript_MAN2_annot07.deidentified.txt  \n",
            "  inflating: train/meeting_en_test_017/minutes_GENER_annot07.deidentified.txt  \n",
            "   creating: train/meeting_en_train_017/\n",
            "  inflating: train/meeting_en_train_017/transcript_MAN_annot03.deidentified.txt  \n",
            "  inflating: train/meeting_en_train_017/minutes_GENER_annot03.deidentified.txt  \n",
            "   creating: train/meeting_en_train_082/\n",
            "  inflating: train/meeting_en_train_082/minutes_ORIG.deidentified.txt  \n",
            "  inflating: train/meeting_en_train_082/transcript_MAN_annot02.deidentified.txt  \n",
            "   creating: train/meeting_cs_test_007/\n",
            "  inflating: train/meeting_cs_test_007/minutes_GENER_annot19.deidentified.txt  \n",
            "  inflating: train/meeting_cs_test_007/transcript_MAN_annot18.deidentified.txt  \n",
            "   creating: train/meeting_cs_test_015/\n",
            "  inflating: train/meeting_cs_test_015/minutes_GENER_annot19.txt  \n",
            "  inflating: train/meeting_cs_test_015/transcript_MAN_annot19_deidentified.txt  \n",
            "  inflating: train/meeting_cs_test_015/notations.txt.txt  \n",
            "  inflating: train/meeting_cs_test_015/transcript_MAN_annot19.txt  \n",
            "   creating: train/meeting_cs_train_017_1/\n",
            "  inflating: train/meeting_cs_train_017_1/minutes_GENER_annot19.deidentified.txt  \n",
            "  inflating: train/meeting_cs_train_017_1/transcript_MAN2_annot05.deidentified.txt  \n",
            "   creating: train/meeting_cs_train_005_1/\n",
            "  inflating: train/meeting_cs_train_005_1/transcript_MAN2_annot18.deidentified.txt  \n",
            "  inflating: train/meeting_cs_train_005_1/minutes_GENER_annot18.deidentified.txt  \n",
            "   creating: train/meeting_cs_train_020_1/\n",
            "  inflating: train/meeting_cs_train_020_1/transcript_MAN2_annot18.deidentified.txt  \n",
            "  inflating: train/meeting_cs_train_020_1/minutes_GENER_annot18.deidentified.txt  \n",
            "   creating: train/meeting_en_dev_002/\n",
            "  inflating: train/meeting_en_dev_002/minutes_GENER_annot02.deidentified.txt  \n",
            "  inflating: train/meeting_en_dev_002/transcript_MAN_annot02.deidentified.txt  \n",
            "   creating: train/meeting_cs_test_014_1/\n",
            "  inflating: train/meeting_cs_test_014_1/transcript_MAN_annot05.deidentified.txt  \n",
            "  inflating: train/meeting_cs_test_014_1/minutes_GENER_annot05.txt  \n",
            "   creating: train/meeting_en_dev_007_1/\n",
            "  inflating: train/meeting_en_dev_007_1/transcript_MAN2_annot07.deidentified.txt  \n",
            "  inflating: train/meeting_en_dev_007_1/minutes_GENER_annot06.deidentified.txt  \n",
            "   creating: train/meeting_cs_train_023/\n",
            "  inflating: train/meeting_cs_train_023/minutes_GENER_annot05.deidentified.txt  \n",
            "  inflating: train/meeting_cs_train_023/transcript_MAN_annot05.deidentified.txt  \n",
            "   creating: train/meeting_en_train_028/\n",
            "  inflating: train/meeting_en_train_028/minutes_GENER_annot02.deidentified.txt  \n",
            "  inflating: train/meeting_en_train_028/transcript_MAN_annot15.deidentified.txt  \n",
            "   creating: train/meeting_cs_test_015_1/\n",
            "  inflating: train/meeting_cs_test_015_1/minutes_GENER_annot19_deidentified.txt  \n",
            "  inflating: train/meeting_cs_test_015_1/transcript_MAN_annot19.txt  \n",
            "   creating: train/meeting_en_test_002_3/\n",
            "  inflating: train/meeting_en_test_002_3/minutes_GENER_annot20.deidentified.txt  \n",
            "  inflating: train/meeting_en_test_002_3/transcript_MAN2_annot20.deidentified.txt  \n",
            "   creating: train/meeting_en_test_007_2/\n",
            "  inflating: train/meeting_en_test_007_2/transcript_MAN_annot07.deidentified.txt  \n",
            "  inflating: train/meeting_en_test_007_2/minutes_GENER_annot02.deidentified.txt  \n",
            "   creating: train/meeting_en_train_001/\n",
            "  inflating: train/meeting_en_train_001/minutes_ORIG.deidentified.txt  \n",
            "  inflating: train/meeting_en_train_001/transcript_MAN2_annot02.deidentified.txt  \n",
            "   creating: train/meeting_en_train_022/\n",
            "  inflating: train/meeting_en_train_022/minutes_ORIG.deidentified.txt  \n",
            "  inflating: train/meeting_en_train_022/transcript_MAN_annot13.deidentified.txt  \n",
            "   creating: train/meeting_cs_train_022_1/\n",
            "  inflating: train/meeting_cs_train_022_1/minutes_GENER_annot19.deidentified.txt  \n",
            "  inflating: train/meeting_cs_train_022_1/transcript_MAN2_annot19.deidentified.txt  \n",
            "   creating: train/meeting_en_train_078/\n",
            "  inflating: train/meeting_en_train_078/minutes_ORIG.deidentified.txt  \n",
            "  inflating: train/meeting_en_train_078/transcript_MAN_annot06.deidentified.txt  \n",
            "   creating: train/meeting_cs_train_005/\n",
            "  inflating: train/meeting_cs_train_005/transcript_MAN2_annot18.deidentified.txt  \n",
            "  inflating: train/meeting_cs_train_005/minutes_GENER_annot19.deidentified.txt  \n",
            "   creating: train/meeting_en_train_080_2/\n",
            "  inflating: train/meeting_en_train_080_2/transcript_MAN2_annot12.deidentified.txt  \n",
            "  inflating: train/meeting_en_train_080_2/minutes_GENER_annot01.deidentified.txt  \n",
            "   creating: train/meeting_en_train_019/\n",
            "  inflating: train/meeting_en_train_019/minutes_GENER_annot14.deidentified.txt  \n",
            "  inflating: train/meeting_en_train_019/transcript_MAN_annot14.deidentified.txt  \n",
            "   creating: train/meeting_en_train_020_1/\n",
            "  inflating: train/meeting_en_train_020_1/minutes_GENER_annot06.deidentified.txt  \n",
            "  inflating: train/meeting_en_train_020_1/transcript_MAN_annot06.deidentified.txt  \n",
            "   creating: train/meeting_cs_train_029_1/\n",
            "  inflating: train/meeting_cs_train_029_1/transcript_MAN2_annot18.deidentified.txt  \n",
            "  inflating: train/meeting_cs_train_029_1/minutes_GENER_annot18.deidentified.txt  \n",
            "   creating: train/meeting_en_test_016_1/\n",
            "  inflating: train/meeting_en_test_016_1/transcript_MAN_annot07.deidentified.txt  \n",
            "  inflating: train/meeting_en_test_016_1/minutes_GENER_annot06.deidentified.txt  \n",
            "   creating: train/meeting_en_dev_001_1/\n",
            "  inflating: train/meeting_en_dev_001_1/transcript_MAN_annot18.deidentified.txt  \n",
            "  inflating: train/meeting_en_dev_001_1/minutes_GENER_annot02.deidentified.txt  \n",
            "   creating: train/meeting_cs_train_022/\n",
            "  inflating: train/meeting_cs_train_022/minutes_GENER_annot05.deidentified.txt  \n",
            "  inflating: train/meeting_cs_train_022/transcript_MAN2_annot19.deidentified.txt  \n",
            "   creating: train/meeting_en_train_069_2/\n",
            "  inflating: train/meeting_en_train_069_2/transcript_MAN2_annot13.deidentified.txt  \n",
            "  inflating: train/meeting_en_train_069_2/minutes_GENER_annot13.deidentified.txt  \n",
            "   creating: train/meeting_cs_test_006/\n",
            "  inflating: train/meeting_cs_test_006/minutes_GENER_annot05.deidentified.txt  \n",
            "  inflating: train/meeting_cs_test_006/transcript_MAN_annot18.deidentified.txt  \n",
            "   creating: train/meeting_cs_test_013/\n",
            "  inflating: train/meeting_cs_test_013/transcript_MAN_annot08.deidentified.txt  \n",
            " extracting: train/meeting_cs_test_013/readme.txt  \n",
            "  inflating: train/meeting_cs_test_013/minutes_GENER_annot08.deidentified.tx.txt  \n",
            "  inflating: train/meeting_cs_test_013/transcript_MAN_annot08.txt.txt  \n",
            "  inflating: train/meeting_cs_test_013/notations.txt  \n",
            "   creating: train/meeting_en_train_050/\n",
            "  inflating: train/meeting_en_train_050/transcript_MAN_annot07.deidentified.txt  \n",
            "  inflating: train/meeting_en_train_050/minutes_GENER_annot07.deidentified.txt  \n",
            "   creating: train/meeting_cs_train_013_2/\n",
            "  inflating: train/meeting_cs_train_013_2/minutes_ORIG.deidentified.txt  \n",
            "  inflating: train/meeting_cs_train_013_2/transcript_MAN2_annot05.deidentified.txt  \n",
            "   creating: train/meeting_en_train_047_1/\n",
            "  inflating: train/meeting_en_train_047_1/transcript_MAN_annot09.deidentified.txt  \n",
            "  inflating: train/meeting_en_train_047_1/minutes_GENER_annot09.deidentified.txt  \n",
            "   creating: train/meeting_cs_test_005_1/\n",
            "  inflating: train/meeting_cs_test_005_1/transcript_MAN_annot18.deidentified.txt  \n",
            "  inflating: train/meeting_cs_test_005_1/minutes_GENER_annot18.deidentified.txt  \n",
            "   creating: train/meeting_cs_test_009/\n",
            "  inflating: train/meeting_cs_test_009/minutes_GENER_annot05.deidentified.txt  \n",
            "  inflating: train/meeting_cs_test_009/transcript_MAN_annot05.deidentified.txt  \n",
            "   creating: train/meeting_cs_train_027/\n",
            "  inflating: train/meeting_cs_train_027/minutes_GENER_annot19.deidentified.txt  \n",
            "  inflating: train/meeting_cs_train_027/transcript_MAN_annot19.deidentified.txt  \n",
            "   creating: train/meeting_cs_test_016/\n",
            "  inflating: train/meeting_cs_test_016/minutes_GENER_annot05.deidentified.txt  \n",
            " extracting: train/meeting_cs_test_016/readme.txt  \n",
            "  inflating: train/meeting_cs_test_016/transcript_MAN_annot05.txt  \n",
            "  inflating: train/meeting_cs_test_016/transcript_MAN_annot05.deidentified.txt  \n",
            "  inflating: train/meeting_cs_test_016/notations.txt  \n",
            "   creating: train/meeting_en_test_013_2/\n",
            "  inflating: train/meeting_en_test_013_2/minutes_ORIG.deidentified.txt  \n",
            "  inflating: train/meeting_en_test_013_2/transcript_MAN_annot20.deidentified.txt  \n",
            "   creating: train/meeting_en_train_085_3/\n",
            "  inflating: train/meeting_en_train_085_3/transcript_MAN_annot07.deidentified.txt  \n",
            "  inflating: train/meeting_en_train_085_3/minutes_ORIG.deidentified.txt  \n",
            "   creating: train/meeting_en_test_004/\n",
            "  inflating: train/meeting_en_test_004/minutes_GENER_annot07.deidentified.txt  \n",
            "  inflating: train/meeting_en_test_004/transcript_MAN2_annot14.deidentified.txt  \n",
            "   creating: train/meeting_cs_dev_005/\n",
            "  inflating: train/meeting_cs_dev_005/minutes_GENER_annot05.deidentified.txt  \n",
            "  inflating: train/meeting_cs_dev_005/transcript_MAN2_annot05.deidentified.txt  \n",
            "   creating: train/meeting_en_train_068/\n",
            "  inflating: train/meeting_en_train_068/transcript_MAN_annot09.deidentified.txt  \n",
            "  inflating: train/meeting_en_train_068/minutes_GENER_annot09.deidentified.txt  \n",
            "   creating: train/meeting_en_test_018_1/\n",
            "  inflating: train/meeting_en_test_018_1/transcript_MAN_annot23.deidentified.txt  \n",
            "  inflating: train/meeting_en_test_018_1/minutes_GENER_annot23.deidentified.txt  \n",
            "   creating: train/meeting_en_train_085_2/\n",
            "  inflating: train/meeting_en_train_085_2/transcript_MAN_annot07.deidentified.txt  \n",
            "  inflating: train/meeting_en_train_085_2/minutes_GENER_annot98.deidentified.txt  \n",
            "   creating: train/meeting_en_train_083_1/\n",
            "  inflating: train/meeting_en_train_083_1/transcript_MAN_annot08.deidentified.txt  \n",
            "  inflating: train/meeting_en_train_083_1/minutes_GENER_annot08.deidentified.txt  \n",
            "   creating: train/meeting_en_train_069_1/\n",
            "  inflating: train/meeting_en_train_069_1/minutes_ORIG.deidentified.txt  \n",
            "  inflating: train/meeting_en_train_069_1/transcript_MAN2_annot13.deidentified.txt  \n",
            "   creating: train/meeting_en_dev_006/\n",
            "  inflating: train/meeting_en_dev_006/transcript_MAN_annot07.deidentified.txt  \n",
            "  inflating: train/meeting_en_dev_006/minutes_GENER_annot07.deidentified.txt  \n",
            "   creating: train/meeting_en_test_002_5/\n",
            "  inflating: train/meeting_en_test_002_5/transcript_MAN2_annot20.deidentified.txt  \n",
            "  inflating: train/meeting_en_test_002_5/minutes_GENER_annot16.deidentified.txt  \n",
            "   creating: train/meeting_en_test_001/\n",
            "  inflating: train/meeting_en_test_001/transcript_MAN2_annot24.deidentified.txt  \n",
            "  inflating: train/meeting_en_test_001/minutes_ORIG.deidentified.txt  \n",
            "   creating: train/meeting_cs_train_021/\n",
            "  inflating: train/meeting_cs_train_021/minutes_GENER_annot19.deidentified.txt  \n",
            "  inflating: train/meeting_cs_train_021/transcript_MAN_annot19.deidentified.txt  \n",
            "   creating: train/meeting_en_test_008_2/\n",
            "  inflating: train/meeting_en_test_008_2/transcript_MAN2_annot22.deidentified.txt  \n",
            "  inflating: train/meeting_en_test_008_2/minutes_GENER_annot02.deidentified.txt  \n",
            "   creating: train/meeting_en_train_038_2/\n",
            "  inflating: train/meeting_en_train_038_2/transcript_MAN_annot09.deidentified.txt  \n",
            "  inflating: train/meeting_en_train_038_2/minutes_GENER_annot08.deidentified.txt  \n",
            "   creating: train/meeting_en_train_013_1/\n",
            "  inflating: train/meeting_en_train_013_1/transcript_MAN2_annot06.deidentified.txt  \n",
            "  inflating: train/meeting_en_train_013_1/minutes_GENER_annot06.deidentified.txt  \n",
            "   creating: train/meeting_en_train_044/\n",
            "  inflating: train/meeting_en_train_044/minutes_GENER_annot20.deidentified.txt  \n",
            "  inflating: train/meeting_en_train_044/transcript_MAN_annot20.deidentified.txt  \n",
            "   creating: train/meeting_en_train_008_1/\n",
            "  inflating: train/meeting_en_train_008_1/minutes_GENER_annot06.deidentified.txt  \n",
            "  inflating: train/meeting_en_train_008_1/transcript_MAN_annot06.deidentified.txt  \n",
            "   creating: train/meeting_cs_test_002_1/\n",
            "  inflating: train/meeting_cs_test_002_1/transcript_MAN_annot18.deidentified.txt  \n",
            "  inflating: train/meeting_cs_test_002_1/minutes_GENER_annot18.deidentified.txt  \n",
            "   creating: train/meeting_en_train_072_1/\n",
            "  inflating: train/meeting_en_train_072_1/transcript_MAN2_annot11.deidentified.txt  \n",
            "  inflating: train/meeting_en_train_072_1/minutes_ORIG.deidentified.txt  \n",
            "   creating: train/meeting_en_train_009/\n",
            "  inflating: train/meeting_en_train_009/minutes_ORIG.deidentified.txt  \n",
            "  inflating: train/meeting_en_train_009/transcript_MAN_annot13.deidentified.txt  \n",
            "   creating: train/meeting_en_dev_005_2/\n",
            "  inflating: train/meeting_en_dev_005_2/minutes_GENER_annot16.deidentified.txt  \n",
            "  inflating: train/meeting_en_dev_005_2/transcript_MAN_annot16.deidentified.txt  \n",
            "   creating: train/meeting_en_dev_010_4/\n",
            "  inflating: train/meeting_en_dev_010_4/minutes_GENER_annot99.deidentified.txt  \n",
            "  inflating: train/meeting_en_dev_010_4/transcript_MAN2_annot21.deidentified.txt  \n",
            "   creating: train/meeting_en_train_030/\n",
            "  inflating: train/meeting_en_train_030/transcript_MAN_annot01.deidentified.txt  \n",
            "  inflating: train/meeting_en_train_030/minutes_ORIG.deidentified.txt  \n",
            "   creating: train/meeting_cs_dev_007/\n",
            "  inflating: train/meeting_cs_dev_007/minutes_GENER_annot05.deidentified.txt  \n",
            "  inflating: train/meeting_cs_dev_007/transcript_MAN2_annot05.deidentified.txt  \n",
            "   creating: train/meeting_en_train_054/\n",
            "  inflating: train/meeting_en_train_054/transcript_MAN_annot08.deidentified.txt  \n",
            "  inflating: train/meeting_en_train_054/minutes_GENER_annot08.deidentified.txt  \n",
            "   creating: train/meeting_cs_train_015_1/\n",
            "  inflating: train/meeting_cs_train_015_1/minutes_GENER_annot18.deidentified.txt  \n",
            "  inflating: train/meeting_cs_train_015_1/transcript_MAN2_annot05.deidentified.txt  \n",
            "   creating: train/meeting_cs_train_011_2/\n",
            "  inflating: train/meeting_cs_train_011_2/minutes_ORIG.deidentified.txt  \n",
            "  inflating: train/meeting_cs_train_011_2/transcript_MAN2_annot05.deidentified.txt  \n",
            "   creating: train/meeting_en_train_020/\n",
            "  inflating: train/meeting_en_train_020/minutes_ORIG.deidentified.txt  \n",
            "  inflating: train/meeting_en_train_020/transcript_MAN_annot06.deidentified.txt  \n",
            "   creating: train/meeting_cs_train_025/\n",
            "  inflating: train/meeting_cs_train_025/minutes_GENER_annot05.deidentified.txt  \n",
            "  inflating: train/meeting_cs_train_025/transcript_MAN_annot05.deidentified.txt  \n",
            "   creating: train/meeting_en_train_029/\n",
            "  inflating: train/meeting_en_train_029/minutes_GENER_annot20.deidentified.txt  \n",
            "  inflating: train/meeting_en_train_029/transcript_MAN_annot20.deidentified.txt  \n",
            "   creating: train/meeting_en_train_003/\n",
            "  inflating: train/meeting_en_train_003/minutes_GENER_annot11.deidentified.txt  \n",
            "  inflating: train/meeting_en_train_003/transcript_MAN2_annot13.deidentified.txt  \n",
            "   creating: train/meeting_en_dev_003/\n",
            "  inflating: train/meeting_en_dev_003/transcript_MAN_annot08.deidentified.txt  \n",
            "  inflating: train/meeting_en_dev_003/minutes_GENER_annot08.deidentified.txt  \n",
            "   creating: train/meeting_en_train_040_1/\n",
            "  inflating: train/meeting_en_train_040_1/minutes_ORIG.deidentified.txt  \n",
            "  inflating: train/meeting_en_train_040_1/transcript_MAN_annot10.deidentified.txt  \n",
            "   creating: train/meeting_cs_train_013_1/\n",
            "  inflating: train/meeting_cs_train_013_1/minutes_GENER_annot18.deidentified.txt  \n",
            "  inflating: train/meeting_cs_train_013_1/transcript_MAN2_annot05.deidentified.txt  \n",
            "   creating: train/meeting_cs_test_012/\n",
            " extracting: train/meeting_cs_test_012/readme.txt  \n",
            "  inflating: train/meeting_cs_test_012/minutes_GENER_annot19.deidentified.txt.txt  \n",
            "  inflating: train/meeting_cs_test_012/notations.txt.txt  \n",
            "  inflating: train/meeting_cs_test_012/transcript_MAN_annot19.deidentified.txt  \n",
            "  inflating: train/meeting_cs_test_012/transcript_MAN_annot19.txt.txt  \n",
            "   creating: train/meeting_en_train_018_1/\n",
            "  inflating: train/meeting_en_train_018_1/transcript_MAN2_annot23.deidentified.txt  \n",
            "  inflating: train/meeting_en_train_018_1/minutes_GENER_annot23.deidentified.txt  \n",
            "   creating: train/meeting_en_test_011/\n",
            "  inflating: train/meeting_en_test_011/minutes_ORIG.deidentified.txt  \n",
            "  inflating: train/meeting_en_test_011/transcript_MAN_annot24.deidentified.txt  \n",
            "   creating: train/meeting_cs_dev_009/\n",
            "  inflating: train/meeting_cs_dev_009/minutes_GENER_annot05.deidentified.txt  \n",
            "  inflating: train/meeting_cs_dev_009/transcript_MAN_annot05.deidentified.txt  \n",
            "   creating: train/meeting_en_test_008_1/\n",
            "  inflating: train/meeting_en_test_008_1/transcript_MAN2_annot22.deidentified.txt  \n",
            "  inflating: train/meeting_en_test_008_1/minutes_GENER_annot22.deidentified.txt  \n",
            "   creating: train/meeting_en_train_046_1/\n",
            "  inflating: train/meeting_en_train_046_1/minutes_GENER_annot07.deidentified.txt  \n",
            "  inflating: train/meeting_en_train_046_1/transcript_MAN_annot11.deidentified.txt  \n",
            "   creating: train/meeting_en_test_004_1/\n",
            "  inflating: train/meeting_en_test_004_1/transcript_MAN2_annot14.deidentified.txt  \n",
            "  inflating: train/meeting_en_test_004_1/minutes_GENER_annot14.deidentified.txt  \n",
            "   creating: train/meeting_en_dev_009_2/\n",
            "  inflating: train/meeting_en_dev_009_2/transcript_MAN2_annot06.deidentified.txt  \n",
            "  inflating: train/meeting_en_dev_009_2/minutes_GENER_annot02.deidentified.txt  \n",
            "   creating: train/meeting_en_train_010/\n",
            "  inflating: train/meeting_en_train_010/minutes_ORIG.deidentified.txt  \n",
            "  inflating: train/meeting_en_train_010/transcript_MAN_annot12.deidentified.txt  \n",
            "   creating: train/meeting_en_train_079_1/\n",
            "  inflating: train/meeting_en_train_079_1/transcript_MAN_annot07.deidentified.txt  \n",
            "  inflating: train/meeting_en_train_079_1/minutes_ORIG.deidentified.txt  \n",
            "   creating: train/meeting_en_train_085_6/\n",
            "  inflating: train/meeting_en_train_085_6/transcript_MAN_annot07.deidentified.txt  \n",
            "  inflating: train/meeting_en_train_085_6/minutes_GENER_annot02.deidentified.txt  \n",
            "   creating: train/meeting_en_test_002_1/\n",
            "  inflating: train/meeting_en_test_002_1/minutes_GENER_annot00.deidentified.txt  \n",
            "  inflating: train/meeting_en_test_002_1/transcript_MAN2_annot20.deidentified.txt  \n",
            "   creating: train/meeting_cs_test_014/\n",
            "  inflating: train/meeting_cs_test_014/minutes_GENER_annot05.deidentified.txt  \n",
            " extracting: train/meeting_cs_test_014/readme.txt  \n",
            "  inflating: train/meeting_cs_test_014/transcript_MAN_annot05.txt  \n",
            "  inflating: train/meeting_cs_test_014/transcript_MAN_annot05.deidentified.txt  \n",
            "  inflating: train/meeting_cs_test_014/notations.txt  \n",
            "   creating: train/meeting_cs_train_010_2/\n",
            "  inflating: train/meeting_cs_train_010_2/minutes_ORIG.deidentified.txt  \n",
            "  inflating: train/meeting_cs_train_010_2/transcript_MAN2_annot05.deidentified.txt  \n",
            "   creating: train/meeting_en_train_066/\n",
            "  inflating: train/meeting_en_train_066/transcript_MAN_annot08.deidentified.txt  \n",
            "  inflating: train/meeting_en_train_066/minutes_GENER_annot08.deidentified.txt  \n",
            "   creating: train/meeting_cs_train_003/\n",
            "  inflating: train/meeting_cs_train_003/minutes_GENER_annot05.deidentified.txt  \n",
            "  inflating: train/meeting_cs_train_003/transcript_MAN2_annot18.deidentified.txt  \n",
            "   creating: train/meeting_en_train_077_2/\n",
            "  inflating: train/meeting_en_train_077_2/transcript_MAN_annot13.deidentified.txt  \n",
            "  inflating: train/meeting_en_train_077_2/minutes_GENER_annot13.deidentified.txt  \n",
            "   creating: train/meeting_cs_test_011/\n",
            "  inflating: train/meeting_cs_test_011/minutes_GENER_annot05.deidentified.txt  \n",
            " extracting: train/meeting_cs_test_011/readme.txt  \n",
            "  inflating: train/meeting_cs_test_011/transcript_MAN_annot05.txt  \n",
            "  inflating: train/meeting_cs_test_011/transcript_MAN_annot05.deidentified.txt  \n",
            "  inflating: train/meeting_cs_test_011/notations.txt  \n",
            "   creating: train/meeting_cs_test_002/\n",
            "  inflating: train/meeting_cs_test_002/minutes_GENER_annot19.deidentified.txt  \n",
            "  inflating: train/meeting_cs_test_002/transcript_MAN_annot18.deidentified.txt  \n",
            "   creating: train/meeting_en_train_039_2/\n",
            "  inflating: train/meeting_en_train_039_2/transcript_MAN2_annot09.deidentified.txt  \n",
            "  inflating: train/meeting_en_train_039_2/minutes_GENER_annot08.deidentified.txt  \n",
            "   creating: train/meeting_en_train_033/\n",
            "  inflating: train/meeting_en_train_033/minutes_ORIG.deidentified.txt  \n",
            "  inflating: train/meeting_en_train_033/transcript_MAN_annot13.deidentified.txt  \n",
            "   creating: train/meeting_cs_dev_002_2/\n",
            "  inflating: train/meeting_cs_dev_002_2/minutes_ORIG.deidentified.txt  \n",
            "  inflating: train/meeting_cs_dev_002_2/transcript_MAN2_annot05.deidentified.txt  \n",
            "   creating: train/meeting_cs_train_003_1/\n",
            "  inflating: train/meeting_cs_train_003_1/transcript_MAN2_annot18.deidentified.txt  \n",
            "  inflating: train/meeting_cs_train_003_1/minutes_GENER_annot18.deidentified.txt  \n",
            "   creating: train/meeting_cs_train_002_1/\n",
            "  inflating: train/meeting_cs_train_002_1/minutes_ORIG.deidentified.txt  \n",
            "  inflating: train/meeting_cs_train_002_1/transcript_MAN_annot19.deidentified.txt  \n",
            "   creating: train/meeting_cs_train_020_2/\n",
            "  inflating: train/meeting_cs_train_020_2/transcript_MAN2_annot18.deidentified.txt  \n",
            "  inflating: train/meeting_cs_train_020_2/minutes_ORIG.deidentified.txt  \n",
            "   creating: train/meeting_cs_test_008_2/\n",
            "  inflating: train/meeting_cs_test_008_2/transcript_MAN_annot18.deidentified.txt  \n",
            "  inflating: train/meeting_cs_test_008_2/minutes_ORIG.deidentified.txt  \n",
            "   creating: train/meeting_en_train_012/\n",
            "  inflating: train/meeting_en_train_012/minutes_GENER_annot21.deidentified.txt  \n",
            "  inflating: train/meeting_en_train_012/transcript_MAN_annot21.deidentified.txt  \n",
            "   creating: train/meeting_cs_test_006_1/\n",
            "  inflating: train/meeting_cs_test_006_1/minutes_GENER_annot19.deidentified.txt  \n",
            "  inflating: train/meeting_cs_test_006_1/transcript_MAN_annot18.deidentified.txt  \n",
            "   creating: train/meeting_en_train_038_1/\n",
            "  inflating: train/meeting_en_train_038_1/transcript_MAN_annot09.deidentified.txt  \n",
            "  inflating: train/meeting_en_train_038_1/minutes_GENER_annot09.deidentified.txt  \n",
            "   creating: train/meeting_en_test_014/\n",
            "  inflating: train/meeting_en_test_014/minutes_ORIG.deidentified.txt  \n",
            "  inflating: train/meeting_en_test_014/transcript_MAN_annot06.deidentified.txt  \n",
            "   creating: train/meeting_cs_dev_002_1/\n",
            "  inflating: train/meeting_cs_dev_002_1/minutes_GENER_annot18.deidentified.txt  \n",
            "  inflating: train/meeting_cs_dev_002_1/transcript_MAN2_annot05.deidentified.txt  \n",
            "   creating: train/meeting_cs_test_013_1/\n",
            "  inflating: train/meeting_cs_test_013_1/minutes_GENER_annot08.txt  \n",
            "  inflating: train/meeting_cs_test_013_1/transcript_MAN_annot08.txt.txt  \n",
            "   creating: train/meeting_cs_train_020/\n",
            "  inflating: train/meeting_cs_train_020/minutes_GENER_annot05.deidentified.txt  \n",
            "  inflating: train/meeting_cs_train_020/transcript_MAN2_annot18.deidentified.txt  \n",
            "   creating: train/meeting_en_train_075/\n",
            "  inflating: train/meeting_en_train_075/transcript_MAN3_annot06.deidentified.txt  \n",
            "  inflating: train/meeting_en_train_075/minutes_ORIG.deidentified.txt  \n",
            "   creating: train/meeting_en_train_059/\n",
            "  inflating: train/meeting_en_train_059/transcript_MAN_annot17.deidentified.txt  \n",
            "  inflating: train/meeting_en_train_059/minutes_GENER_annot17.deidentified.txt  \n",
            "   creating: train/meeting_cs_train_019/\n",
            "  inflating: train/meeting_cs_train_019/minutes_GENER_annot05.deidentified.txt  \n",
            "  inflating: train/meeting_cs_train_019/transcript_MAN2_annot18.deidentified.txt  \n",
            "   creating: train/meeting_en_test_017_2/\n",
            "  inflating: train/meeting_en_test_017_2/transcript_MAN2_annot07.deidentified.txt  \n",
            "  inflating: train/meeting_en_test_017_2/minutes_GENER_annot06.deidentified.txt  \n",
            "   creating: train/meeting_en_dev_010_1/\n",
            "  inflating: train/meeting_en_dev_010_1/minutes_GENER_annot11.deidentified.txt  \n",
            "  inflating: train/meeting_en_dev_010_1/transcript_MAN2_annot21.deidentified.txt  \n",
            "   creating: train/meeting_en_train_055/\n",
            "  inflating: train/meeting_en_train_055/minutes_GENER_annot11.deidentified.txt  \n",
            "  inflating: train/meeting_en_train_055/transcript_MAN2_annot06.deidentified.txt  \n",
            "   creating: train/meeting_cs_test_009_1/\n",
            "  inflating: train/meeting_cs_test_009_1/minutes_GENER_annot19.deidentified.txt  \n",
            "  inflating: train/meeting_cs_test_009_1/transcript_MAN_annot05.deidentified.txt  \n",
            "   creating: train/meeting_cs_dev_009_1/\n",
            "  inflating: train/meeting_cs_dev_009_1/minutes_GENER_annot19.deidentified.txt  \n",
            "  inflating: train/meeting_cs_dev_009_1/transcript_MAN_annot05.deidentified.txt  \n"
          ]
        }
      ]
    },
    {
      "cell_type": "code",
      "source": [
        "!rsync -a /content/task-A-elitr-minuting-corpus-cs/train/ /content/task-A-elitr-minuting-corpus-en/train\n",
        "# !rsync -a /content/task-A-elitr-minuting-corpus-cs/test/ /content/task-A-elitr-minuting-corpus-cs/train\n",
        "# !rsync -a /content/task-A-elitr-minuting-corpus-cs/testNEW/ /content/task-A-elitr-minuting-corpus-cs/train"
      ],
      "metadata": {
        "id": "RriNSocvxBYB"
      },
      "execution_count": null,
      "outputs": []
    },
    {
      "cell_type": "code",
      "source": [
        "# !rm -r /content/task-A-elitr-minuting-corpus-en/train\n",
        "%cp -r /content/task-A-elitr-minuting-corpus-cs/train /content/task-A-elitr-minuting-corpus-cs/train_copy"
      ],
      "metadata": {
        "id": "P3COvQCl1d8Y"
      },
      "execution_count": null,
      "outputs": []
    },
    {
      "cell_type": "code",
      "source": [
        "path = '/content/task-A-elitr-minuting-corpus-cs/train'\n",
        "for i in os.listdir(path):\n",
        "    flag = 0\n",
        "    tr = ''\n",
        "    try:\n",
        "        for j in os.listdir(f'{path}/{i}'):\n",
        "            if j[:10]=='transcript':\n",
        "                tr = j\n",
        "        for j in os.listdir(f'{path}/{i}'):\n",
        "            if j[:7]=='minutes':\n",
        "                if flag==0:\n",
        "                    flag+=1\n",
        "                    continue\n",
        "                else:\n",
        "                    !mkdir '{path}/{i}_{flag}'\n",
        "                    %cp -r '{path}/{i}/{tr}' '{path}/{i}_{flag}/'\n",
        "                    !mv -f '{path}/{i}/{j}' '{path}/{i}_{flag}/'\n",
        "                    flag+=1\n",
        "    except:\n",
        "        continue"
      ],
      "metadata": {
        "id": "uq9f9t0kxpZK"
      },
      "execution_count": null,
      "outputs": []
    },
    {
      "cell_type": "code",
      "source": [
        "path='/content/train'\n",
        "filelist=os.listdir(path)\n",
        "\n",
        "automin_transcripts={}\n",
        "automin_summary={}\n",
        "participants={}\n",
        "for file in filelist:\n",
        "    summs={}\n",
        "    if file[8:10]=='en' or file[8:10]=='cs':\n",
        "        f=os.listdir(f'{path}/{file}')\n",
        "        for ts in f:\n",
        "            if ts[-4:]!='.txt':\n",
        "                continue\n",
        "            #print(ts[:7])\n",
        "            \n",
        "            if ts[:10]=='transcript':\n",
        "                name=list(ts.split('_'))[2][:8]\n",
        "                with open(f'{path}/{file}/{ts}', 'r', encoding='utf8') as f1:\n",
        "                    txt=f1.read()\n",
        "                    automin_transcripts[file[:-3]]=txt\n",
        "                    \n",
        "            if ts[:7]=='minutes':\n",
        "                # print(ts)\n",
        "                try:\n",
        "                    name=''.join(list(ts.split('.'))[-3])\n",
        "                except:\n",
        "                    name=''.join(list(ts.split('.'))[0])\n",
        "                with open(f'{path}/{file}/{ts}', 'r', encoding='utf8') as f2:\n",
        "                    txt=f2.read()\n",
        "                    summs[name]=txt\n",
        "        automin_summary[file[:-3]]=summs\n",
        "\n",
        "(count_small_transcripts_automin, count_big_transcripts_automin, sum_small_transcripts_automin, \n",
        "sum_big_transcripts_automin, position_small_transcripts_automin, position_big_transcripts_automin, \n",
        "total_sent_transcripts_automin, total_words_transcripts_automin, total_refined_words_transcripts_automin,\n",
        "total_refined_unique_words_transcripts_automin, unique_dict_transcripts_automin, number_transcripts_automin,\n",
        "max_len_transcripts_automin, position_max_len_transcripts_automin, small_cont_transcripts_automin) = ami_mean(automin_transcripts, 5 , 10)\n",
        "\n",
        "count_small_asum_automin=[]\n",
        "count_big_asum_automin=[]\n",
        "sum_small_asum_automin=[]\n",
        "sum_big_asum_automin=[]\n",
        "position_small_asum_automin=[]\n",
        "position_big_asum_automin=[]\n",
        "total_sent_asum_automin=[]\n",
        "total_words_asum_automin=[]\n",
        "total_refined_words_asum_automin=[]\n",
        "total_refined_unique_words_asum_automin=[]\n",
        "unique_dict_asum_automin=[]\n",
        "number_asum_automin=[]\n",
        "max_len_asum_automin=[]\n",
        "position_max_len_asum_automin=[]\n",
        "small_cont_asum_automin=[]\n",
        "\n",
        "ll=[count_small_asum_automin, count_big_asum_automin, sum_small_asum_automin, \n",
        "sum_big_asum_automin, position_small_asum_automin, position_big_asum_automin, \n",
        "total_sent_asum_automin, total_words_asum_automin, total_refined_words_asum_automin,\n",
        "total_refined_unique_words_asum_automin, unique_dict_asum_automin, number_asum_automin,\n",
        "max_len_asum_automin, position_max_len_asum_automin, small_cont_asum_automin]\n",
        "\n",
        "for key in automin_summary.keys():\n",
        "    temp=ami_mean(automin_summary[key], 5,10)\n",
        "    for index in range(len(temp)):\n",
        "        ll[index].append(temp[index])\n",
        "    \n",
        "count_small_asum_automin=sum(count_small_asum_automin)\n",
        "count_big_asum_automin=sum(count_big_asum_automin)\n",
        "sum_small_asum_automin=sum(sum_small_asum_automin)\n",
        "sum_big_asum_automin=sum(sum_big_asum_automin)\n",
        "position_small_asum_automin=sum(position_small_asum_automin,[])\n",
        "position_big_asum_automin=sum(position_big_asum_automin,[])\n",
        "total_sent_asum_automin=sum(total_sent_asum_automin)\n",
        "total_words_asum_automin=sum(total_words_asum_automin)\n",
        "total_refined_words_asum_automin=sum(total_refined_words_asum_automin)\n",
        "total_refined_unique_words_asum_automin=sum(total_refined_unique_words_asum_automin)\n",
        "number_asum_automin=sum(number_asum_automin)\n",
        "max_len_asum_automin=sum(max_len_asum_automin,[])\n",
        "position_max_len_asum_automin=sum(position_max_len_asum_automin,[])\n",
        "small_cont_asum_automin=sum(small_cont_asum_automin)\n",
        "\n",
        "\"\"\"# AutoMin Turns and number of speakers (using change in speaker) \"\"\"\n",
        "\n",
        "turns_list=[]\n",
        "speaker_list=[]\n",
        "\n",
        "for key in automin_transcripts.keys():\n",
        "    s=[]\n",
        "    check=False\n",
        "    turns=0\n",
        "    speaker=[]\n",
        "    for index,i in enumerate(automin_transcripts[key]):\n",
        "        if check == True:\n",
        "            s.append(i)\n",
        "        if i=='(' and automin_transcripts[key][index+1:index+7]=='PERSON':\n",
        "            turns+=1\n",
        "            check=True\n",
        "        if i==')' and check == True:\n",
        "            check=False\n",
        "            speaker.append(''.join(s[:-1]))\n",
        "            s=[]\n",
        "    turns_list.append(turns)\n",
        "    speaker_list.append(list(set(speaker)))\n",
        "\n",
        "# number of speakers\n",
        "\n",
        "print(len(sum(speaker_list, []))/ len(speaker_list))\n",
        "\n",
        "# turns\n",
        "\n",
        "print(sum(turns_list)/len(turns_list))"
      ],
      "metadata": {
        "colab": {
          "base_uri": "https://localhost:8080/"
        },
        "id": "-DLwsBNHePBt",
        "outputId": "b21e524b-1938-4a57-a80a-034f5a4207a8"
      },
      "execution_count": null,
      "outputs": [
        {
          "output_type": "stream",
          "name": "stdout",
          "text": [
            "6.535714285714286\n",
            "356.67857142857144\n"
          ]
        }
      ]
    },
    {
      "cell_type": "code",
      "source": [
        "df=pd.DataFrame(columns=['count_small', 'count_big','sum_small','sum_big','position_small','position_big',\n",
        "    'total_sent','total_words','total_refined_words','total_unique_refined_words','number','unique','max_len',\n",
        "                         'position_max_len','small_cont_percentage','dataset', 'label'],\n",
        "                index=['ami_transcripts', 'ami_esum', 'ami_asum','icsi_transcripts', 'icsi_asum','automin_transcripts', 'automin_asum'])\n",
        "df.count_small=[count_small_transcripts_ami, count_small_esum_ami, count_small_asum_ami,count_small_transcripts_icsi,count_small_asum_icsi, count_small_transcripts_automin, count_small_asum_automin]\n",
        "df.count_big=[count_big_transcripts_ami, count_big_esum_ami, count_big_asum_ami,count_big_transcripts_icsi, count_big_asum_icsi, count_big_transcripts_automin, count_big_asum_automin]\n",
        "df.sum_small=[sum_small_transcripts_ami, sum_small_esum_ami, sum_small_asum_ami, sum_small_transcripts_icsi,sum_small_asum_icsi, sum_small_transcripts_automin, sum_small_asum_automin]\n",
        "df.sum_big=[sum_big_transcripts_ami,sum_big_esum_ami, sum_big_asum_ami, sum_big_transcripts_icsi, sum_big_asum_icsi, sum_big_transcripts_automin, sum_big_asum_automin]\n",
        "df.position_small=[position_small_transcripts_ami,position_small_esum_ami, position_small_asum_ami, position_small_transcripts_icsi, position_small_asum_icsi, position_small_transcripts_automin, position_small_asum_automin]\n",
        "df.position_big=[position_big_transcripts_ami,position_big_esum_ami, position_big_asum_ami, position_big_transcripts_icsi, position_big_asum_icsi, position_big_transcripts_automin, position_big_asum_automin]\n",
        "df.total_sent=[total_sent_transcripts_ami, total_sent_esum_ami, total_sent_asum_ami, total_sent_transcripts_icsi, total_sent_asum_icsi, total_sent_transcripts_automin, total_sent_asum_automin]\n",
        "df.total_words=[total_words_transcripts_ami,total_words_esum_ami,total_words_asum_ami, total_words_transcripts_icsi, total_words_asum_icsi, total_words_transcripts_automin, total_words_asum_automin]\n",
        "df.total_refined_words=[total_refined_words_transcripts_ami, total_refined_words_esum_ami, total_refined_words_asum_ami, total_refined_words_transcripts_icsi, total_refined_words_asum_icsi, total_refined_words_transcripts_automin, total_refined_words_asum_automin]\n",
        "df.total_unique_refined_words=[total_refined_unique_words_transcripts_ami, total_refined_unique_words_esum_ami, total_refined_unique_words_asum_ami, total_refined_unique_words_transcripts_icsi, total_refined_unique_words_asum_icsi, total_refined_unique_words_transcripts_ami, total_refined_unique_words_asum_automin]\n",
        "df.number=[number_transcripts_ami,number_esum_ami, number_asum_ami, number_transcripts_icsi, number_asum_icsi, number_transcripts_automin, number_asum_automin]\n",
        "df.unique=[unique_dict_transcripts_ami, unique_dict_esum_ami, unique_dict_asum_ami, unique_dict_transcripts_icsi, unique_dict_asum_icsi, unique_dict_transcripts_automin, unique_dict_asum_automin]\n",
        "df.max_len=[max_len_transcripts_ami, max_len_esum_ami, max_len_asum_ami,max_len_transcripts_icsi,max_len_asum_icsi, max_len_transcripts_automin, max_len_asum_automin]\n",
        "df.position_max_len=[position_max_len_transcripts_ami, position_max_len_esum_ami, position_max_len_asum_ami,position_max_len_transcripts_icsi,position_max_len_asum_icsi, position_max_len_transcripts_automin, position_max_len_asum_automin]\n",
        "df.small_cont_percentage=[small_cont_transcripts_ami/total_sent_transcripts_ami, small_cont_esum_ami/total_sent_esum_ami, small_cont_asum_ami/total_sent_asum_ami,small_cont_transcripts_icsi/total_sent_transcripts_icsi, small_count_asum_icsi/total_sent_asum_icsi, small_cont_transcripts_automin/total_sent_transcripts_automin, small_cont_asum_automin/total_sent_asum_automin]\n",
        "\n",
        "df.dataset=['AMI', 'AMI','AMI', 'ICSI', 'ICSI','ELITR_Minuting_Corpus', 'ELITR_Minuting_Corpus']\n",
        "df.label=['transcript', 'extractive_summary', 'abstractive_summary','transcript', 'abstractive_summary','transcript', 'abstractive_summary']"
      ],
      "metadata": {
        "id": "Ka7rw6Zrpawq"
      },
      "execution_count": null,
      "outputs": []
    },
    {
      "cell_type": "code",
      "source": [
        "t={}\n",
        "for dic in df['unique']['automin_asum']:\n",
        "    for key in dic:\n",
        "        if key in t:\n",
        "            t[key]+=dic[key]\n",
        "        else:\n",
        "            t[key]=dic[key]\n",
        "df['unique']['automin_asum']=t\n",
        "\n",
        "\"\"\"### Novel Summary Words\"\"\"\n",
        "\n",
        "def novel_summ_word(df, dataset):\n",
        "    t=0\n",
        "    for i in df['unique'][f'{dataset}_asum'].keys():\n",
        "        if i not in df['unique'][f'{dataset}_transcripts'].keys():\n",
        "            t+=1\n",
        "            \n",
        "    return t, t/len(df.unique.ami_asum)\n",
        "\n",
        "print('Novel summary words in AMI: ', novel_summ_word(df, 'ami'))\n",
        "print('Novel summary words in ICSI: ',novel_summ_word(df, 'icsi'))\n",
        "print('Novel summary words in AutoMin: ',novel_summ_word(df,'automin'))"
      ],
      "metadata": {
        "id": "03kvKJsZpu61",
        "colab": {
          "base_uri": "https://localhost:8080/"
        },
        "outputId": "9bddaac6-1c93-49d6-9bff-43ada4a390fb"
      },
      "execution_count": null,
      "outputs": [
        {
          "output_type": "stream",
          "name": "stdout",
          "text": [
            "Novel summary words in AMI:  (304, 0.16712479384277076)\n",
            "Novel summary words in ICSI:  (33, 0.018141836173721827)\n",
            "Novel summary words in AutoMin:  (646, 0.35514018691588783)\n"
          ]
        },
        {
          "output_type": "stream",
          "name": "stderr",
          "text": [
            "/usr/local/lib/python3.7/dist-packages/ipykernel_launcher.py:8: SettingWithCopyWarning: \n",
            "A value is trying to be set on a copy of a slice from a DataFrame\n",
            "\n",
            "See the caveats in the documentation: https://pandas.pydata.org/pandas-docs/stable/user_guide/indexing.html#returning-a-view-versus-a-copy\n",
            "  \n"
          ]
        }
      ]
    },
    {
      "cell_type": "code",
      "source": [
        "print('In terms of sentences')\n",
        "print(df.total_sent/df.number)\n",
        "# In terms of words\n",
        "print('In terms of words')\n",
        "print(df.total_words/df.number)\n",
        "\n",
        "\"\"\"### Max sentence length\"\"\"\n",
        "\n",
        "print('Maximum length of sentences')\n",
        "print(df.max_len.apply(sum)/df.max_len.apply(len))\n",
        "\n",
        "\"\"\"### T-test\"\"\"\n",
        "\n",
        "from scipy.stats import ttest_ind\n",
        "print('Position of big sentences in ICSI vs AutoMin: ')\n",
        "print(ttest_ind(df.position_big.icsi_transcripts,df.position_big.automin_transcripts))\n",
        "print('Position of big sentences in AMI vs AutoMin: ')\n",
        "print(ttest_ind(df.position_big.ami_transcripts,df.position_big.automin_transcripts))"
      ],
      "metadata": {
        "colab": {
          "base_uri": "https://localhost:8080/"
        },
        "id": "pHY4XU2vxp8a",
        "outputId": "5b70ab4d-e860-4b3b-e2aa-0840e42d6658"
      },
      "execution_count": null,
      "outputs": [
        {
          "output_type": "stream",
          "name": "stdout",
          "text": [
            "In terms of sentences\n",
            "ami_transcripts         553.080292\n",
            "ami_esum                 94.175182\n",
            "ami_asum                  8.503650\n",
            "icsi_transcripts       1667.967213\n",
            "icsi_asum                34.000000\n",
            "automin_transcripts     630.607143\n",
            "automin_asum             20.142857\n",
            "dtype: float64\n",
            "In terms of words\n",
            "ami_transcripts         5934.401460\n",
            "ami_esum                1981.598540\n",
            "ami_asum                 179.423358\n",
            "icsi_transcripts        9795.131148\n",
            "icsi_asum                658.000000\n",
            "automin_transcripts    10547.928571\n",
            "automin_asum             405.821429\n",
            "dtype: float64\n",
            "Maximum length of sentences\n",
            "ami_transcripts         89.569343\n",
            "ami_esum                92.890511\n",
            "ami_asum                36.963504\n",
            "icsi_transcripts        44.724864\n",
            "icsi_asum               30.294118\n",
            "automin_transcripts     96.857143\n",
            "automin_asum           117.500000\n",
            "Name: max_len, dtype: float64\n",
            "Position of big sentences in ICSI vs AutoMin: \n",
            "Ttest_indResult(statistic=1.437982766874127, pvalue=0.1504495074470736)\n",
            "Position of big sentences in AMI vs AutoMin: \n",
            "Ttest_indResult(statistic=0.029841131849375886, pvalue=0.9761939230309229)\n"
          ]
        }
      ]
    },
    {
      "cell_type": "code",
      "source": [
        "# Ami\n",
        "vocab={}\n",
        "for key in df.unique.ami_transcripts.keys():\n",
        "    vocab[key]=df.unique.ami_transcripts[key]/len(df.unique.ami_transcripts)\n",
        "stopWords = list(set(stopwords.words(\"english\")))\n",
        "perplexity=[]\n",
        "for key in abstractive_summary.keys():\n",
        "    asb=[]\n",
        "    for sentence in nltk.sent_tokenize(abstractive_summary[key]):\n",
        "        t=0\n",
        "        words=nltk.word_tokenize(sentence)\n",
        "        words=[word.lower() for word in words]\n",
        "        word_tokens_refined=[x for x in words if x not in stopWords]\n",
        "        for word in word_tokens_refined:\n",
        "            if word in vocab:\n",
        "                t+=np.log2(vocab[word])\n",
        "        \n",
        "        t=t/len(word_tokens_refined)\n",
        "        asb.append(np.power(2, -t))\n",
        "    perplexity.append(sum(asb)/len(asb))\n",
        "print('Perplexity: ', sum(perplexity)/len(perplexity))\n",
        "print('Entropy: ', np.log2(sum(perplexity)/len(perplexity)))"
      ],
      "metadata": {
        "colab": {
          "base_uri": "https://localhost:8080/"
        },
        "id": "xleFfnilx91m",
        "outputId": "8e93165a-2721-4db0-dde1-fbd74015966f"
      },
      "execution_count": null,
      "outputs": [
        {
          "output_type": "stream",
          "name": "stdout",
          "text": [
            "Perplexity:  32.844330296892934\n",
            "Entropy:  5.037572443866767\n"
          ]
        }
      ]
    },
    {
      "cell_type": "code",
      "source": [
        "# ICSI\n",
        "vocab={}\n",
        "for key in df.unique.icsi_transcripts.keys():\n",
        "    vocab[key]=df.unique.icsi_transcripts[key]/len(df.unique.icsi_transcripts)\n",
        "stopWords = list(set(stopwords.words(\"english\")))\n",
        "perplexity=[]\n",
        "\n",
        "for i in range(len(ab_sumtext_list)):\n",
        "\n",
        "    asb=[]\n",
        "    for sentence in nltk.sent_tokenize(' '.join(ab_sumtext_list[i])):\n",
        "        t=0\n",
        "        words=nltk.word_tokenize(sentence)\n",
        "        words=[word.lower() for word in words]\n",
        "        word_tokens_refined=[x for x in words if x not in stopWords]\n",
        "        for word in word_tokens_refined:\n",
        "            if word in vocab:\n",
        "                t+=np.log2(vocab[word])\n",
        "        \n",
        "        t=t/len(word_tokens_refined)\n",
        "        asb.append(np.power(2, -t))\n",
        "    perplexity.append(sum(asb)/len(asb))\n",
        "\n",
        "print('Perplexity: ', sum(perplexity)/len(perplexity))\n",
        "print('Entropy: ', np.log2(sum(perplexity)/len(perplexity)))"
      ],
      "metadata": {
        "colab": {
          "base_uri": "https://localhost:8080/"
        },
        "id": "XgyJwagQyDZA",
        "outputId": "83b7caaf-47d2-48de-960f-61ac8f0f6f94"
      },
      "execution_count": null,
      "outputs": [
        {
          "output_type": "stream",
          "name": "stdout",
          "text": [
            "Perplexity:  55.99044934979703\n",
            "Entropy:  5.807108853293732\n"
          ]
        }
      ]
    },
    {
      "cell_type": "code",
      "source": [
        "#Automin\n",
        "\n",
        "vocab={}\n",
        "for key in df.unique.automin_transcripts.keys():\n",
        "    vocab[key]=df.unique.automin_transcripts[key]/len(df.unique.automin_transcripts)\n",
        "stopWords = list(set(stopwords.words(\"english\")))\n",
        "\n",
        "perplexity=[]\n",
        "for key in automin_summary.keys():\n",
        "    for key2 in automin_summary[key].keys():\n",
        "        asb=[]\n",
        "        for sentence in nltk.sent_tokenize(automin_summary[key][key2]):\n",
        "            t=0\n",
        "            words=nltk.word_tokenize(sentence)\n",
        "            words=[word.lower() for word in words]\n",
        "            word_tokens_refined=[x for x in words if x not in stopWords]\n",
        "            for word in word_tokens_refined:\n",
        "                if word in vocab:\n",
        "                    t+=np.log2(vocab[word])\n",
        "\n",
        "            t=t/len(word_tokens_refined)\n",
        "            asb.append(np.power(2, -t))\n",
        "        perplexity.append(sum(asb)/len(asb))\n",
        "\n",
        "print('Perplexity: ', sum(perplexity)/len(perplexity))\n",
        "print('Entropy: ', np.log2(sum(perplexity)/len(perplexity)))"
      ],
      "metadata": {
        "colab": {
          "base_uri": "https://localhost:8080/"
        },
        "id": "z5Wi9f21yGbg",
        "outputId": "a1068c64-f296-439b-a930-024cb84d8134"
      },
      "execution_count": null,
      "outputs": [
        {
          "output_type": "stream",
          "name": "stdout",
          "text": [
            "Perplexity:  70.91052364815603\n",
            "Entropy:  6.147927844896011\n"
          ]
        }
      ]
    },
    {
      "cell_type": "code",
      "source": [
        "from scipy.stats import pearsonr\n",
        "def correlation(dataset):\n",
        "    #normalize score\n",
        "    t_vocab={}\n",
        "    for key in df['unique'][f'{dataset}_transcripts'].keys():\n",
        "        t_vocab[key]=df['unique'][f'{dataset}_transcripts'][key]/len(df['unique'][f'{dataset}_transcripts'])\n",
        "\n",
        "    s_vocab={}\n",
        "    for key in df['unique'][f'{dataset}_asum'].keys():\n",
        "        s_vocab[key]=df['unique'][f'{dataset}_asum'][key]/len(df['unique'][f'{dataset}_asum'])\n",
        "\n",
        "    corr=[]\n",
        "    x=[]\n",
        "    y=[]\n",
        "    for key in t_vocab:\n",
        "        if key in s_vocab:\n",
        "            x.append(t_vocab[key])\n",
        "            y.append(s_vocab[key])\n",
        "\n",
        "    return pearsonr(x,y)[0]\n",
        "\n",
        "print('AMI :', correlation('ami'))\n",
        "print('ICSI: ', correlation('icsi'))\n",
        "print('AutoMin:', correlation('automin'))"
      ],
      "metadata": {
        "colab": {
          "base_uri": "https://localhost:8080/"
        },
        "id": "vjKLRJ9ryPU7",
        "outputId": "0bbd3970-6ac0-46f2-b510-9da4d7c56137"
      },
      "execution_count": null,
      "outputs": [
        {
          "output_type": "stream",
          "name": "stdout",
          "text": [
            "AMI : 0.8496506489573399\n",
            "ICSI:  0.9449936459177705\n",
            "AutoMin: 0.6663630356572788\n"
          ]
        }
      ]
    },
    {
      "cell_type": "code",
      "source": [
        "import spacy\n",
        "from gensim import corpora\n",
        "import gensim\n",
        "\n",
        "spacy.load('en')\n",
        "from spacy.lang.en import English\n",
        "parser = English()\n",
        "\n",
        "def tokenize(text):\n",
        "    lda_tokens = []\n",
        "    tokens = parser(text)\n",
        "    for token in tokens:\n",
        "        if token.orth_.isspace():\n",
        "            continue\n",
        "        elif token.like_url:\n",
        "            lda_tokens.append('URL')\n",
        "        elif token.orth_.startswith('@'):\n",
        "            lda_tokens.append('SCREEN_NAME')\n",
        "        else:\n",
        "            lda_tokens.append(token.lower_)\n",
        "    return lda_tokens\n",
        "\n",
        "import nltk\n",
        "nltk.download('wordnet')\n",
        "from nltk.corpus import wordnet as wn\n",
        "def get_lemma(word):\n",
        "    lemma = wn.morphy(word)\n",
        "    if lemma is None:\n",
        "        return word\n",
        "    else:\n",
        "        return lemma\n",
        "    \n",
        "from nltk.stem.wordnet import WordNetLemmatizer\n",
        "def get_lemma2(word):\n",
        "    return WordNetLemmatizer().lemmatize(word)\n",
        "\n",
        "nltk.download('stopwords')\n",
        "en_stop = set(nltk.corpus.stopwords.words('english'))\n",
        "\n",
        "def prepare_text_for_lda(text):\n",
        "    tokens = tokenize(text)\n",
        "    tokens = [token for token in tokens if len(token) > 4]\n",
        "    tokens = [token for token in tokens if token not in en_stop]\n",
        "    tokens = [get_lemma(token) for token in tokens]\n",
        "    return tokens\n"
      ],
      "metadata": {
        "colab": {
          "base_uri": "https://localhost:8080/"
        },
        "id": "H-noq8B1ySZB",
        "outputId": "ec264221-67c8-49c8-fecc-31adf4781ada"
      },
      "execution_count": null,
      "outputs": [
        {
          "output_type": "stream",
          "name": "stdout",
          "text": [
            "[nltk_data] Downloading package wordnet to /root/nltk_data...\n",
            "[nltk_data]   Package wordnet is already up-to-date!\n",
            "[nltk_data] Downloading package stopwords to /root/nltk_data...\n",
            "[nltk_data]   Package stopwords is already up-to-date!\n"
          ]
        }
      ]
    },
    {
      "cell_type": "code",
      "source": [
        "#ami \n",
        "scores=0\n",
        "for key in transcripts.keys():\n",
        "    text_data = []\n",
        "    for line in nltk.sent_tokenize(transcripts[key]):\n",
        "        tokens = prepare_text_for_lda(line)\n",
        "        # print(tokens)\n",
        "        if len(tokens)>=5:\n",
        "            #print(tokens)\n",
        "            text_data.append(tokens)\n",
        "    dictionary = corpora.Dictionary(text_data)\n",
        "    corpus = [dictionary.doc2bow(text) for text in text_data]\n",
        "    #pickle.dump(corpus, open('corpus.pkl', 'wb'))\n",
        "    #dictionary.save('dictionary.gensim')\n",
        "    ldamodel = gensim.models.ldamodel.LdaModel(corpus,num_topics=50, id2word=dictionary, passes=15)\n",
        "    topics = ldamodel.print_topics(num_words=20)\n",
        "    a=[]\n",
        "    for topic in topics:\n",
        "        #print(topic[1].split('+ '))\n",
        "        s=0\n",
        "        for i in topic[1].split('+ '):\n",
        "            s+=float(i[:5])\n",
        "        a.append(s)\n",
        "    maxa=max(a)\n",
        "    a=[i/maxa for i in a if i/maxa>0.5]\n",
        "    scores+=len(a)\n",
        "    \n",
        "print('Average topics AMI: ',scores/len(transcripts))\n"
      ],
      "metadata": {
        "colab": {
          "base_uri": "https://localhost:8080/"
        },
        "id": "lcxdmRYtyek9",
        "outputId": "4fdb18fc-0b9a-4f80-f897-98162755c24b"
      },
      "execution_count": null,
      "outputs": [
        {
          "output_type": "stream",
          "name": "stdout",
          "text": [
            "Average topics AMI:  14.846715328467154\n"
          ]
        }
      ]
    },
    {
      "cell_type": "code",
      "source": [
        "# ICSI\n",
        "scores=0\n",
        "for index in range(len(text_list)):\n",
        "    text_data = []\n",
        "    for line in nltk.sent_tokenize(''.join(text_list[index])):\n",
        "        tokens = prepare_text_for_lda(line)\n",
        "        # print(tokens)\n",
        "        if len(tokens)>=5:\n",
        "            #print(tokens)\n",
        "            text_data.append(tokens)\n",
        "    dictionary = corpora.Dictionary(text_data)\n",
        "    corpus = [dictionary.doc2bow(text) for text in text_data]\n",
        "    #pickle.dump(corpus, open('corpus.pkl', 'wb'))\n",
        "    #dictionary.save('dictionary.gensim')\n",
        "    ldamodel = gensim.models.ldamodel.LdaModel(corpus,num_topics=100, id2word=dictionary, passes=15)\n",
        "    topics = ldamodel.print_topics(num_words=20)\n",
        "    a=[]\n",
        "    for topic in topics:\n",
        "        #print(topic[1].split('+ '))\n",
        "        s=0\n",
        "        for i in topic[1].split('+ '):\n",
        "            s+=float(i[:5])\n",
        "        a.append(s)\n",
        "    maxa=max(a)\n",
        "    a=[i/maxa for i in a if i/maxa>0.5]\n",
        "    scores+=len(a)\n",
        "\n",
        "    \n",
        "print('Average topics ICSI: ',scores/len(text_list))"
      ],
      "metadata": {
        "colab": {
          "base_uri": "https://localhost:8080/"
        },
        "id": "j0ZFuKP3yjxv",
        "outputId": "6f9eae08-0462-457b-e5f3-b64f5b865435"
      },
      "execution_count": null,
      "outputs": [
        {
          "output_type": "stream",
          "name": "stderr",
          "text": [
            "/usr/local/lib/python3.7/dist-packages/gensim/models/ldamodel.py:1023: RuntimeWarning: divide by zero encountered in log\n",
            "  diff = np.log(self.expElogbeta)\n"
          ]
        },
        {
          "output_type": "stream",
          "name": "stdout",
          "text": [
            "Average topics ICSI:  13.524590163934427\n"
          ]
        }
      ]
    },
    {
      "cell_type": "code",
      "source": [
        "# automin\n",
        "\n",
        "scores=0\n",
        "for key in automin_transcripts.keys():\n",
        "    text_data = []\n",
        "    for line in nltk.sent_tokenize(automin_transcripts[key]):\n",
        "        tokens = prepare_text_for_lda(line)\n",
        "        # print(tokens)\n",
        "        if len(tokens)>=5:\n",
        "            #print(tokens)\n",
        "            text_data.append(tokens)\n",
        "    dictionary = corpora.Dictionary(text_data)\n",
        "    corpus = [dictionary.doc2bow(text) for text in text_data]\n",
        "    #pickle.dump(corpus, open('corpus.pkl', 'wb'))\n",
        "    #dictionary.save('dictionary.gensim')\n",
        "    ldamodel = gensim.models.ldamodel.LdaModel(corpus,num_topics=100, id2word=dictionary, passes=15)\n",
        "    topics = ldamodel.print_topics(num_words=20)\n",
        "    a=[]\n",
        "    for topic in topics:\n",
        "        #print(topic[1].split('+ '))\n",
        "        s=0\n",
        "        for i in topic[1].split('+ '):\n",
        "            s+=float(i[:5])\n",
        "        a.append(s)\n",
        "    maxa=max(a)\n",
        "    a=[i/maxa for i in a if i/maxa>0.5]\n",
        "    scores+=len(a)\n",
        "    \n",
        "print('Average topics AutoMin: ',scores/len(text_list))"
      ],
      "metadata": {
        "colab": {
          "base_uri": "https://localhost:8080/"
        },
        "id": "fkcMlsvZyoe7",
        "outputId": "eaed1820-0ace-4288-add0-19d69c2f9647"
      },
      "execution_count": null,
      "outputs": [
        {
          "output_type": "stream",
          "name": "stderr",
          "text": [
            "/usr/local/lib/python3.7/dist-packages/gensim/models/ldamodel.py:1023: RuntimeWarning: divide by zero encountered in log\n",
            "  diff = np.log(self.expElogbeta)\n"
          ]
        },
        {
          "output_type": "stream",
          "name": "stdout",
          "text": [
            "Average topics AutoMin:  6.901639344262295\n"
          ]
        }
      ]
    },
    {
      "cell_type": "code",
      "source": [
        "def get_jaccard_sim(l1, l2): \n",
        "    a = set(l1) \n",
        "    b = set(l2)\n",
        "    c = a.intersection(b)\n",
        "    return float(len(c)) / (len(a) + len(b) - len(c))"
      ],
      "metadata": {
        "id": "_ffnuoCmzfrF"
      },
      "execution_count": null,
      "outputs": []
    },
    {
      "cell_type": "code",
      "source": [
        "#ami \n",
        "similarity=[]\n",
        "for key in extractive_summary.keys():\n",
        "    text_data = []\n",
        "    for line in nltk.sent_tokenize(transcripts[key]):\n",
        "        tokens = prepare_text_for_lda(line)\n",
        "\n",
        "        if len(tokens)>=5:\n",
        "            text_data.append(tokens)\n",
        "    dictionary = corpora.Dictionary(text_data)\n",
        "    corpus = [dictionary.doc2bow(text) for text in text_data]\n",
        "\n",
        "    ldamodel = gensim.models.ldamodel.LdaModel(corpus,num_topics=10, id2word=dictionary, passes=15)\n",
        "    topics = ldamodel.print_topics(num_words=10)\n",
        "    \n",
        "    \n",
        "    t_topic=[]\n",
        "    for topic in topics:\n",
        "        for index in range(1,len(topic[1].split('\"')),2):\n",
        "            t_topic.append(topic[1].split('\"')[index])\n",
        "    \n",
        "    for line in nltk.sent_tokenize(extractive_summary[key]):\n",
        "        tokens = prepare_text_for_lda(line)\n",
        "        if len(tokens)>=5:\n",
        "            text_data.append(tokens)\n",
        "    dictionary = corpora.Dictionary(text_data)\n",
        "    corpus = [dictionary.doc2bow(text) for text in text_data]\n",
        "\n",
        "    ldamodel = gensim.models.ldamodel.LdaModel(corpus,num_topics=10, id2word=dictionary, passes=15)\n",
        "    topics = ldamodel.print_topics(num_words=10)\n",
        "    \n",
        "    \n",
        "    s_topic=[]\n",
        "    for topic in topics:\n",
        "        for index in range(1,len(topic[1].split('\"')),2):\n",
        "            s_topic.append(topic[1].split('\"')[index])\n",
        "    similarity.append(get_jaccard_sim(t_topic, s_topic))\n",
        "print('Jaccard similarity between transcript and summary topics: ', statistics.mean(similarity))\n"
      ],
      "metadata": {
        "colab": {
          "base_uri": "https://localhost:8080/"
        },
        "id": "3o9GO2DQTjRd",
        "outputId": "6ac95086-516f-4d33-aaf4-d978be885900"
      },
      "execution_count": null,
      "outputs": [
        {
          "output_type": "stream",
          "name": "stdout",
          "text": [
            "Jaccard similarity between transcript and summary topics:  0.521829142987313\n"
          ]
        }
      ]
    },
    {
      "cell_type": "code",
      "source": [
        "#icsi\n",
        "similarity=[]\n",
        "for index in range(len(text_list)):\n",
        "    text_data = []\n",
        "    for line in nltk.sent_tokenize(''.join(text_list[index])):\n",
        "        tokens = prepare_text_for_lda(line)\n",
        "\n",
        "        if len(tokens)>=5:\n",
        "            text_data.append(tokens)\n",
        "    dictionary = corpora.Dictionary(text_data)\n",
        "    corpus = [dictionary.doc2bow(text) for text in text_data]\n",
        "    ldamodel = gensim.models.ldamodel.LdaModel(corpus,num_topics=100, id2word=dictionary, passes=15)\n",
        "    topics = ldamodel.print_topics(num_words=20)\n",
        "    t_topic=[]\n",
        "    for topic in topics:\n",
        "        for index in range(1,len(topic[1].split('\"')),2):\n",
        "            t_topic.append(topic[1].split('\"')[index])\n",
        "    \n",
        "    for line in nltk.sent_tokenize(''.join(ab_sumtext_list[index])):\n",
        "        tokens = prepare_text_for_lda(line)\n",
        "        if len(tokens)>=5:\n",
        "\n",
        "            text_data.append(tokens)\n",
        "    dictionary = corpora.Dictionary(text_data)\n",
        "    corpus = [dictionary.doc2bow(text) for text in text_data]\n",
        "    ldamodel = gensim.models.ldamodel.LdaModel(corpus,num_topics=10, id2word=dictionary, passes=15)\n",
        "    topics = ldamodel.print_topics(num_words=10)\n",
        "    s_topic=[]\n",
        "    for topic in topics:\n",
        "        for index in range(1,len(topic[1].split('\"')),2):\n",
        "            s_topic.append(topic[1].split('\"')[index])\n",
        "    similarity.append(get_jaccard_sim(t_topic, s_topic))\n",
        "print('Jaccard similarity between transcript and summary topics: ', statistics.mean(similarity))"
      ],
      "metadata": {
        "colab": {
          "base_uri": "https://localhost:8080/"
        },
        "id": "5bAnWdZXTl9Y",
        "outputId": "8a2bb4ff-06a3-4b53-92b8-db5b3f24518e"
      },
      "execution_count": null,
      "outputs": [
        {
          "output_type": "stream",
          "name": "stderr",
          "text": [
            "/usr/local/lib/python3.7/dist-packages/gensim/models/ldamodel.py:1023: RuntimeWarning: divide by zero encountered in log\n",
            "  diff = np.log(self.expElogbeta)\n"
          ]
        },
        {
          "output_type": "stream",
          "name": "stdout",
          "text": [
            "Jaccard similarity between transcript and summary topics:  0.22767008240689066\n"
          ]
        }
      ]
    },
    {
      "cell_type": "code",
      "source": [
        "#automin\n",
        "\n",
        "similarity=[]\n",
        "for key in automin_transcripts.keys():\n",
        "    text_data = []\n",
        "    for line in nltk.sent_tokenize(automin_transcripts[key]):\n",
        "        tokens = prepare_text_for_lda(line)\n",
        "        if len(tokens)>=5:\n",
        "            text_data.append(tokens)\n",
        "    dictionary = corpora.Dictionary(text_data)\n",
        "    corpus = [dictionary.doc2bow(text) for text in text_data]\n",
        "    ldamodel = gensim.models.ldamodel.LdaModel(corpus,num_topics=10, id2word=dictionary, passes=15)\n",
        "    topics = ldamodel.print_topics(num_words=10)\n",
        "    t_topic=[]\n",
        "    for topic in topics:\n",
        "        for index in range(1,len(topic[1].split('\"')),2):\n",
        "            t_topic.append(topic[1].split('\"')[index])\n",
        "    \n",
        "    text_data=[]\n",
        "    for key1 in automin_summary[key]:\n",
        "        for line in nltk.sent_tokenize(automin_summary[key][key1]):\n",
        "            tokens = prepare_text_for_lda(line)\n",
        "            if len(tokens)>=5:\n",
        "                text_data.append(tokens)\n",
        "    dictionary = corpora.Dictionary(text_data)\n",
        "    corpus = [dictionary.doc2bow(text) for text in text_data]\n",
        "    ldamodel = gensim.models.ldamodel.LdaModel(corpus,num_topics=10, id2word=dictionary, passes=15)\n",
        "    topics = ldamodel.print_topics(num_words=10)\n",
        "    \n",
        "    s_topic=[]\n",
        "    for topic in topics:\n",
        "        for index in range(1,len(topic[1].split('\"')),2):\n",
        "            s_topic.append(topic[1].split('\"')[index])\n",
        "    similarity.append(get_jaccard_sim(t_topic, s_topic))\n",
        "print('Jaccard similarity between transcript and summary topics: ', statistics.mean(similarity))"
      ],
      "metadata": {
        "colab": {
          "base_uri": "https://localhost:8080/"
        },
        "id": "0sHyeJf1TnuU",
        "outputId": "e2d46b06-3509-4cfd-8ed5-410d489d345e"
      },
      "execution_count": null,
      "outputs": [
        {
          "output_type": "stream",
          "name": "stdout",
          "text": [
            "Jaccard similarity between transcript and summary topics:  0.10509905539413722\n"
          ]
        }
      ]
    },
    {
      "cell_type": "code",
      "source": [
        "\"\"\"## Inter Annotator Agreement\"\"\"\n",
        "\n",
        "from scipy.stats import chisquare\n",
        "chisq=[]\n",
        "standard_deviations=[]\n",
        "for key1 in automin_summary.keys():\n",
        "    scores=0\n",
        "    og=[]\n",
        "    full_dioc={}\n",
        "    dioc=[]\n",
        "    for key in automin_summary[key1].keys():\n",
        "        text_data = []\n",
        "        a=[]\n",
        "        for line in nltk.sent_tokenize(automin_summary[key1][key]):\n",
        "            tokens = prepare_text_for_lda(line)\n",
        "            # print(tokens)\n",
        "            if len(tokens)>=5:\n",
        "                #print(tokens)\n",
        "                text_data.append(tokens)\n",
        "        dictionary = corpora.Dictionary(text_data)\n",
        "        corpus = [dictionary.doc2bow(text) for text in text_data]\n",
        "        #pickle.dump(corpus, open('corpus.pkl', 'wb'))\n",
        "        #dictionary.save('dictionary.gensim')\n",
        "        ldamodel = gensim.models.ldamodel.LdaModel(corpus,num_topics=10, id2word=dictionary, passes=15)\n",
        "        topics = ldamodel.print_topics(num_words=10)\n",
        "        topic_list=[]\n",
        "        topc_dic={}\n",
        "        for topic in topics:\n",
        "            #print(topic[1].split('+'))\n",
        "            for i in topic[1].split('+'):\n",
        "                a.append(i[7:-1])\n",
        "                name=i[7:-1]\n",
        "                if name in dioc:\n",
        "                    full_dioc[name]+=1\n",
        "                else:\n",
        "                    full_dioc[name]=1\n",
        "                if name in topc_dic:\n",
        "                    topc_dic[name]+=1\n",
        "                else:\n",
        "                    topc_dic[name]=1\n",
        "\n",
        "            #a.append(topic[1].split('+')[7:-1])\n",
        "            topic_list.append(a)\n",
        "        dioc.append(topc_dic)\n",
        "        og.append(topic_list)\n",
        "    vals=[]\n",
        "    for i in range(len(dioc)):\n",
        "        #print(i)\n",
        "        x_obs=list(dioc[i].values())\n",
        "        y_exp=[]\n",
        "        for key in dioc[i]:\n",
        "            if key in full_dioc:\n",
        "                y_exp.append(full_dioc[key])\n",
        "            else:\n",
        "                y_exp.append(0)\n",
        "        vals.append(chisquare(x_obs,y_exp)[1])\n",
        "    chisq.append(statistics.median(vals))\n",
        "    if len(vals)>1:\n",
        "        standard_deviations.append(statistics.stdev(vals))\n",
        "    else:\n",
        "        standard_deviations.append(0)"
      ],
      "metadata": {
        "id": "tGu1FRUuTpr6"
      },
      "execution_count": null,
      "outputs": []
    },
    {
      "cell_type": "code",
      "source": [
        "ax=sns.kdeplot(df.position_small.loc['ami_transcripts'])\n",
        "sns.kdeplot(df.position_small.loc['icsi_transcripts'])\n",
        "sns.kdeplot(df.position_small.loc['automin_transcripts'])\n",
        "ax.set(xlabel='Position')\n",
        "plt.legend(['AMI', 'ICSI', 'ELITR_Minuting_Corpus'],bbox_to_anchor=(1.31, 1), loc='upper right')\n"
      ],
      "metadata": {
        "colab": {
          "base_uri": "https://localhost:8080/",
          "height": 296
        },
        "id": "n-OE0a3HTu2W",
        "outputId": "ab62634e-863f-4e98-80cd-78ca95e79395"
      },
      "execution_count": null,
      "outputs": [
        {
          "output_type": "execute_result",
          "data": {
            "text/plain": [
              "<matplotlib.legend.Legend at 0x7fe904a86390>"
            ]
          },
          "metadata": {},
          "execution_count": 24
        },
        {
          "output_type": "display_data",
          "data": {
            "text/plain": [
              "<Figure size 432x288 with 1 Axes>"
            ],
            "image/png": "[encoded data removed]"
          },
          "metadata": {
            "needs_background": "light"
          }
        }
      ]
    },
    {
      "cell_type": "code",
      "source": [
        "ax=sns.kdeplot(df.position_big.loc['ami_transcripts'])\n",
        "sns.kdeplot(df.position_big.loc['icsi_transcripts'])\n",
        "sns.kdeplot(df.position_big.loc['automin_transcripts'])\n",
        "ax.set(xlabel='Position')\n",
        "plt.legend(['ami', 'icsi', 'MinuteMeet'],bbox_to_anchor=(1.31, 1), loc='upper right')\n"
      ],
      "metadata": {
        "colab": {
          "base_uri": "https://localhost:8080/",
          "height": 296
        },
        "id": "VtR-KlgCV1qM",
        "outputId": "0483518a-f3f1-4e42-9ed8-6e4ff3f6544e"
      },
      "execution_count": null,
      "outputs": [
        {
          "output_type": "execute_result",
          "data": {
            "text/plain": [
              "<matplotlib.legend.Legend at 0x7fe908921b90>"
            ]
          },
          "metadata": {},
          "execution_count": 25
        },
        {
          "output_type": "display_data",
          "data": {
            "text/plain": [
              "<Figure size 432x288 with 1 Axes>"
            ],
            "image/png": "[encoded data removed]"
          },
          "metadata": {
            "needs_background": "light"
          }
        }
      ]
    },
    {
      "cell_type": "code",
      "source": [
        "\"\"\"### Total sentences \"\"\"\n",
        "\n",
        "ax=sns.barplot(x=df.label,y=df.total_sent, hue=df.dataset, palette='Blues')\n",
        "ax.set(xlabel='Datasets', ylabel='Total sentences')\n",
        "ax.figure.savefig('out.png')"
      ],
      "metadata": {
        "colab": {
          "base_uri": "https://localhost:8080/",
          "height": 280
        },
        "id": "bW9lmqjvV5iQ",
        "outputId": "1c53af7a-2daa-403f-d7f4-9e43269a6e16"
      },
      "execution_count": null,
      "outputs": [
        {
          "output_type": "display_data",
          "data": {
            "text/plain": [
              "<Figure size 432x288 with 1 Axes>"
            ],
            "image/png": "[encoded data removed]"
          },
          "metadata": {
            "needs_background": "light"
          }
        }
      ]
    },
    {
      "cell_type": "code",
      "source": [
        "\"\"\"### Total words \"\"\"\n",
        "\n",
        "ax=sns.barplot(x=df.label,y=df.total_words, hue=df.dataset, palette='Blues')\n",
        "ax.set(xlabel='Datasets', ylabel='Total words')\n",
        "ax.figure.savefig('out.png')"
      ],
      "metadata": {
        "colab": {
          "base_uri": "https://localhost:8080/",
          "height": 280
        },
        "id": "wpRQ0YQSWAG-",
        "outputId": "a9ba558f-4242-486e-c27f-e3e9f4d6b80f"
      },
      "execution_count": null,
      "outputs": [
        {
          "output_type": "display_data",
          "data": {
            "text/plain": [
              "<Figure size 432x288 with 1 Axes>"
            ],
            "image/png": "[encoded data removed]"
          },
          "metadata": {
            "needs_background": "light"
          }
        }
      ]
    },
    {
      "cell_type": "code",
      "source": [
        "\"\"\"### Total refined words  (occurance)\"\"\"\n",
        "\n",
        "sns.barplot(x=df.label,y=df.total_refined_words, hue=df.dataset, palette='Blues')"
      ],
      "metadata": {
        "colab": {
          "base_uri": "https://localhost:8080/",
          "height": 297
        },
        "id": "uFtDJUnbWDSM",
        "outputId": "27edfa88-4d9f-4030-f115-b44f0c10d4bc"
      },
      "execution_count": null,
      "outputs": [
        {
          "output_type": "execute_result",
          "data": {
            "text/plain": [
              "<matplotlib.axes._subplots.AxesSubplot at 0x7fe9014cf290>"
            ]
          },
          "metadata": {},
          "execution_count": 46
        },
        {
          "output_type": "display_data",
          "data": {
            "text/plain": [
              "<Figure size 432x288 with 1 Axes>"
            ],
            "image/png": "[encoded data removed]"
          },
          "metadata": {
            "needs_background": "light"
          }
        }
      ]
    },
    {
      "cell_type": "code",
      "source": [
        "\"\"\"### Total unique refined words  (Vocabulary)\"\"\"\n",
        "\n",
        "ax=sns.barplot(x=df.label,y=df.total_unique_refined_words, hue=df.dataset, palette='Blues')\n",
        "ax.set(xlabel='Datasets', ylabel='Size of vocabulary')"
      ],
      "metadata": {
        "colab": {
          "base_uri": "https://localhost:8080/",
          "height": 297
        },
        "id": "jjpCtJuOWFg-",
        "outputId": "50f32b05-2a19-4058-ed54-8f7cbfee3811"
      },
      "execution_count": null,
      "outputs": [
        {
          "output_type": "execute_result",
          "data": {
            "text/plain": [
              "[Text(0, 0.5, 'Size of vocabulary'), Text(0.5, 0, 'Datasets')]"
            ]
          },
          "metadata": {},
          "execution_count": 47
        },
        {
          "output_type": "display_data",
          "data": {
            "text/plain": [
              "<Figure size 432x288 with 1 Axes>"
            ],
            "image/png": "[encoded data removed]"
          },
          "metadata": {
            "needs_background": "light"
          }
        }
      ]
    },
    {
      "cell_type": "code",
      "source": [
        "\"\"\"### Frequency of small talk \"\"\"\n",
        "\n",
        "ax=sns.barplot(x=df.label,y=df.count_small, hue=df.dataset, palette='Blues')\n",
        "ax.set(xlabel='Datasets', ylabel='Frequency of small talk')"
      ],
      "metadata": {
        "colab": {
          "base_uri": "https://localhost:8080/",
          "height": 297
        },
        "id": "IthzXu-UWIZj",
        "outputId": "586cbfca-ed50-41de-e74e-d8892d2873a7"
      },
      "execution_count": null,
      "outputs": [
        {
          "output_type": "execute_result",
          "data": {
            "text/plain": [
              "[Text(0, 0.5, 'Frequency of small talk'), Text(0.5, 0, 'Datasets')]"
            ]
          },
          "metadata": {},
          "execution_count": 48
        },
        {
          "output_type": "display_data",
          "data": {
            "text/plain": [
              "<Figure size 432x288 with 1 Axes>"
            ],
            "image/png": "[encoded data removed]"
          },
          "metadata": {
            "needs_background": "light"
          }
        }
      ]
    },
    {
      "cell_type": "code",
      "source": [
        "\n",
        "\"\"\"### Frequency of big talk \"\"\"\n",
        "\n",
        "ax=sns.barplot(x=df.label,y=df.count_big, hue=df.dataset, palette='Blues')\n",
        "ax.set(xlabel='Datasets', ylabel='Frequency of big talk')\n"
      ],
      "metadata": {
        "colab": {
          "base_uri": "https://localhost:8080/",
          "height": 297
        },
        "id": "rEPE0T4mWKP-",
        "outputId": "930f12d4-9516-4126-c84b-e9852e71ddac"
      },
      "execution_count": null,
      "outputs": [
        {
          "output_type": "execute_result",
          "data": {
            "text/plain": [
              "[Text(0, 0.5, 'Frequency of big talk'), Text(0.5, 0, 'Datasets')]"
            ]
          },
          "metadata": {},
          "execution_count": 49
        },
        {
          "output_type": "display_data",
          "data": {
            "text/plain": [
              "<Figure size 432x288 with 1 Axes>"
            ],
            "image/png": "[encoded data removed]"
          },
          "metadata": {
            "needs_background": "light"
          }
        }
      ]
    },
    {
      "cell_type": "code",
      "source": [
        "\"\"\"### Percentage of small talk (sentences) \"\"\"\n",
        "\n",
        "ax=sns.barplot(x=df.label,y=(df.count_small/df.total_sent)*100, hue=df.dataset, palette='Blues')\n",
        "ax.set(xlabel='Datasets', ylabel='Percentage of small sentences')"
      ],
      "metadata": {
        "colab": {
          "base_uri": "https://localhost:8080/",
          "height": 297
        },
        "id": "nTqTiabtWN96",
        "outputId": "4ec22bc6-e6fb-47f1-926e-e098993e2a70"
      },
      "execution_count": null,
      "outputs": [
        {
          "output_type": "execute_result",
          "data": {
            "text/plain": [
              "[Text(0, 0.5, 'Percentage of small sentences'), Text(0.5, 0, 'Datasets')]"
            ]
          },
          "metadata": {},
          "execution_count": 50
        },
        {
          "output_type": "display_data",
          "data": {
            "text/plain": [
              "<Figure size 432x288 with 1 Axes>"
            ],
            "image/png": "[encoded data removed]"
          },
          "metadata": {
            "needs_background": "light"
          }
        }
      ]
    },
    {
      "cell_type": "code",
      "source": [
        "\"\"\"### Percentage of continuos small talk\"\"\"\n",
        "\n",
        "ax=sns.barplot(x=df.label, y=df.small_cont_percentage*100, hue=df.dataset, palette='Blues')\n",
        "ax.set(xlabel='Datasets', ylabel='Percentage of continuous small sentences')"
      ],
      "metadata": {
        "colab": {
          "base_uri": "https://localhost:8080/",
          "height": 315
        },
        "id": "NOKPO17OWPfs",
        "outputId": "398e5cb5-ec90-43e1-cc7d-2d027f8f87e2"
      },
      "execution_count": null,
      "outputs": [
        {
          "output_type": "execute_result",
          "data": {
            "text/plain": [
              "[Text(0, 0.5, 'Percentage of continuous small sentences'),\n",
              " Text(0.5, 0, 'Datasets')]"
            ]
          },
          "metadata": {},
          "execution_count": 51
        },
        {
          "output_type": "display_data",
          "data": {
            "text/plain": [
              "<Figure size 432x288 with 1 Axes>"
            ],
            "image/png": "[encoded data removed]"
          },
          "metadata": {
            "needs_background": "light"
          }
        }
      ]
    },
    {
      "cell_type": "code",
      "source": [
        "\"\"\"### Percentage of big sentences  \"\"\"\n",
        "\n",
        "sns.barplot(x=df.label,y=(df.count_big/df.total_sent)*100, hue=df.dataset, palette='Blues')"
      ],
      "metadata": {
        "colab": {
          "base_uri": "https://localhost:8080/",
          "height": 297
        },
        "id": "9EfC1KdRWU9z",
        "outputId": "5c9c1177-22e1-4e6e-c083-4169bece5065"
      },
      "execution_count": null,
      "outputs": [
        {
          "output_type": "execute_result",
          "data": {
            "text/plain": [
              "<matplotlib.axes._subplots.AxesSubplot at 0x7fe901d68d10>"
            ]
          },
          "metadata": {},
          "execution_count": 52
        },
        {
          "output_type": "display_data",
          "data": {
            "text/plain": [
              "<Figure size 432x288 with 1 Axes>"
            ],
            "image/png": "[encoded data removed]"
          },
          "metadata": {
            "needs_background": "light"
          }
        }
      ]
    },
    {
      "cell_type": "code",
      "source": [
        "\"\"\"### Average length per sentences\"\"\"\n",
        "\n",
        "ax=sns.barplot(x=df.label,y=(df.total_sent/df.number), hue=df.dataset, palette='Blues')\n",
        "ax.set(xlabel='Datasets', ylabel='Average length in terms of sentences')"
      ],
      "metadata": {
        "colab": {
          "base_uri": "https://localhost:8080/",
          "height": 315
        },
        "id": "73ZDwvcBWWK4",
        "outputId": "e8ef44fd-4599-4c17-e8b0-1ee376aff206"
      },
      "execution_count": null,
      "outputs": [
        {
          "output_type": "execute_result",
          "data": {
            "text/plain": [
              "[Text(0, 0.5, 'Average length in terms of sentences'),\n",
              " Text(0.5, 0, 'Datasets')]"
            ]
          },
          "metadata": {},
          "execution_count": 53
        },
        {
          "output_type": "display_data",
          "data": {
            "text/plain": [
              "<Figure size 432x288 with 1 Axes>"
            ],
            "image/png": "[encoded data removed]"
          },
          "metadata": {
            "needs_background": "light"
          }
        }
      ]
    },
    {
      "cell_type": "code",
      "source": [
        "\"\"\"### Average length per words\"\"\"\n",
        "\n",
        "sns.barplot(x=df.label,y=(df.total_words/df.number), hue=df.dataset, palette='Blues')\n",
        "ax.set(xlabel='Datasets', ylabel='Average length in terms of words')\n"
      ],
      "metadata": {
        "colab": {
          "base_uri": "https://localhost:8080/",
          "height": 315
        },
        "id": "Ch_zb1yXWXjX",
        "outputId": "d516c6d2-2e99-4e27-a576-98ea21878493"
      },
      "execution_count": null,
      "outputs": [
        {
          "output_type": "execute_result",
          "data": {
            "text/plain": [
              "[Text(17.200000000000003, 0.5, 'Average length in terms of words'),\n",
              " Text(0.5, 17.200000000000003, 'Datasets')]"
            ]
          },
          "metadata": {},
          "execution_count": 54
        },
        {
          "output_type": "display_data",
          "data": {
            "text/plain": [
              "<Figure size 432x288 with 1 Axes>"
            ],
            "image/png": "[encoded data removed]"
          },
          "metadata": {
            "needs_background": "light"
          }
        }
      ]
    },
    {
      "cell_type": "code",
      "source": [
        "\"\"\"### Max sentence length \"\"\"\n",
        "\n",
        "ax=sns.barplot(x=df.label, y=df.max_len.apply(sum)/df.max_len.apply(len), hue=df.dataset, palette='Blues')\n",
        "ax.set(xlabel='Datasets', ylabel='Maximum length of sentences')\n"
      ],
      "metadata": {
        "colab": {
          "base_uri": "https://localhost:8080/",
          "height": 297
        },
        "id": "9vuukVoeWYzm",
        "outputId": "fdd2b9b2-4919-40f3-9e1b-5f79d3b0d8fa"
      },
      "execution_count": null,
      "outputs": [
        {
          "output_type": "execute_result",
          "data": {
            "text/plain": [
              "[Text(0, 0.5, 'Maximum length of sentences'), Text(0.5, 0, 'Datasets')]"
            ]
          },
          "metadata": {},
          "execution_count": 55
        },
        {
          "output_type": "display_data",
          "data": {
            "text/plain": [
              "<Figure size 432x288 with 1 Axes>"
            ],
            "image/png": "[encoded data removed]"
          },
          "metadata": {
            "needs_background": "light"
          }
        }
      ]
    },
    {
      "cell_type": "code",
      "source": [
        "\"\"\"### Max Sentence Position\"\"\"\n",
        "\n",
        "ax=sns.barplot(x=df.label, y=df.position_max_len.apply(sum)/df.position_max_len.apply(len), hue=df.dataset, palette='Blues')\n",
        "ax.set(xlabel='Datasets', ylabel='Position of Maximum length sentence')\n"
      ],
      "metadata": {
        "colab": {
          "base_uri": "https://localhost:8080/",
          "height": 297
        },
        "id": "MPnrKLaPWZ9O",
        "outputId": "6e3528d1-6dac-4724-c55d-23ea1110ff33"
      },
      "execution_count": null,
      "outputs": [
        {
          "output_type": "execute_result",
          "data": {
            "text/plain": [
              "[Text(0, 0.5, 'Position of Maximum length sentence'), Text(0.5, 0, 'Datasets')]"
            ]
          },
          "metadata": {},
          "execution_count": 56
        },
        {
          "output_type": "display_data",
          "data": {
            "text/plain": [
              "<Figure size 432x288 with 1 Axes>"
            ],
            "image/png": "[encoded data removed]"
          },
          "metadata": {
            "needs_background": "light"
          }
        }
      ]
    },
    {
      "cell_type": "code",
      "source": [
        "\"\"\"### LDA\"\"\"\n",
        "\n",
        "ax=sns.barplot(x=['AMI','ICSI', 'ELITR_Minuting_Corpus'], y=[14.81021897810219, 13.62295081967213, 7.098360655737705], palette='Blues')\n",
        "ax.set(xlabel=\"Datasets\", ylabel = \"Number of topics per document\")\n"
      ],
      "metadata": {
        "colab": {
          "base_uri": "https://localhost:8080/",
          "height": 297
        },
        "id": "eC2TsPr2WfTt",
        "outputId": "c8a0f0b3-c473-4343-b869-7290483898c0"
      },
      "execution_count": null,
      "outputs": [
        {
          "output_type": "execute_result",
          "data": {
            "text/plain": [
              "[Text(0, 0.5, 'Number of topics per document'), Text(0.5, 0, 'Datasets')]"
            ]
          },
          "metadata": {},
          "execution_count": 63
        },
        {
          "output_type": "display_data",
          "data": {
            "text/plain": [
              "<Figure size 432x288 with 1 Axes>"
            ],
            "image/png": "[encoded data removed]"
          },
          "metadata": {
            "needs_background": "light"
          }
        }
      ]
    },
    {
      "cell_type": "code",
      "source": [
        "\"\"\"### Correlation \"\"\"\n",
        "\n",
        "ax=sns.barplot(x=['AMI','ICSI', 'ELITR_Minuting_Corpus'], y=[correlation('ami'),correlation('icsi'),correlation('automin')], palette='Blues')\n",
        "ax.set(xlabel='Datasets', ylabel='Correlation')\n"
      ],
      "metadata": {
        "colab": {
          "base_uri": "https://localhost:8080/",
          "height": 297
        },
        "id": "-aDZKEHYWgt1",
        "outputId": "8a4f6e1c-479e-4f51-d29e-5198d7ff0ab8"
      },
      "execution_count": null,
      "outputs": [
        {
          "output_type": "execute_result",
          "data": {
            "text/plain": [
              "[Text(0, 0.5, 'Correlation'), Text(0.5, 0, 'Datasets')]"
            ]
          },
          "metadata": {},
          "execution_count": 64
        },
        {
          "output_type": "display_data",
          "data": {
            "text/plain": [
              "<Figure size 432x288 with 1 Axes>"
            ],
            "image/png": "[encoded data removed]"
          },
          "metadata": {
            "needs_background": "light"
          }
        }
      ]
    },
    {
      "cell_type": "code",
      "source": [
        "\"\"\"### Occurance of important sentences \"\"\"\n",
        "\n",
        "#ami \n",
        "\n",
        "important=[]\n",
        "for key in extractive_summary.keys():\n",
        "    text_data = []\n",
        "    for line in nltk.sent_tokenize(transcripts[key]):\n",
        "        tokens = prepare_text_for_lda(line)\n",
        "        # print(tokens)\n",
        "        if len(tokens)>=5:\n",
        "            #print(tokens)\n",
        "            text_data.append(tokens)\n",
        "    dictionary = corpora.Dictionary(text_data)\n",
        "    corpus = [dictionary.doc2bow(text) for text in text_data]\n",
        "    #pickle.dump(corpus, open('corpus.pkl', 'wb'))\n",
        "    #dictionary.save('dictionary.gensim')\n",
        "    ldamodel = gensim.models.ldamodel.LdaModel(corpus,num_topics=10, id2word=dictionary, passes=15)\n",
        "    topics = ldamodel.print_topics(num_words=10)\n",
        "    \n",
        "    \n",
        "    t_topic=[]\n",
        "    for topic in topics:\n",
        "        for index in range(1,len(topic[1].split('\"')),2):\n",
        "            t_topic.append(topic[1].split('\"')[index])\n",
        "    \n",
        "    t_topic=[word for word in t_topic if word not in stopWords]\n",
        "    scores=[]\n",
        "    for index,line in enumerate(nltk.sent_tokenize(transcripts[key])):\n",
        "        temp=nltk.word_tokenize(line)\n",
        "        temp=[word.lower() for word in temp]\n",
        "        word_tokens_refined=[x for x in temp if x not in stopWords]\n",
        "        score=0\n",
        "        for word in word_tokens_refined:\n",
        "            if word in t_topic:\n",
        "                score+=1\n",
        "        scores.append(score)\n",
        "    max_score=max(scores)\n",
        "    scores=[i/max_score for i in scores if i/max_score>0.7]\n",
        "    \n",
        "    important.append(len(scores))\n",
        "statistics.mean(important)\n"
      ],
      "metadata": {
        "colab": {
          "base_uri": "https://localhost:8080/"
        },
        "id": "6WwtIyfdWiVF",
        "outputId": "a2881476-bd14-46c5-9f71-83c86fc17ef8"
      },
      "execution_count": null,
      "outputs": [
        {
          "output_type": "execute_result",
          "data": {
            "text/plain": [
              "4.357664233576642"
            ]
          },
          "metadata": {},
          "execution_count": 59
        }
      ]
    },
    {
      "cell_type": "code",
      "source": [
        "# icsi \n",
        "\n",
        "important=[]\n",
        "for key in range(len(text_list)):\n",
        "    text_data = []\n",
        "    for line in nltk.sent_tokenize(''.join(text_list[key])):\n",
        "        tokens = prepare_text_for_lda(line)\n",
        "        # print(tokens)\n",
        "        if len(tokens)>=5:\n",
        "            #print(tokens)\n",
        "            text_data.append(tokens)\n",
        "    dictionary = corpora.Dictionary(text_data)\n",
        "    corpus = [dictionary.doc2bow(text) for text in text_data]\n",
        "    #pickle.dump(corpus, open('corpus.pkl', 'wb'))\n",
        "    #dictionary.save('dictionary.gensim')\n",
        "    ldamodel = gensim.models.ldamodel.LdaModel(corpus,num_topics=10, id2word=dictionary, passes=15)\n",
        "    topics = ldamodel.print_topics(num_words=10)\n",
        "    \n",
        "    \n",
        "    t_topic=[]\n",
        "    for topic in topics:\n",
        "        for index in range(1,len(topic[1].split('\"')),2):\n",
        "            t_topic.append(topic[1].split('\"')[index])\n",
        "    \n",
        "    t_topic=[word for word in t_topic if word not in stopWords]\n",
        "    scores=[]\n",
        "    for index,line in enumerate(nltk.sent_tokenize(''.join(text_list[key]))):\n",
        "        temp=nltk.word_tokenize(line)\n",
        "        temp=[word.lower() for word in temp]\n",
        "        word_tokens_refined=[x for x in temp if x not in stopWords]\n",
        "        score=0\n",
        "        for word in word_tokens_refined:\n",
        "            if word in t_topic:\n",
        "                score+=1\n",
        "        scores.append(score)\n",
        "    max_score=max(scores)\n",
        "    scores=[i/max_score for i in scores if i/max_score>0.7]\n",
        "    \n",
        "    important.append(len(scores))\n",
        "statistics.mean(important)"
      ],
      "metadata": {
        "colab": {
          "base_uri": "https://localhost:8080/"
        },
        "id": "T9X68UktXx15",
        "outputId": "85507774-ae24-45f6-ed7c-b6488490ae34"
      },
      "execution_count": null,
      "outputs": [
        {
          "output_type": "execute_result",
          "data": {
            "text/plain": [
              "3.557377049180328"
            ]
          },
          "metadata": {},
          "execution_count": 60
        }
      ]
    },
    {
      "cell_type": "code",
      "source": [
        "#automin\n",
        "\n",
        "important=[]\n",
        "for key in automin_transcripts.keys():\n",
        "    text_data = []\n",
        "    for line in nltk.sent_tokenize(automin_transcripts[key]):\n",
        "        tokens = prepare_text_for_lda(line)\n",
        "        # print(tokens)\n",
        "        if len(tokens)>=5:\n",
        "            #print(tokens)\n",
        "            text_data.append(tokens)\n",
        "    dictionary = corpora.Dictionary(text_data)\n",
        "    corpus = [dictionary.doc2bow(text) for text in text_data]\n",
        "    #pickle.dump(corpus, open('corpus.pkl', 'wb'))\n",
        "    #dictionary.save('dictionary.gensim')\n",
        "    ldamodel = gensim.models.ldamodel.LdaModel(corpus,num_topics=10, id2word=dictionary, passes=15)\n",
        "    topics = ldamodel.print_topics(num_words=10)\n",
        "    \n",
        "    \n",
        "    t_topic=[]\n",
        "    for topic in topics:\n",
        "        for index in range(1,len(topic[1].split('\"')),2):\n",
        "            t_topic.append(topic[1].split('\"')[index])\n",
        "    \n",
        "    t_topic=[word for word in t_topic if word not in stopWords]\n",
        "    scores=[]\n",
        "    for index,line in enumerate(nltk.sent_tokenize(automin_transcripts[key])):\n",
        "        temp=nltk.word_tokenize(line)\n",
        "        temp=[word.lower() for word in temp]\n",
        "        word_tokens_refined=[x for x in temp if x not in stopWords]\n",
        "        score=0\n",
        "        for word in word_tokens_refined:\n",
        "            if word in t_topic:\n",
        "                score+=1\n",
        "        scores.append(score)\n",
        "    max_score=max(scores)\n",
        "    scores=[i/max_score for i in scores if i/max_score>0.7]\n",
        "    \n",
        "    important.append(len(scores))\n",
        "statistics.mean(important)"
      ],
      "metadata": {
        "colab": {
          "base_uri": "https://localhost:8080/"
        },
        "id": "DT4YuJo8X3Jw",
        "outputId": "09ebcfa1-f719-4a2d-aa56-baade1e5152f"
      },
      "execution_count": null,
      "outputs": [
        {
          "output_type": "execute_result",
          "data": {
            "text/plain": [
              "7"
            ]
          },
          "metadata": {},
          "execution_count": 61
        }
      ]
    },
    {
      "cell_type": "code",
      "source": [
        "ax=sns.barplot(x=['AMI','ICSI', 'ELITR_Minuting_Corpus'], y=[4.7153284671532845,3.459016393442623,5.607142857142857], palette='Blues')\n",
        "ax.set(xlabel=\"Datasets\", ylabel = \"Important sentences per document\")"
      ],
      "metadata": {
        "colab": {
          "base_uri": "https://localhost:8080/",
          "height": 297
        },
        "id": "LSny9B2uYTjU",
        "outputId": "356171fc-57ea-4cdb-f135-5e4e483b1faa"
      },
      "execution_count": null,
      "outputs": [
        {
          "output_type": "execute_result",
          "data": {
            "text/plain": [
              "[Text(0, 0.5, 'Important sentences per document'), Text(0.5, 0, 'Datasets')]"
            ]
          },
          "metadata": {},
          "execution_count": 65
        },
        {
          "output_type": "display_data",
          "data": {
            "text/plain": [
              "<Figure size 432x288 with 1 Axes>"
            ],
            "image/png": "[encoded data removed]"
          },
          "metadata": {
            "needs_background": "light"
          }
        }
      ]
    },
    {
      "cell_type": "code",
      "source": [
        ""
      ],
      "metadata": {
        "id": "xKIOniY9ZSnP"
      },
      "execution_count": null,
      "outputs": []
    }
  ]
}