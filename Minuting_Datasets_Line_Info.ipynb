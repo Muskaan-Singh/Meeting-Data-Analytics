{
  "nbformat": 4,
  "nbformat_minor": 0,
  "metadata": {
    "colab": {
      "name": "Minuting Datasets Line Info.ipynb",
      "provenance": [],
      "include_colab_link": true
    },
    "kernelspec": {
      "name": "python3",
      "display_name": "Python 3"
    },
    "language_info": {
      "name": "python"
    }
  },
  "cells": [
    {
      "cell_type": "markdown",
      "metadata": {
        "id": "view-in-github",
        "colab_type": "text"
      },
      "source": [
        "<a href=\"https://colab.research.google.com/github/Muskaan-Singh/Meeting-Data-Analytics/blob/main/Minuting_Datasets_Line_Info.ipynb\" target=\"_parent\"><img src=\"https://colab.research.google.com/assets/colab-badge.svg\" alt=\"Open In Colab\"/></a>"
      ]
    },
    {
      "cell_type": "code",
      "source": [
        "from google.colab import drive\n",
        "drive.mount('/content/drive')"
      ],
      "metadata": {
        "colab": {
          "base_uri": "https://localhost:8080/"
        },
        "id": "xqTj5bo3Z78Q",
        "outputId": "68a72f2b-855e-4976-ea6d-686b87f95965"
      },
      "execution_count": null,
      "outputs": [
        {
          "output_type": "stream",
          "name": "stdout",
          "text": [
            "Mounted at /content/drive\n"
          ]
        }
      ]
    },
    {
      "cell_type": "code",
      "execution_count": null,
      "metadata": {
        "colab": {
          "base_uri": "https://localhost:8080/"
        },
        "id": "HKmvBIweZwF0",
        "outputId": "86cbd732-7d2b-4923-f99c-64b36763243e"
      },
      "outputs": [
        {
          "output_type": "stream",
          "name": "stdout",
          "text": [
            "[nltk_data] Downloading package stopwords to /root/nltk_data...\n",
            "[nltk_data]   Unzipping corpora/stopwords.zip.\n",
            "[nltk_data] Downloading package punkt to /root/nltk_data...\n",
            "[nltk_data]   Unzipping tokenizers/punkt.zip.\n"
          ]
        }
      ],
      "source": [
        "import pandas as pd\n",
        "import numpy as np\n",
        "import nltk\n",
        "import nltk\n",
        "nltk.download('stopwords')\n",
        "nltk.download('punkt')\n",
        "from nltk.corpus import stopwords\n",
        "import csv\n",
        "from nltk.tag import pos_tag # for proper noun\n",
        "from nltk.tokenize import word_tokenize, sent_tokenize\n",
        "from statistics import median\n",
        "import math\n",
        "from copy import deepcopy\n",
        "\n",
        "import os\n",
        "import xml.etree.ElementTree as ET\n",
        "\n",
        "import matplotlib.pyplot as plt\n",
        "import seaborn as sns\n",
        "\n",
        "import statistics\n",
        "\n",
        "stopWords = list(set(stopwords.words(\"english\")))"
      ]
    },
    {
      "cell_type": "code",
      "source": [
        "path='/content/drive/MyDrive/Kaggle/Cpastone_text_minuting/ami/transcripts'\n",
        "filelist=os.listdir(path)\n",
        "transcripts={}\n",
        "for file in filelist:\n",
        "    with open(f'{path}/{file}', 'r') as f: \n",
        "        txt=f.read()\n",
        "        transcripts[file.split('.')[0]]=txt\n",
        "\n",
        "path='/content/drive/MyDrive/Kaggle/Cpastone_text_minuting/ami/summaries/extractive'\n",
        "filelist=os.listdir(path)       \n",
        "extractive_summary={}\n",
        "for file in filelist:\n",
        "    with open(f'{path}/{file}', 'r') as f: \n",
        "        txt=f.read()\n",
        "        extractive_summary[file.split('.')[0]]=txt \n",
        "        \n",
        "path='/content/drive/MyDrive/Kaggle/Cpastone_text_minuting/ami/summaries/abstractive'\n",
        "filelist=os.listdir(path)       \n",
        "abstractive_summary={}\n",
        "for file in filelist:\n",
        "    with open(f'{path}/{file}', 'r') as f: \n",
        "        txt=f.read()\n",
        "        abstractive_summary[file.split('.')[0]]=txt"
      ],
      "metadata": {
        "id": "WBLFW5iUZ_xe"
      },
      "execution_count": null,
      "outputs": []
    },
    {
      "cell_type": "code",
      "source": [
        "inner_join_transcripts=deepcopy(transcripts)\n",
        "inner_join_extractive_summary=deepcopy(extractive_summary)\n",
        "inner_join_abstractive_summary=deepcopy(abstractive_summary)\n",
        "l=list(transcripts.keys())\n",
        "\n",
        "for i in l:\n",
        "    if i not in inner_join_abstractive_summary:\n",
        "        del inner_join_transcripts[i]\n",
        "        if i in inner_join_extractive_summary:\n",
        "            del inner_join_extractive_summary[i]\n",
        "        continue\n",
        "    if i not in inner_join_extractive_summary:\n",
        "        del inner_join_transcripts[i]\n",
        "        if i in inner_join_abstractive_summary:\n",
        "            del inner_join_abstractive_summary[i]\n",
        "\n",
        "def ami_mean(transcripts, small_threshold , big_threshold ):\n",
        "    stopWords = list(set(stopwords.words(\"english\")))\n",
        "    count_small=0\n",
        "    count_big=0\n",
        "    sum_small=0\n",
        "    sum_big=0\n",
        "    position_small=[]\n",
        "    position_big=[]\n",
        "    total_sent=0\n",
        "    total_words=0\n",
        "    total_words_list=[]\n",
        "    total_refined_words=0\n",
        "    unique={}\n",
        "    number=len(transcripts)\n",
        "    total_unique_refined_words=0\n",
        "    max_len=[]\n",
        "    position_max_len=[]\n",
        "    small_bool=[]\n",
        "    turns=0\n",
        "    for key in transcripts.keys():\n",
        "        txt=nltk.sent_tokenize(transcripts[key])\n",
        "        total_sent+=len(txt)\n",
        "        m=0\n",
        "        p=0\n",
        "        tmp=0\n",
        "        for index,sentence in enumerate(txt):\n",
        "            temp=nltk.word_tokenize(sentence)\n",
        "            sen_len=len(temp)\n",
        "            m=max(m,sen_len)\n",
        "            if m==sen_len:\n",
        "                p=index/len(txt)\n",
        "            temp=[word.lower() for word in temp]\n",
        "            word_tokens_refined=[x for x in temp if x not in stopWords]\n",
        "            for word in word_tokens_refined:\n",
        "                if word not in unique: \n",
        "                    total_unique_refined_words+=1\n",
        "                    unique[word]=1\n",
        "                elif word in unique:\n",
        "                    unique[word]+=1\n",
        "\n",
        "            total_refined_words+=len(word_tokens_refined)\n",
        "            total_words+=sen_len\n",
        "            tmp+=sen_len\n",
        "\n",
        "            \n",
        "            if sen_len<small_threshold:\n",
        "                count_small+=1\n",
        "                sum_small+=sen_len\n",
        "                position_small.append(index/len(txt))\n",
        "                small_bool.append(1)\n",
        "            elif sen_len>big_threshold:\n",
        "                count_big+=1\n",
        "                sum_big+=sen_len\n",
        "                position_big.append(index/len(txt))\n",
        "                small_bool.append(0)\n",
        "            else:\n",
        "                small_bool.append(0)\n",
        "                \n",
        "        max_len.append(m)\n",
        "        position_max_len.append(p)\n",
        "        total_words_list.append(tmp)\n",
        "\n",
        "    # number of continuous occurances\n",
        "    small_cont=0\n",
        "    check=False\n",
        "    for i in range(0,len(small_bool),4):\n",
        "        if sum(small_bool[i:i+4])>=2:\n",
        "            small_cont+=1\n",
        "            check=False\n",
        "        else:\n",
        "            try: \n",
        "                if sum(small_bool[i:i+4])==1 and small_bool[i+3]==1:\n",
        "                    check=True\n",
        "                elif sum(small_bool[i:i+4])==1 and small_bool[i]==1 and check==True:\n",
        "                    small_cont+=1\n",
        "                    check=False            \n",
        "            except:\n",
        "                pass\n",
        "\n",
        "    \n",
        "    \n",
        "    return (count_small, count_big, sum_small, sum_big, position_small, position_big, \n",
        "total_sent, total_words, total_refined_words, total_unique_refined_words, unique, number, max_len,\n",
        "            position_max_len, small_cont, total_words_list)\n",
        "\n",
        "(count_small_transcripts_ami, count_big_transcripts_ami, sum_small_transcripts_ami, \n",
        "sum_big_transcripts_ami, position_small_transcripts_ami, position_big_transcripts_ami, \n",
        "total_sent_transcripts_ami, total_words_transcripts_ami, total_refined_words_transcripts_ami,\n",
        "total_refined_unique_words_transcripts_ami, unique_dict_transcripts_ami, number_transcripts_ami,\n",
        "max_len_transcripts_ami, position_max_len_transcripts_ami, small_cont_transcripts_ami,\n",
        " total_words_list_transcripts_ami) = ami_mean(transcripts, 5 , 10)\n",
        "\n",
        "(count_small_esum_ami, count_big_esum_ami, sum_small_esum_ami, \n",
        "sum_big_esum_ami, position_small_esum_ami, position_big_esum_ami, \n",
        "total_sent_esum_ami, total_words_esum_ami, total_refined_words_esum_ami,\n",
        "total_refined_unique_words_esum_ami, unique_dict_esum_ami,number_esum_ami,\n",
        "max_len_esum_ami, position_max_len_esum_ami,small_cont_esum_ami,\n",
        " total_words_list_esum_ami)  = ami_mean(extractive_summary, 5 , 10)\n",
        "\n",
        "(count_small_asum_ami, count_big_asum_ami, sum_small_asum_ami, \n",
        "sum_big_asum_ami, position_small_asum_ami, position_big_asum_ami, \n",
        "total_sent_asum_ami, total_words_asum_ami, total_refined_words_asum_ami,\n",
        "total_refined_unique_words_asum_ami, unique_dict_asum_ami,number_asum_ami,\n",
        "max_len_asum_ami, position_max_len_asum_ami,small_cont_asum_ami,\n",
        " total_words_list_asum_ami) = ami_mean(abstractive_summary, 5 , 10)"
      ],
      "metadata": {
        "id": "Q6coEbZZaZbD"
      },
      "execution_count": null,
      "outputs": []
    },
    {
      "cell_type": "code",
      "source": [
        "!git clone https://github.com/gcunhase/AMICorpusXML.git"
      ],
      "metadata": {
        "colab": {
          "base_uri": "https://localhost:8080/"
        },
        "id": "KMFO5AjXA48w",
        "outputId": "2a3022ec-feda-4af1-fbde-47fa7410006c"
      },
      "execution_count": null,
      "outputs": [
        {
          "output_type": "stream",
          "name": "stdout",
          "text": [
            "Cloning into 'AMICorpusXML'...\n",
            "remote: Enumerating objects: 9664, done.\u001b[K\n",
            "remote: Total 9664 (delta 0), reused 0 (delta 0), pack-reused 9664\u001b[K\n",
            "Receiving objects: 100% (9664/9664), 8.30 MiB | 18.37 MiB/s, done.\n",
            "Resolving deltas: 100% (400/400), done.\n"
          ]
        }
      ]
    },
    {
      "cell_type": "code",
      "source": [
        "\"\"\"## Calculate speakers \"\"\"\n",
        "\n",
        "path='/content/AMICorpusXML/data/ami-transcripts-speaker'\n",
        "filelist=os.listdir(path)\n",
        "ami_speakers=[]\n",
        "for key in transcripts.keys():\n",
        "    p=0\n",
        "    for file in filelist:\n",
        "        if file[:7]==key:\n",
        "            p+=1\n",
        "        elif file[:6]==key:\n",
        "            p+=1\n",
        "    ami_speakers.append(p)\n",
        "\n",
        "# number of hours:\n",
        "ami_hours=100  #from their website\n",
        "\n",
        "\"\"\"## Calculate Turns\"\"\"\n",
        "\n",
        "path='/content/AMICorpusXML/data/ami-transcripts-speaker'\n",
        "filelist=os.listdir(path)\n",
        "ami_turns=[]\n",
        "for key in transcripts.keys():\n",
        "    speakers=[0]*len(transcripts[key].split('.'))\n",
        "    for file in filelist:\n",
        "        if file.split('.')[0]==key:\n",
        "            name=file.split('.')[1]\n",
        "            with open(f'{path}/{file}', 'r') as f: \n",
        "                txt=f.read()\n",
        "            for index,line in enumerate(transcripts[key].split('.')):\n",
        "                if line in txt:\n",
        "                    speakers[index]=name\n",
        "    t=0\n",
        "    for index in range(1,len(speakers)):\n",
        "        if speakers[index-1]!=speakers[index]:\n",
        "            t+=1\n",
        "    ami_turns.append(t)"
      ],
      "metadata": {
        "id": "lLqvVVnlA7ff"
      },
      "execution_count": null,
      "outputs": []
    },
    {
      "cell_type": "code",
      "source": [
        "!git clone https://github.com/saprativa/ICSI.git"
      ],
      "metadata": {
        "colab": {
          "base_uri": "https://localhost:8080/"
        },
        "id": "rgE_erh38dDB",
        "outputId": "8c545abe-7e83-4a78-cb0d-989df8a0b043"
      },
      "execution_count": null,
      "outputs": [
        {
          "output_type": "stream",
          "name": "stdout",
          "text": [
            "Cloning into 'ICSI'...\n",
            "remote: Enumerating objects: 4548, done.\u001b[K\n",
            "remote: Counting objects:   8% (1/12)\u001b[K\rremote: Counting objects:  16% (2/12)\u001b[K\rremote: Counting objects:  25% (3/12)\u001b[K\rremote: Counting objects:  33% (4/12)\u001b[K\rremote: Counting objects:  41% (5/12)\u001b[K\rremote: Counting objects:  50% (6/12)\u001b[K\rremote: Counting objects:  58% (7/12)\u001b[K\rremote: Counting objects:  66% (8/12)\u001b[K\rremote: Counting objects:  75% (9/12)\u001b[K\rremote: Counting objects:  83% (10/12)\u001b[K\rremote: Counting objects:  91% (11/12)\u001b[K\rremote: Counting objects: 100% (12/12)\u001b[K\rremote: Counting objects: 100% (12/12), done.\u001b[K\n",
            "remote: Compressing objects: 100% (5/5), done.\u001b[K\n",
            "remote: Total 4548 (delta 2), reused 12 (delta 2), pack-reused 4536\u001b[K\n",
            "Receiving objects: 100% (4548/4548), 56.97 MiB | 14.77 MiB/s, done.\n",
            "Resolving deltas: 100% (2010/2010), done.\n",
            "Checking out files: 100% (4576/4576), done.\n"
          ]
        }
      ]
    },
    {
      "cell_type": "code",
      "source": [
        "\"\"\"# ICSI Dataset\"\"\"\n",
        "\n",
        "path='/content/ICSI/ICSI_original_transcripts/transcripts'\n",
        "temp=os.listdir(path)\n",
        "root_list=[]\n",
        "meeting_name_list=[]\n",
        "text_list=[]\n",
        "time_list=[]\n",
        "participants_count_list=[]\n",
        "icsi_turns=[]\n",
        "\n",
        "path1='/content/ICSI/ICSIplus/Contributions/Summarization/abstractive'\n",
        "absumfilelist=os.listdir(path1)\n",
        "\n",
        "filelist=[]\n",
        "for file in absumfilelist:\n",
        "    if f'{file[:-12]}.mrt' in temp:\n",
        "        filelist.append(f'{file[:-12]}.mrt')\n",
        "\n",
        "\n",
        "for file in filelist:\n",
        "    if file[-3:]=='mrt':\n",
        "        tree = ET.parse(f'{path}/{file}')\n",
        "        root = tree.getroot()\n",
        "        root_list.append(root)\n",
        "        meeting_name=root.attrib['Session']\n",
        "        meeting_name_list.append(meeting_name)\n",
        "        time = float(root[1].attrib['EndTime'])-float(root[1].attrib['StartTime'])\n",
        "        time_list.append(time)\n",
        "        for index,child in enumerate(root[0]):\n",
        "            if child.tag=='Participants':\n",
        "                participants_count_list.append(len(root[0][index].getchildren()))\n",
        "        txt=[]\n",
        "        t=0\n",
        "        # get current speaker\n",
        "        for child in root[1]:\n",
        "            try:\n",
        "                current_speaker=child.attrib['Participant']\n",
        "                break\n",
        "            except:\n",
        "                continue\n",
        "        for child in root[1]:\n",
        "            try:\n",
        "                new_speaker=child.attrib['Participant']\n",
        "            except:\n",
        "                pass\n",
        "            if current_speaker!=new_speaker:\n",
        "                t+=1\n",
        "                current_speaker=new_speaker\n",
        "            txt.append(child.text)\n",
        "        text_list.append(txt)\n",
        "        icsi_turns.append(t)\n",
        "        \n",
        "ab_sumroot_list=[]\n",
        "ab_sumtext_list=[]\n",
        "for f in absumfilelist:\n",
        "    tree = ET.parse(f'{path1}/{f}')\n",
        "    root = tree.getroot()\n",
        "    ab_sumroot_list.append(root)\n",
        "    txt=[]\n",
        "    s=[]\n",
        "    for child in ab_sumroot_list[0]:\n",
        "        for i in child:\n",
        "            txt.append(i.text)\n",
        "    ab_sumtext_list.append(txt)\n",
        "\n",
        "icsi_hours=sum(time_list)/3600\n",
        "\n",
        "def icsi_mean(text_list,small_threshold, big_threshold):\n",
        "    stopWords = list(set(stopwords.words(\"english\")))\n",
        "    count_small=0\n",
        "    count_big=0\n",
        "    sum_small=0\n",
        "    sum_big=0\n",
        "    position_small=[]\n",
        "    position_big=[]\n",
        "    total_sent=0\n",
        "    total_words=0\n",
        "    total_words_list=[]\n",
        "    total_refined_words=0\n",
        "    unique={}\n",
        "    total_unique_refined_words=0\n",
        "    number=len(text_list)\n",
        "    \n",
        "    max_len=[]\n",
        "    position_max_len=[]\n",
        "    \n",
        "    small_bool=[]\n",
        "    for i in range(len(text_list)):\n",
        "        # index of one document \n",
        "        total_sent+=len(text_list[i])\n",
        "        m=0\n",
        "        p=0\n",
        "        tmp=0\n",
        "        #m=max(m,len(text_list[i]))\n",
        "        #if m==len(text_list[i]):\n",
        "        #    p=i/\n",
        "        for index,text in enumerate(text_list[i]):\n",
        "            \n",
        "            a=nltk.word_tokenize(text)\n",
        "            m=max(m,len(a))\n",
        "            if m==len(a):\n",
        "                p=index/len(text_list[i])\n",
        "            a=[word.lower() for word in a]\n",
        "            word_tokens_refined=[x for x in a if x not in stopWords]\n",
        "            for word in word_tokens_refined:\n",
        "                if word not in unique: \n",
        "                    total_unique_refined_words+=1\n",
        "                    unique[word]=1\n",
        "                elif word in unique:\n",
        "                    unique[word]+=1\n",
        "            total_refined_words+=len(word_tokens_refined)\n",
        "            total_words+=len(a)\n",
        "            tmp+=len(a)\n",
        "            \n",
        "            if len(a)<small_threshold:\n",
        "                count_small+=1\n",
        "                sum_small+=len(a)\n",
        "                position_small.append(index/len(text_list[i]))\n",
        "                small_bool.append(1)\n",
        "            elif len(a)>big_threshold:\n",
        "                count_big+=1\n",
        "                sum_big+=len(a)\n",
        "                position_big.append(index/len(text_list[i]))\n",
        "                small_bool.append(0)\n",
        "            else:\n",
        "                small_bool.append(0)\n",
        "            max_len.append(m)\n",
        "            position_max_len.append(p)\n",
        "            total_words_list.append(tmp)\n",
        "    small_cont=0\n",
        "    check=False\n",
        "    for i in range(0,len(small_bool),4):\n",
        "        if sum(small_bool[i:i+4])>=2:\n",
        "            small_cont+=1\n",
        "            check=False\n",
        "        else:\n",
        "            try:\n",
        "                if sum(small_bool[i:i+4])==1 and small_bool[i+3]==1:\n",
        "                    check=True\n",
        "                elif sum(small_bool[i:i+4])==1 and small_bool[i]==1 and check==True:\n",
        "                    small_cont+=1\n",
        "                    check=False  \n",
        "            except:\n",
        "                pass\n",
        "\n",
        "                \n",
        "    return (count_small, count_big, sum_small, sum_big, position_small, position_big, total_sent,total_words,\n",
        "total_refined_words, total_unique_refined_words, unique, number, max_len, position_max_len, small_cont, total_words_list)\n",
        "\n",
        "(count_small_transcripts_icsi, count_big_transcripts_icsi, sum_small_transcripts_icsi,\n",
        "sum_big_transcripts_icsi, position_small_transcripts_icsi, position_big_transcripts_icsi,\n",
        "total_sent_transcripts_icsi,total_words_transcripts_icsi, total_refined_words_transcripts_icsi, \n",
        "total_refined_unique_words_transcripts_icsi, unique_dict_transcripts_icsi, number_transcripts_icsi, \n",
        "max_len_transcripts_icsi, position_max_len_transcripts_icsi, small_cont_transcripts_icsi,\n",
        "total_words_list_transcripts_icsi)=icsi_mean(text_list,5,10)\n",
        "\n",
        "(count_small_asum_icsi, count_big_asum_icsi, sum_small_asum_icsi,\n",
        "sum_big_asum_icsi, position_small_asum_icsi, position_big_asum_icsi,\n",
        "total_sent_asum_icsi,total_words_asum_icsi, total_refined_words_asum_icsi, \n",
        "total_refined_unique_words_asum_icsi, unique_dict_asum_icsi, number_asum_icsi,\n",
        "max_len_asum_icsi, position_max_len_asum_icsi, small_count_asum_icsi,\n",
        " total_words_list_asum_icsi)=icsi_mean(ab_sumtext_list,5,10)"
      ],
      "metadata": {
        "colab": {
          "base_uri": "https://localhost:8080/"
        },
        "id": "WRrO9icxbfWt",
        "outputId": "a63cc31e-e702-4e3e-bbce-79e6ca1449bf"
      },
      "execution_count": null,
      "outputs": [
        {
          "output_type": "stream",
          "name": "stderr",
          "text": [
            "/usr/local/lib/python3.7/dist-packages/ipykernel_launcher.py:32: DeprecationWarning: This method will be removed in future versions.  Use 'list(elem)' or iteration over elem instead.\n"
          ]
        }
      ]
    },
    {
      "cell_type": "code",
      "source": [
        "!unzip /content/drive/MyDrive/Kaggle/Cpastone_text_minuting/AutoMin_combined_all.zip"
      ],
      "metadata": {
        "id": "QDieDK52_xGy",
        "colab": {
          "base_uri": "https://localhost:8080/"
        },
        "outputId": "e6f7f139-b51b-461c-93ec-8bdd523ae465"
      },
      "execution_count": null,
      "outputs": [
        {
          "output_type": "stream",
          "name": "stdout",
          "text": [
            "Archive:  /content/drive/MyDrive/Kaggle/Cpastone_text_minuting/AutoMin_combined_all.zip\n",
            "   creating: train/\n",
            "   creating: train/meeting_en_test_013/\n",
            "  inflating: train/meeting_en_test_013/minutes_GENER_annot18.deidentified.txt  \n",
            "  inflating: train/meeting_en_test_013/transcript_MAN_annot20.deidentified.txt  \n",
            "   creating: train/meeting_cs_dev_006/\n",
            "  inflating: train/meeting_cs_dev_006/minutes_GENER_annot19.deidentified.txt  \n",
            "  inflating: train/meeting_cs_dev_006/transcript_MAN_annot18.deidentified.txt  \n",
            "   creating: train/meeting_en_train_012_1/\n",
            "  inflating: train/meeting_en_train_012_1/transcript_MAN_annot21.deidentified.txt  \n",
            "  inflating: train/meeting_en_train_012_1/minutes_ORIG.deidentified.txt  \n",
            "   creating: train/meeting_cs_train_027_1/\n",
            "  inflating: train/meeting_cs_train_027_1/minutes_ORIG.deidentified.txt  \n",
            "  inflating: train/meeting_cs_train_027_1/transcript_MAN_annot19.deidentified.txt  \n",
            "   creating: train/meeting_en_test_009/\n",
            "  inflating: train/meeting_en_test_009/minutes_ORIG.deidentified.txt  \n",
            "  inflating: train/meeting_en_test_009/transcript_MAN_annot02.deidentified.txt  \n",
            "   creating: train/meeting_en_train_063/\n",
            "  inflating: train/meeting_en_train_063/transcript_MAN_annot17.deidentified.txt  \n",
            "  inflating: train/meeting_en_train_063/minutes_ORIG.deidentified.txt  \n",
            "   creating: train/meeting_en_train_015_1/\n",
            "  inflating: train/meeting_en_train_015_1/minutes_GENER_annot06.deidentified.txt  \n",
            "  inflating: train/meeting_en_train_015_1/transcript_MAN_annot06.deidentified.txt  \n",
            "   creating: train/meeting_cs_train_009_1/\n",
            "  inflating: train/meeting_cs_train_009_1/transcript_MAN_annot18.deidentified.txt  \n",
            "  inflating: train/meeting_cs_train_009_1/minutes_GENER_annot18.deidentified.txt  \n",
            "   creating: train/meeting_en_dev_005/\n",
            "  inflating: train/meeting_en_dev_005/minutes_GENER_annot07.deidentified.txt  \n",
            "  inflating: train/meeting_en_dev_005/transcript_MAN_annot16.deidentified.txt  \n",
            "   creating: train/meeting_cs_dev_001_1/\n",
            "  inflating: train/meeting_cs_dev_001_1/transcript_MAN_annot18.deidentified.txt  \n",
            "  inflating: train/meeting_cs_dev_001_1/minutes_GENER_annot18.deidentified.txt  \n",
            "   creating: train/meeting_cs_dev_009_2/\n",
            "  inflating: train/meeting_cs_dev_009_2/minutes_ORIG.deidentified.txt  \n",
            "  inflating: train/meeting_cs_dev_009_2/transcript_MAN_annot05.deidentified.txt  \n",
            "   creating: train/meeting_cs_train_024_1/\n",
            "  inflating: train/meeting_cs_train_024_1/transcript_MAN_annot18.deidentified.txt  \n",
            "  inflating: train/meeting_cs_train_024_1/minutes_ORIG.deidentified.txt  \n",
            "   creating: train/meeting_en_train_048/\n",
            "  inflating: train/meeting_en_train_048/transcript_MAN_annot01.deidentified.txt  \n",
            "  inflating: train/meeting_en_train_048/minutes_GENER_annot01.deidentified.txt  \n",
            "   creating: train/meeting_en_train_053_1/\n",
            "  inflating: train/meeting_en_train_053_1/minutes_GENER_annot06.deidentified.txt  \n",
            "  inflating: train/meeting_en_train_053_1/transcript_MAN_annot06.deidentified.txt  \n",
            "   creating: train/meeting_en_train_013/\n",
            "  inflating: train/meeting_en_train_013/minutes_ORIG.deidentified.txt  \n",
            "  inflating: train/meeting_en_train_013/transcript_MAN2_annot06.deidentified.txt  \n",
            "   creating: train/meeting_en_test_002/\n",
            "  inflating: train/meeting_en_test_002/minutes_GENER_annot21.deidentified.txt  \n",
            "  inflating: train/meeting_en_test_002/transcript_MAN2_annot20.deidentified.txt  \n",
            "   creating: train/meeting_en_train_016_1/\n",
            "  inflating: train/meeting_en_train_016_1/transcript_MAN_annot13.deidentified.txt  \n",
            "  inflating: train/meeting_en_train_016_1/minutes_GENER_annot13.deidentified.txt  \n",
            "   creating: train/meeting_cs_dev_007_1/\n",
            "  inflating: train/meeting_cs_dev_007_1/minutes_GENER_annot18.deidentified.txt  \n",
            "  inflating: train/meeting_cs_dev_007_1/transcript_MAN2_annot05.deidentified.txt  \n",
            "   creating: train/meeting_cs_train_010_1/\n",
            "  inflating: train/meeting_cs_train_010_1/minutes_GENER_annot18.deidentified.txt  \n",
            "  inflating: train/meeting_cs_train_010_1/transcript_MAN2_annot05.deidentified.txt  \n",
            "   creating: train/meeting_en_train_018/\n",
            "  inflating: train/meeting_en_train_018/minutes_GENER_annot18.deidentified.txt  \n",
            "  inflating: train/meeting_en_train_018/transcript_MAN2_annot23.deidentified.txt  \n",
            "   creating: train/meeting_en_test_007_1/\n",
            "  inflating: train/meeting_en_test_007_1/transcript_MAN_annot07.deidentified.txt  \n",
            "  inflating: train/meeting_en_test_007_1/minutes_ORIG.deidentified.txt  \n",
            "   creating: train/meeting_en_train_009_1/\n",
            "  inflating: train/meeting_en_train_009_1/transcript_MAN_annot13.deidentified.txt  \n",
            "  inflating: train/meeting_en_train_009_1/minutes_GENER_annot13.deidentified.txt  \n",
            "   creating: train/meeting_cs_train_028_1/\n",
            "  inflating: train/meeting_cs_train_028_1/minutes_GENER_annot19.deidentified.txt  \n",
            "  inflating: train/meeting_cs_train_028_1/transcript_MAN2_annot05.deidentified.txt  \n",
            "   creating: train/meeting_en_test_007/\n",
            "  inflating: train/meeting_en_test_007/transcript_MAN_annot07.deidentified.txt  \n",
            "  inflating: train/meeting_en_test_007/minutes_GENER_annot07.deidentified.txt  \n",
            "   creating: train/meeting_cs_test_006_2/\n",
            "  inflating: train/meeting_cs_test_006_2/transcript_MAN_annot18.deidentified.txt  \n",
            "  inflating: train/meeting_cs_test_006_2/minutes_GENER_annot18.deidentified.txt  \n",
            "   creating: train/meeting_en_test_002_8/\n",
            "  inflating: train/meeting_en_test_002_8/transcript_MAN2_annot20.deidentified.txt  \n",
            "  inflating: train/meeting_en_test_002_8/minutes_GENER_annot23.deidentified.txt  \n",
            "   creating: train/meeting_cs_dev_010/\n",
            "  inflating: train/meeting_cs_dev_010/minutes_GENER_annot05.deidentified.txt  \n",
            "  inflating: train/meeting_cs_dev_010/transcript_MAN2_annot05.deidentified.txt  \n",
            "   creating: train/meeting_cs_train_031_1/\n",
            "  inflating: train/meeting_cs_train_031_1/minutes_ORIG.deidentified.txt  \n",
            "  inflating: train/meeting_cs_train_031_1/transcript_MAN_annot19.deidentified.txt  \n",
            "   creating: train/meeting_cs_train_032_1/\n",
            "  inflating: train/meeting_cs_train_032_1/minutes_GENER_annot19.deidentified.txt  \n",
            "  inflating: train/meeting_cs_train_032_1/transcript_MAN2_annot19.deidentified.txt  \n",
            "   creating: train/meeting_cs_train_018_1/\n",
            "  inflating: train/meeting_cs_train_018_1/transcript_MAN_annot18.deidentified.txt  \n",
            "  inflating: train/meeting_cs_train_018_1/minutes_GENER_annot18.deidentified.txt  \n",
            "   creating: train/meeting_en_train_042_1/\n",
            "  inflating: train/meeting_en_train_042_1/minutes_ORIG.deidentified.txt  \n",
            "  inflating: train/meeting_en_train_042_1/transcript_MAN_annot11.deidentified.txt  \n",
            "   creating: train/meeting_cs_dev_003_2/\n",
            "  inflating: train/meeting_cs_dev_003_2/transcript_MAN_annot18.deidentified.txt  \n",
            "  inflating: train/meeting_cs_dev_003_2/minutes_GENER_annot18.deidentified.txt  \n",
            "   creating: train/meeting_cs_train_007/\n",
            "  inflating: train/meeting_cs_train_007/minutes_GENER_annot05.deidentified.txt  \n",
            "  inflating: train/meeting_cs_train_007/transcript_MAN_annot05.deidentified.txt  \n",
            "   creating: train/meeting_en_train_016/\n",
            "  inflating: train/meeting_en_train_016/minutes_ORIG.deidentified.txt  \n",
            "  inflating: train/meeting_en_train_016/transcript_MAN_annot13.deidentified.txt  \n",
            "   creating: train/meeting_cs_dev_002/\n",
            "  inflating: train/meeting_cs_dev_002/minutes_GENER_annot05.deidentified.txt  \n",
            "  inflating: train/meeting_cs_dev_002/transcript_MAN2_annot05.deidentified.txt  \n",
            "   creating: train/meeting_en_test_015_1/\n",
            "  inflating: train/meeting_en_test_015_1/transcript_MAN_annot18.deidentified.txt  \n",
            "  inflating: train/meeting_en_test_015_1/minutes_GENER_annot13.deidentified.txt  \n",
            "   creating: train/meeting_en_train_023/\n",
            "  inflating: train/meeting_en_train_023/transcript_MAN_annot07.deidentified.txt  \n",
            "  inflating: train/meeting_en_train_023/minutes_GENER_annot07.deidentified.txt  \n",
            "   creating: train/meeting_en_train_067/\n",
            "  inflating: train/meeting_en_train_067/transcript_MAN_annot08.deidentified.txt  \n",
            "  inflating: train/meeting_en_train_067/minutes_ORIG.deidentified.txt  \n",
            "   creating: train/meeting_cs_dev_006_2/\n",
            "  inflating: train/meeting_cs_dev_006_2/transcript_MAN_annot18.deidentified.txt  \n",
            "  inflating: train/meeting_cs_dev_006_2/minutes_GENER_annot08.deidentified.txt  \n",
            "   creating: train/meeting_en_train_025_1/\n",
            "  inflating: train/meeting_en_train_025_1/minutes_GENER_annot24.deidentified.txt  \n",
            "  inflating: train/meeting_en_train_025_1/transcript_MAN_annot24.deidentified.txt  \n",
            "   creating: train/meeting_en_train_011/\n",
            "  inflating: train/meeting_en_train_011/minutes_GENER_annot11.deidentified.txt  \n",
            "  inflating: train/meeting_en_train_011/transcript_MAN_annot11.deidentified.txt  \n",
            "   creating: train/meeting_cs_test_005_2/\n",
            "  inflating: train/meeting_cs_test_005_2/transcript_MAN_annot18.deidentified.txt  \n",
            "  inflating: train/meeting_cs_test_005_2/minutes_ORIG.deidentified.txt  \n",
            "   creating: train/meeting_cs_train_013/\n",
            "  inflating: train/meeting_cs_train_013/minutes_GENER_annot05.deidentified.txt  \n",
            "  inflating: train/meeting_cs_train_013/transcript_MAN2_annot05.deidentified.txt  \n",
            "   creating: train/meeting_cs_train_008_1/\n",
            "  inflating: train/meeting_cs_train_008_1/minutes_GENER_annot18.deidentified.txt  \n",
            "  inflating: train/meeting_cs_train_008_1/transcript_MAN2_annot05.deidentified.txt  \n",
            "   creating: train/meeting_en_train_017_1/\n",
            "  inflating: train/meeting_en_train_017_1/transcript_MAN_annot03.deidentified.txt  \n",
            "  inflating: train/meeting_en_train_017_1/minutes_ORIG.deidentified.txt  \n",
            "   creating: train/meeting_en_test_002_10/\n",
            "  inflating: train/meeting_en_test_002_10/transcript_MAN2_annot20.deidentified.txt  \n",
            "  inflating: train/meeting_en_test_002_10/minutes_GENER_annot17.deidentified.txt  \n",
            "   creating: train/meeting_en_train_074_1/\n",
            "  inflating: train/meeting_en_train_074_1/transcript_MAN_annot07.deidentified.txt  \n",
            "  inflating: train/meeting_en_train_074_1/minutes_ORIG.deidentified.txt  \n",
            "   creating: train/meeting_cs_test_008_1/\n",
            "  inflating: train/meeting_cs_test_008_1/transcript_MAN_annot18.deidentified.txt  \n",
            "  inflating: train/meeting_cs_test_008_1/minutes_GENER_annot18.deidentified.txt  \n",
            "   creating: train/meeting_en_train_070/\n",
            "  inflating: train/meeting_en_train_070/minutes_GENER_annot21.deidentified.txt  \n",
            "  inflating: train/meeting_en_train_070/transcript_MAN_annot21.deidentified.txt  \n",
            "   creating: train/meeting_cs_train_014_1/\n",
            "  inflating: train/meeting_cs_train_014_1/transcript_MAN_annot18.deidentified.txt  \n",
            "  inflating: train/meeting_cs_train_014_1/minutes_GENER_annot18.deidentified.txt  \n",
            "   creating: train/meeting_en_test_002_6/\n",
            "  inflating: train/meeting_en_test_002_6/transcript_MAN2_annot20.deidentified.txt  \n",
            "  inflating: train/meeting_en_test_002_6/minutes_GENER_annot99.deidentified.txt  \n",
            "   creating: train/meeting_en_train_003_1/\n",
            "  inflating: train/meeting_en_train_003_1/transcript_MAN2_annot13.deidentified.txt  \n",
            "  inflating: train/meeting_en_train_003_1/minutes_GENER_annot13.deidentified.txt  \n",
            "   creating: train/meeting_cs_test_003/\n",
            "  inflating: train/meeting_cs_test_003/minutes_GENER_annot19.deidentified.txt  \n",
            "  inflating: train/meeting_cs_test_003/transcript_MAN_annot18.deidentified.txt  \n",
            "   creating: train/meeting_en_train_035/\n",
            "  inflating: train/meeting_en_train_035/minutes_GENER_annot07.deidentified.txt  \n",
            "  inflating: train/meeting_en_train_035/transcript_MAN2_annot17.deidentified.txt  \n",
            "   creating: train/meeting_en_train_014/\n",
            "  inflating: train/meeting_en_train_014/transcript_MAN2_annot07.deidentified.txt  \n",
            "  inflating: train/meeting_en_train_014/minutes_GENER_annot07.deidentified.txt  \n",
            "   creating: train/meeting_en_train_063_1/\n",
            "  inflating: train/meeting_en_train_063_1/transcript_MAN_annot17.deidentified.txt  \n",
            "  inflating: train/meeting_en_train_063_1/minutes_GENER_annot17.deidentified.txt  \n",
            "   creating: train/meeting_cs_dev_010_1/\n",
            "  inflating: train/meeting_cs_dev_010_1/minutes_GENER_annot19.deidentified.txt  \n",
            "  inflating: train/meeting_cs_dev_010_1/transcript_MAN2_annot05.deidentified.txt  \n",
            "   creating: train/meeting_cs_train_021_1/\n",
            "  inflating: train/meeting_cs_train_021_1/minutes_ORIG.deidentified.txt  \n",
            "  inflating: train/meeting_cs_train_021_1/transcript_MAN_annot19.deidentified.txt  \n",
            "   creating: train/meeting_cs_train_005_2/\n",
            "  inflating: train/meeting_cs_train_005_2/transcript_MAN2_annot18.deidentified.txt  \n",
            "  inflating: train/meeting_cs_train_005_2/minutes_ORIG.deidentified.txt  \n",
            "   creating: train/meeting_en_train_055_2/\n",
            "  inflating: train/meeting_en_train_055_2/transcript_MAN2_annot06.deidentified.txt  \n",
            "  inflating: train/meeting_en_train_055_2/minutes_GENER_annot06.deidentified.txt  \n",
            "   creating: train/meeting_cs_train_015/\n",
            "  inflating: train/meeting_cs_train_015/minutes_GENER_annot05.deidentified.txt  \n",
            "  inflating: train/meeting_cs_train_015/transcript_MAN2_annot05.deidentified.txt  \n",
            "   creating: train/meeting_cs_dev_003_3/\n",
            "  inflating: train/meeting_cs_dev_003_3/transcript_MAN_annot18.deidentified.txt  \n",
            "  inflating: train/meeting_cs_dev_003_3/minutes_GENER_annot02.deidentified.txt  \n",
            "   creating: train/meeting_en_test_014_1/\n",
            "  inflating: train/meeting_en_test_014_1/minutes_GENER_annot06.deidentified.txt  \n",
            "  inflating: train/meeting_en_test_014_1/transcript_MAN_annot06.deidentified.txt  \n",
            "   creating: train/meeting_cs_train_019_1/\n",
            "  inflating: train/meeting_cs_train_019_1/transcript_MAN2_annot18.deidentified.txt  \n",
            "  inflating: train/meeting_cs_train_019_1/minutes_GENER_annot18.deidentified.txt  \n",
            "   creating: train/meeting_cs_train_014_2/\n",
            "  inflating: train/meeting_cs_train_014_2/transcript_MAN_annot18.deidentified.txt  \n",
            "  inflating: train/meeting_cs_train_014_2/minutes_ORIG.deidentified.txt  \n",
            "   creating: train/meeting_en_train_062/\n",
            "  inflating: train/meeting_en_train_062/minutes_ORIG.deidentified.txt  \n",
            "  inflating: train/meeting_en_train_062/transcript_MAN_annot24.deidentified.txt  \n",
            "   creating: train/meeting_cs_dev_010_2/\n",
            "  inflating: train/meeting_cs_dev_010_2/minutes_GENER_annot18.deidentified.txt  \n",
            "  inflating: train/meeting_cs_dev_010_2/transcript_MAN2_annot05.deidentified.txt  \n",
            "   creating: train/meeting_en_train_045/\n",
            "  inflating: train/meeting_en_train_045/minutes_ORIG.deidentified.txt  \n",
            "  inflating: train/meeting_en_train_045/transcript_MAN_annot06.deidentified.txt  \n",
            "   creating: train/meeting_en_train_033_1/\n",
            "  inflating: train/meeting_en_train_033_1/transcript_MAN_annot13.deidentified.txt  \n",
            "  inflating: train/meeting_en_train_033_1/minutes_GENER_annot13.deidentified.txt  \n",
            "   creating: train/meeting_en_train_076/\n",
            "  inflating: train/meeting_en_train_076/transcript_MAN_annot07.deidentified.txt  \n",
            "  inflating: train/meeting_en_train_076/minutes_GENER_annot07.deidentified.txt  \n",
            "   creating: train/meeting_cs_test_011_1/\n",
            "  inflating: train/meeting_cs_test_011_1/transcript_MAN_annot05.deidentified.txt  \n",
            "  inflating: train/meeting_cs_test_011_1/minutes_GENER_annot05.txt  \n",
            "   creating: train/meeting_en_train_050_1/\n",
            "  inflating: train/meeting_en_train_050_1/transcript_MAN_annot07.deidentified.txt  \n",
            "  inflating: train/meeting_en_train_050_1/minutes_ORIG.deidentified.txt  \n",
            "   creating: train/meeting_en_train_058_1/\n",
            "  inflating: train/meeting_en_train_058_1/transcript_MAN_annot18.deidentified.txt  \n",
            "  inflating: train/meeting_en_train_058_1/minutes_ORIG.deidentified.txt  \n",
            "   creating: train/meeting_en_train_077_1/\n",
            "  inflating: train/meeting_en_train_077_1/minutes_ORIG.deidentified.txt  \n",
            "  inflating: train/meeting_en_train_077_1/transcript_MAN_annot13.deidentified.txt  \n",
            "   creating: train/meeting_en_train_026/\n",
            "  inflating: train/meeting_en_train_026/minutes_GENER_annot06.deidentified.txt  \n",
            "  inflating: train/meeting_en_train_026/transcript_MAN_annot06.deidentified.txt  \n",
            "   creating: train/meeting_en_train_034/\n",
            "  inflating: train/meeting_en_train_034/transcript_MAN_annot13.deidentified.txt  \n",
            "  inflating: train/meeting_en_train_034/minutes_GENER_annot13.deidentified.txt  \n",
            "   creating: train/meeting_en_train_071/\n",
            "  inflating: train/meeting_en_train_071/transcript_MAN_annot07.deidentified.txt  \n",
            "  inflating: train/meeting_en_train_071/minutes_GENER_annot07.deidentified.txt  \n",
            "   creating: train/meeting_en_train_019_1/\n",
            "  inflating: train/meeting_en_train_019_1/minutes_GENER_annot13.deidentified.txt  \n",
            "  inflating: train/meeting_en_train_019_1/transcript_MAN_annot14.deidentified.txt  \n",
            "   creating: train/meeting_en_train_084_2/\n",
            "  inflating: train/meeting_en_train_084_2/transcript_MAN_annot07.deidentified.txt  \n",
            "  inflating: train/meeting_en_train_084_2/minutes_GENER_annot06.deidentified.txt  \n",
            "   creating: train/meeting_en_dev_008/\n",
            "  inflating: train/meeting_en_dev_008/transcript_MAN_annot09.deidentified.txt  \n",
            "  inflating: train/meeting_en_dev_008/minutes_GENER_annot09.deidentified.txt  \n",
            "   creating: train/meeting_en_train_080_1/\n",
            "  inflating: train/meeting_en_train_080_1/minutes_GENER_annot12.deidentified.txt  \n",
            "  inflating: train/meeting_en_train_080_1/transcript_MAN2_annot12.deidentified.txt  \n",
            "   creating: train/meeting_en_train_021/\n",
            "  inflating: train/meeting_en_train_021/minutes_GENER_annot07.deidentified.txt  \n",
            "  inflating: train/meeting_en_train_021/transcript_MAN_annot13.deidentified.txt  \n",
            "   creating: train/meeting_cs_dev_008_1/\n",
            "  inflating: train/meeting_cs_dev_008_1/transcript_MAN2_annot18.deidentified.txt  \n",
            "  inflating: train/meeting_cs_dev_008_1/minutes_GENER_annot18.deidentified.txt  \n",
            "   creating: train/meeting_cs_train_012_1/\n",
            "  inflating: train/meeting_cs_train_012_1/minutes_GENER_annot19.deidentified.txt  \n",
            "  inflating: train/meeting_cs_train_012_1/transcript_MAN2_annot19.deidentified.txt  \n",
            "   creating: train/meeting_cs_test_009_2/\n",
            "  inflating: train/meeting_cs_test_009_2/minutes_ORIG.deidentified.txt  \n",
            "  inflating: train/meeting_cs_test_009_2/transcript_MAN_annot05.deidentified.txt  \n",
            "   creating: train/meeting_en_train_008/\n",
            "  inflating: train/meeting_en_train_008/minutes_ORIG.deidentified.txt  \n",
            "  inflating: train/meeting_en_train_008/transcript_MAN_annot06.deidentified.txt  \n",
            "   creating: train/meeting_en_dev_004_1/\n",
            "  inflating: train/meeting_en_dev_004_1/transcript_MAN_annot18.deidentified.txt  \n",
            "  inflating: train/meeting_en_dev_004_1/minutes_GENER_annot07.deidentified.txt  \n",
            "   creating: train/meeting_en_train_077/\n",
            "  inflating: train/meeting_en_train_077/minutes_GENER_annot07.deidentified.txt  \n",
            "  inflating: train/meeting_en_train_077/transcript_MAN_annot13.deidentified.txt  \n",
            "   creating: train/meeting_en_train_031/\n",
            "  inflating: train/meeting_en_train_031/transcript_MAN_annot09.deidentified.txt  \n",
            "  inflating: train/meeting_en_train_031/minutes_GENER_annot09.deidentified.txt  \n",
            "   creating: train/meeting_en_train_064/\n",
            "  inflating: train/meeting_en_train_064/transcript_MAN_annot09.deidentified.txt  \n",
            "  inflating: train/meeting_en_train_064/minutes_ORIG.deidentified.txt  \n",
            "   creating: train/meeting_en_test_003/\n",
            "  inflating: train/meeting_en_test_003/transcript_MAN_annot07.deidentified.txt  \n",
            "  inflating: train/meeting_en_test_003/minutes_GENER_annot07.deidentified.txt  \n",
            "   creating: train/meeting_cs_dev_008/\n",
            "  inflating: train/meeting_cs_dev_008/minutes_GENER_annot05.deidentified.txt  \n",
            "  inflating: train/meeting_cs_dev_008/transcript_MAN2_annot18.deidentified.txt  \n",
            "   creating: train/meeting_cs_dev_010_3/\n",
            "  inflating: train/meeting_cs_dev_010_3/transcript_MAN2_annot05.deidentified.txt  \n",
            "  inflating: train/meeting_cs_dev_010_3/minutes_GENER_annot08.deidentified.txt  \n",
            "   creating: train/meeting_en_train_058/\n",
            "  inflating: train/meeting_en_train_058/transcript_MAN_annot18.deidentified.txt  \n",
            "  inflating: train/meeting_en_train_058/minutes_GENER_annot18.deidentified.txt  \n",
            "   creating: train/meeting_en_test_012/\n",
            "  inflating: train/meeting_en_test_012/minutes_ORIG.deidentified.txt  \n",
            "  inflating: train/meeting_en_test_012/transcript_MAN2_annot02.deidentified.txt  \n",
            "   creating: train/meeting_cs_train_030_1/\n",
            "  inflating: train/meeting_cs_train_030_1/minutes_GENER_annot18.deidentified.txt  \n",
            "  inflating: train/meeting_cs_train_030_1/transcript_MAN2_annot05.deidentified.txt  \n",
            "   creating: train/meeting_cs_test_004/\n",
            "  inflating: train/meeting_cs_test_004/minutes_GENER_annot05.deidentified.txt  \n",
            "  inflating: train/meeting_cs_test_004/transcript_MAN2_annot18.deidentified.txt  \n",
            "   creating: train/meeting_en_test_016_3/\n",
            "  inflating: train/meeting_en_test_016_3/transcript_MAN_annot07.deidentified.txt  \n",
            "  inflating: train/meeting_en_test_016_3/minutes_GENER_annot01.deidentified.txt  \n",
            "   creating: train/meeting_en_dev_006_2/\n",
            "  inflating: train/meeting_en_dev_006_2/transcript_MAN_annot07.deidentified.txt  \n",
            "  inflating: train/meeting_en_dev_006_2/minutes_GENER_annot06.deidentified.txt  \n",
            "   creating: train/meeting_en_dev_010_3/\n",
            "  inflating: train/meeting_en_dev_010_3/minutes_ORIG.deidentified.txt  \n",
            "  inflating: train/meeting_en_dev_010_3/transcript_MAN2_annot21.deidentified.txt  \n",
            "   creating: train/meeting_cs_test_001_1/\n",
            "  inflating: train/meeting_cs_test_001_1/minutes_GENER_annot19.deidentified.txt  \n",
            "  inflating: train/meeting_cs_test_001_1/transcript_MAN2_annot19.deidentified.txt  \n",
            "   creating: train/meeting_en_train_051_1/\n",
            "  inflating: train/meeting_en_train_051_1/minutes_GENER_annot24.deidentified.txt  \n",
            "  inflating: train/meeting_en_train_051_1/transcript_MAN_annot24.deidentified.txt  \n",
            "   creating: train/meeting_en_train_002/\n",
            "  inflating: train/meeting_en_train_002/transcript_MAN_annot17.deidentified.txt  \n",
            "  inflating: train/meeting_en_train_002/minutes_ORIG.deidentified.txt  \n",
            "   creating: train/meeting_en_train_080/\n",
            "  inflating: train/meeting_en_train_080/minutes_ORIG.deidentified.txt  \n",
            "  inflating: train/meeting_en_train_080/transcript_MAN2_annot12.deidentified.txt  \n",
            "   creating: train/meeting_en_train_085_7/\n",
            "  inflating: train/meeting_en_train_085_7/transcript_MAN_annot07.deidentified.txt  \n",
            "  inflating: train/meeting_en_train_085_7/minutes_GENER_annot13.deidentified.txt  \n",
            "   creating: train/meeting_en_train_055_1/\n",
            "  inflating: train/meeting_en_train_055_1/minutes_ORIG.deidentified.txt  \n",
            "  inflating: train/meeting_en_train_055_1/transcript_MAN2_annot06.deidentified.txt  \n",
            "   creating: train/meeting_en_train_085_1/\n",
            "  inflating: train/meeting_en_train_085_1/transcript_MAN_annot07.deidentified.txt  \n",
            "  inflating: train/meeting_en_train_085_1/minutes_GENER_annot07.deidentified.txt  \n",
            "   creating: train/meeting_en_train_024/\n",
            "  inflating: train/meeting_en_train_024/transcript_MAN_annot18.deidentified.txt  \n",
            "  inflating: train/meeting_en_train_024/minutes_GENER_annot18.deidentified.txt  \n",
            "   creating: train/meeting_en_train_069/\n",
            "  inflating: train/meeting_en_train_069/minutes_GENER_annot07.deidentified.txt  \n",
            "  inflating: train/meeting_en_train_069/transcript_MAN2_annot13.deidentified.txt  \n",
            "   creating: train/meeting_en_test_002_9/\n",
            "  inflating: train/meeting_en_test_002_9/transcript_MAN2_annot20.deidentified.txt  \n",
            "  inflating: train/meeting_en_test_002_9/minutes_GENER_annot13.deidentified.txt  \n",
            "   creating: train/meeting_en_dev_010_5/\n",
            "  inflating: train/meeting_en_dev_010_5/minutes_GENER_annot02.deidentified.txt  \n",
            "  inflating: train/meeting_en_dev_010_5/transcript_MAN2_annot21.deidentified.txt  \n",
            "   creating: train/meeting_en_train_051/\n",
            "  inflating: train/meeting_en_train_051/minutes_ORIG.deidentified.txt  \n",
            "  inflating: train/meeting_en_train_051/transcript_MAN_annot24.deidentified.txt  \n",
            "   creating: train/meeting_en_train_004/\n",
            "  inflating: train/meeting_en_train_004/transcript_MAN_annot22.deidentified.txt  \n",
            "  inflating: train/meeting_en_train_004/minutes_GENER_annot22.deidentified.txt  \n",
            "   creating: train/meeting_en_train_084/\n",
            "  inflating: train/meeting_en_train_084/transcript_MAN_annot07.deidentified.txt  \n",
            "  inflating: train/meeting_en_train_084/minutes_GENER_annot07.deidentified.txt  \n",
            "   creating: train/meeting_en_train_072_2/\n",
            "  inflating: train/meeting_en_train_072_2/transcript_MAN2_annot11.deidentified.txt  \n",
            "  inflating: train/meeting_en_train_072_2/minutes_GENER_annot06.deidentified.txt  \n",
            "   creating: train/meeting_en_dev_010_2/\n",
            "  inflating: train/meeting_en_dev_010_2/minutes_GENER_annot97.deidentified.txt  \n",
            "  inflating: train/meeting_en_dev_010_2/transcript_MAN2_annot21.deidentified.txt  \n",
            "   creating: train/meeting_cs_test_002_3/\n",
            "  inflating: train/meeting_cs_test_002_3/transcript_MAN_annot18.deidentified.txt  \n",
            "  inflating: train/meeting_cs_test_002_3/minutes_GENER_annot08.deidentified.txt  \n",
            "   creating: train/meeting_en_train_007/\n",
            "  inflating: train/meeting_en_train_007/minutes_ORIG.deidentified.txt  \n",
            "  inflating: train/meeting_en_train_007/transcript_MAN_annot13.deidentified.txt  \n",
            "   creating: train/meeting_en_dev_009_1/\n",
            "  inflating: train/meeting_en_dev_009_1/transcript_MAN2_annot06.deidentified.txt  \n",
            "  inflating: train/meeting_en_dev_009_1/minutes_GENER_annot06.deidentified.txt  \n",
            "   creating: train/meeting_en_train_060_1/\n",
            "  inflating: train/meeting_en_train_060_1/transcript_MAN_annot07.deidentified.txt  \n",
            "  inflating: train/meeting_en_train_060_1/minutes_ORIG.deidentified.txt  \n",
            "   creating: train/meeting_en_train_049/\n",
            "  inflating: train/meeting_en_train_049/minutes_GENER_annot11.deidentified.txt  \n",
            "  inflating: train/meeting_en_train_049/transcript_MAN2_annot13.deidentified.txt  \n",
            "   creating: train/meeting_en_test_002_2/\n",
            "  inflating: train/meeting_en_test_002_2/minutes_GENER_annot11.deidentified.txt  \n",
            "  inflating: train/meeting_en_test_002_2/transcript_MAN2_annot20.deidentified.txt  \n",
            "   creating: train/meeting_en_train_076_1/\n",
            "  inflating: train/meeting_en_train_076_1/transcript_MAN_annot07.deidentified.txt  \n",
            "  inflating: train/meeting_en_train_076_1/minutes_ORIG.deidentified.txt  \n",
            "   creating: train/meeting_en_train_030_1/\n",
            "  inflating: train/meeting_en_train_030_1/transcript_MAN_annot01.deidentified.txt  \n",
            "  inflating: train/meeting_en_train_030_1/minutes_GENER_annot01.deidentified.txt  \n",
            "   creating: train/meeting_cs_train_030/\n",
            "  inflating: train/meeting_cs_train_030/minutes_GENER_annot05.deidentified.txt  \n",
            "  inflating: train/meeting_cs_train_030/transcript_MAN2_annot05.deidentified.txt  \n",
            "   creating: train/meeting_en_test_016_2/\n",
            "  inflating: train/meeting_en_test_016_2/transcript_MAN_annot07.deidentified.txt  \n",
            "  inflating: train/meeting_en_test_016_2/minutes_GENER_annot02.deidentified.txt  \n",
            "   creating: train/meeting_cs_train_025_1/\n",
            "  inflating: train/meeting_cs_train_025_1/minutes_ORIG.deidentified.txt  \n",
            "  inflating: train/meeting_cs_train_025_1/transcript_MAN_annot05.deidentified.txt  \n",
            "   creating: train/meeting_en_test_005/\n",
            "  inflating: train/meeting_en_test_005/transcript_MAN_annot09.deidentified.txt  \n",
            "  inflating: train/meeting_en_test_005/minutes_ORIG.deidentified.txt  \n",
            "   creating: train/meeting_en_train_043/\n",
            "  inflating: train/meeting_en_train_043/minutes_GENER_annot24.deidentified.txt  \n",
            "  inflating: train/meeting_en_train_043/transcript_MAN_annot24.deidentified.txt  \n",
            "   creating: train/meeting_cs_train_028/\n",
            "  inflating: train/meeting_cs_train_028/minutes_GENER_annot05.deidentified.txt  \n",
            "  inflating: train/meeting_cs_train_028/transcript_MAN2_annot05.deidentified.txt  \n",
            "   creating: train/meeting_cs_train_009/\n",
            "  inflating: train/meeting_cs_train_009/minutes_GENER_annot19.deidentified.txt  \n",
            "  inflating: train/meeting_cs_train_009/transcript_MAN_annot18.deidentified.txt  \n",
            "   creating: train/meeting_en_test_008/\n",
            "  inflating: train/meeting_en_test_008/transcript_MAN2_annot22.deidentified.txt  \n",
            "  inflating: train/meeting_en_test_008/minutes_ORIG.deidentified.txt  \n",
            "   creating: train/meeting_en_train_041/\n",
            "  inflating: train/meeting_en_train_041/transcript_MAN_annot08.deidentified.txt  \n",
            "  inflating: train/meeting_en_train_041/minutes_ORIG.deidentified.txt  \n",
            "   creating: train/meeting_en_test_002_7/\n",
            "  inflating: train/meeting_en_test_002_7/transcript_MAN2_annot20.deidentified.txt  \n",
            "  inflating: train/meeting_en_test_002_7/minutes_GENER_annot02.deidentified.txt  \n",
            "   creating: train/meeting_en_train_001_1/\n",
            "  inflating: train/meeting_en_train_001_1/minutes_GENER_annot02.deidentified.txt  \n",
            "  inflating: train/meeting_en_train_001_1/transcript_MAN2_annot02.deidentified.txt  \n",
            "   creating: train/meeting_en_test_017_1/\n",
            "  inflating: train/meeting_en_test_017_1/transcript_MAN2_annot07.deidentified.txt  \n",
            "  inflating: train/meeting_en_test_017_1/minutes_ORIG.deidentified.txt  \n",
            "   creating: train/meeting_cs_test_003_1/\n",
            "  inflating: train/meeting_cs_test_003_1/transcript_MAN_annot18.deidentified.txt  \n",
            "  inflating: train/meeting_cs_test_003_1/minutes_GENER_annot18.deidentified.txt  \n",
            "   creating: train/meeting_en_test_006_1/\n",
            "  inflating: train/meeting_en_test_006_1/minutes_GENER_annot16.deidentified.txt  \n",
            "  inflating: train/meeting_en_test_006_1/transcript_MAN_annot16.deidentified.txt  \n",
            "   creating: train/meeting_cs_train_004/\n",
            "  inflating: train/meeting_cs_train_004/minutes_GENER_annot19.deidentified.txt  \n",
            "  inflating: train/meeting_cs_train_004/transcript_MAN_annot19.deidentified.txt  \n",
            "   creating: train/meeting_en_test_006/\n",
            "  inflating: train/meeting_en_test_006/minutes_ORIG.deidentified.txt  \n",
            "  inflating: train/meeting_en_test_006/transcript_MAN_annot16.deidentified.txt  \n",
            "   creating: train/meeting_en_train_060/\n",
            "  inflating: train/meeting_en_train_060/transcript_MAN_annot07.deidentified.txt  \n",
            "  inflating: train/meeting_en_train_060/minutes_GENER_annot07.deidentified.txt  \n",
            "   creating: train/meeting_cs_test_007_2/\n",
            "  inflating: train/meeting_cs_test_007_2/transcript_MAN_annot18.deidentified.txt  \n",
            "  inflating: train/meeting_cs_test_007_2/minutes_ORIG.deidentified.txt  \n",
            "   creating: train/meeting_cs_train_019_2/\n",
            "  inflating: train/meeting_cs_train_019_2/transcript_MAN2_annot18.deidentified.txt  \n",
            "  inflating: train/meeting_cs_train_019_2/minutes_ORIG.deidentified.txt  \n",
            "   creating: train/meeting_en_train_081/\n",
            "  inflating: train/meeting_en_train_081/minutes_ORIG.deidentified.txt  \n",
            "  inflating: train/meeting_en_train_081/transcript_MAN_annot24.deidentified.txt  \n",
            "   creating: train/meeting_en_test_011_1/\n",
            "  inflating: train/meeting_en_test_011_1/minutes_GENER_annot24.deidentified.txt  \n",
            "  inflating: train/meeting_en_test_011_1/transcript_MAN_annot24.deidentified.txt  \n",
            "   creating: train/meeting_en_test_018_2/\n",
            "  inflating: train/meeting_en_test_018_2/transcript_MAN_annot23.deidentified.txt  \n",
            "  inflating: train/meeting_en_test_018_2/minutes_GENER_annot17.deidentified.txt  \n",
            "   creating: train/meeting_en_train_081_1/\n",
            "  inflating: train/meeting_en_train_081_1/minutes_GENER_annot24.deidentified.txt  \n",
            "  inflating: train/meeting_en_train_081_1/transcript_MAN_annot24.deidentified.txt  \n",
            "   creating: train/meeting_en_train_042/\n",
            "  inflating: train/meeting_en_train_042/minutes_GENER_annot11.deidentified.txt  \n",
            "  inflating: train/meeting_en_train_042/transcript_MAN_annot11.deidentified.txt  \n",
            "   creating: train/meeting_cs_train_006_1/\n",
            "  inflating: train/meeting_cs_train_006_1/minutes_GENER_annot18.deidentified.txt  \n",
            "  inflating: train/meeting_cs_train_006_1/transcript_MAN2_annot05.deidentified.txt  \n",
            "   creating: train/meeting_cs_train_017_2/\n",
            "  inflating: train/meeting_cs_train_017_2/minutes_ORIG.deidentified.txt  \n",
            "  inflating: train/meeting_cs_train_017_2/transcript_MAN2_annot05.deidentified.txt  \n",
            "   creating: train/meeting_cs_train_030_2/\n",
            "  inflating: train/meeting_cs_train_030_2/minutes_ORIG.deidentified.txt  \n",
            "  inflating: train/meeting_cs_train_030_2/transcript_MAN2_annot05.deidentified.txt  \n",
            "   creating: train/meeting_en_train_057/\n",
            "  inflating: train/meeting_en_train_057/transcript_MAN_annot17.deidentified.txt  \n",
            "  inflating: train/meeting_en_train_057/minutes_GENER_annot17.deidentified.txt  \n",
            "   creating: train/meeting_en_train_083/\n",
            "  inflating: train/meeting_en_train_083/transcript_MAN_annot08.deidentified.txt  \n",
            "  inflating: train/meeting_en_train_083/minutes_ORIG.deidentified.txt  \n",
            "   creating: train/meeting_cs_train_016/\n",
            "  inflating: train/meeting_cs_train_016/minutes_GENER_annot05.deidentified.txt  \n",
            "  inflating: train/meeting_cs_train_016/transcript_MAN2_annot05.deidentified.txt  \n",
            "   creating: train/meeting_cs_test_010_1/\n",
            "  inflating: train/meeting_cs_test_010_1/transcript_MAN_annot18.deidentified.txt  \n",
            "  inflating: train/meeting_cs_test_010_1/minutes_GENER_annot18.deidentified.txt  \n",
            "   creating: train/meeting_en_train_040/\n",
            "  inflating: train/meeting_en_train_040/minutes_GENER_annot10.deidentified.txt  \n",
            "  inflating: train/meeting_en_train_040/transcript_MAN_annot10.deidentified.txt  \n",
            "   creating: train/meeting_en_train_073/\n",
            "  inflating: train/meeting_en_train_073/transcript_MAN_annot22.deidentified.txt  \n",
            "  inflating: train/meeting_en_train_073/minutes_GENER_annot22.deidentified.txt  \n",
            "   creating: train/meeting_en_test_010_2/\n",
            "  inflating: train/meeting_en_test_010_2/transcript_MAN_annot03.deidentified.txt  \n",
            "  inflating: train/meeting_en_test_010_2/minutes_GENER_annot02.deidentified.txt  \n",
            "   creating: train/meeting_cs_train_008_2/\n",
            " extracting: train/meeting_cs_train_008_2/minutes_ORIG.deidentified.txt  \n",
            "  inflating: train/meeting_cs_train_008_2/transcript_MAN2_annot05.deidentified.txt  \n",
            "   creating: train/meeting_en_train_056_1/\n",
            "  inflating: train/meeting_en_train_056_1/minutes_GENER_annot06.deidentified.txt  \n",
            "  inflating: train/meeting_en_train_056_1/transcript_MAN_annot06.deidentified.txt  \n",
            "   creating: train/meeting_en_train_035_2/\n",
            "  inflating: train/meeting_en_train_035_2/transcript_MAN2_annot17.deidentified.txt  \n",
            "  inflating: train/meeting_en_train_035_2/minutes_GENER_annot17.deidentified.txt  \n",
            "   creating: train/meeting_en_train_071_1/\n",
            "  inflating: train/meeting_en_train_071_1/transcript_MAN_annot07.deidentified.txt  \n",
            "  inflating: train/meeting_en_train_071_1/minutes_ORIG.deidentified.txt  \n",
            "   creating: train/meeting_en_test_015/\n",
            "  inflating: train/meeting_en_test_015/transcript_MAN_annot18.deidentified.txt  \n",
            "  inflating: train/meeting_en_test_015/minutes_GENER_annot18.deidentified.txt  \n",
            "   creating: train/meeting_en_train_085_5/\n",
            "  inflating: train/meeting_en_train_085_5/transcript_MAN_annot07.deidentified.txt  \n",
            "  inflating: train/meeting_en_train_085_5/minutes_GENER_annot99.deidentified.txt  \n",
            "   creating: train/meeting_cs_test_001/\n",
            "  inflating: train/meeting_cs_test_001/minutes_GENER_annot05.deidentified.txt  \n",
            "  inflating: train/meeting_cs_test_001/transcript_MAN2_annot19.deidentified.txt  \n",
            "   creating: train/meeting_en_test_003_2/\n",
            "  inflating: train/meeting_en_test_003_2/transcript_MAN_annot07.deidentified.txt  \n",
            "  inflating: train/meeting_en_test_003_2/minutes_GENER_annot06.deidentified.txt  \n",
            "   creating: train/meeting_en_train_036/\n",
            "  inflating: train/meeting_en_train_036/transcript_MAN_annot08.deidentified.txt  \n",
            "  inflating: train/meeting_en_train_036/minutes_ORIG.deidentified.txt  \n",
            "   creating: train/meeting_en_train_036_1/\n",
            "  inflating: train/meeting_en_train_036_1/transcript_MAN_annot08.deidentified.txt  \n",
            "  inflating: train/meeting_en_train_036_1/minutes_GENER_annot08.deidentified.txt  \n",
            "   creating: train/meeting_en_train_065/\n",
            "  inflating: train/meeting_en_train_065/minutes_GENER_annot12.deidentified.txt  \n",
            "  inflating: train/meeting_en_train_065/transcript_MAN_annot12.deidentified.txt  \n",
            "   creating: train/meeting_cs_train_029/\n",
            "  inflating: train/meeting_cs_train_029/minutes_GENER_annot05.deidentified.txt  \n",
            "  inflating: train/meeting_cs_train_029/transcript_MAN2_annot18.deidentified.txt  \n",
            "   creating: train/meeting_en_train_022_1/\n",
            "  inflating: train/meeting_en_train_022_1/transcript_MAN_annot13.deidentified.txt  \n",
            "  inflating: train/meeting_en_train_022_1/minutes_GENER_annot13.deidentified.txt  \n",
            "   creating: train/meeting_en_dev_004/\n",
            "  inflating: train/meeting_en_dev_004/transcript_MAN_annot18.deidentified.txt  \n",
            "  inflating: train/meeting_en_dev_004/minutes_GENER_annot18.deidentified.txt  \n",
            "   creating: train/meeting_en_train_028_1/\n",
            "  inflating: train/meeting_en_train_028_1/transcript_MAN_annot15.deidentified.txt  \n",
            "  inflating: train/meeting_en_train_028_1/minutes_GENER_annot15.deidentified.txt  \n",
            "   creating: train/meeting_en_dev_010_7/\n",
            "  inflating: train/meeting_en_dev_010_7/minutes_GENER_annot01.deidentified.txt  \n",
            "  inflating: train/meeting_en_dev_010_7/transcript_MAN2_annot21.deidentified.txt  \n",
            "   creating: train/meeting_en_train_056/\n",
            "  inflating: train/meeting_en_train_056/minutes_ORIG.deidentified.txt  \n",
            "  inflating: train/meeting_en_train_056/transcript_MAN_annot06.deidentified.txt  \n",
            "   creating: train/meeting_en_test_016/\n",
            "  inflating: train/meeting_en_test_016/transcript_MAN_annot07.deidentified.txt  \n",
            "  inflating: train/meeting_en_test_016/minutes_GENER_annot07.deidentified.txt  \n",
            "   creating: train/meeting_en_train_049_1/\n",
            "  inflating: train/meeting_en_train_049_1/transcript_MAN2_annot13.deidentified.txt  \n",
            "  inflating: train/meeting_en_train_049_1/minutes_GENER_annot13.deidentified.txt  \n",
            "   creating: train/meeting_en_train_075_1/\n",
            "  inflating: train/meeting_en_train_075_1/transcript_MAN3_annot06.deidentified.txt  \n",
            "  inflating: train/meeting_en_train_075_1/minutes_GENER_annot06.deidentified.txt  \n",
            "   creating: train/meeting_cs_train_024/\n",
            "  inflating: train/meeting_cs_train_024/transcript_MAN_annot18.deidentified.txt  \n",
            "  inflating: train/meeting_cs_train_024/minutes_GENER_annot18.deidentified.txt  \n",
            "   creating: train/meeting_en_test_001_1/\n",
            "  inflating: train/meeting_en_test_001_1/transcript_MAN2_annot24.deidentified.txt  \n",
            "  inflating: train/meeting_en_test_001_1/minutes_GENER_annot02.deidentified.txt  \n",
            "   creating: train/meeting_en_train_010_1/\n",
            "  inflating: train/meeting_en_train_010_1/minutes_GENER_annot12.deidentified.txt  \n",
            "  inflating: train/meeting_en_train_010_1/transcript_MAN_annot12.deidentified.txt  \n",
            "   creating: train/meeting_en_train_021_1/\n",
            "  inflating: train/meeting_en_train_021_1/transcript_MAN_annot13.deidentified.txt  \n",
            "  inflating: train/meeting_en_train_021_1/minutes_GENER_annot13.deidentified.txt  \n",
            "   creating: train/meeting_en_dev_010_6/\n",
            "  inflating: train/meeting_en_dev_010_6/minutes_GENER_annot95.deidentified.txt  \n",
            "  inflating: train/meeting_en_dev_010_6/transcript_MAN2_annot21.deidentified.txt  \n",
            "   creating: train/meeting_cs_train_011_1/\n",
            "  inflating: train/meeting_cs_train_011_1/minutes_GENER_annot18.deidentified.txt  \n",
            "  inflating: train/meeting_cs_train_011_1/transcript_MAN2_annot05.deidentified.txt  \n",
            "   creating: train/meeting_cs_dev_007_2/\n",
            "  inflating: train/meeting_cs_dev_007_2/minutes_ORIG.deidentified.txt  \n",
            "  inflating: train/meeting_cs_dev_007_2/transcript_MAN2_annot05.deidentified.txt  \n",
            "   creating: train/meeting_en_dev_007/\n",
            "  inflating: train/meeting_en_dev_007/transcript_MAN2_annot07.deidentified.txt  \n",
            "  inflating: train/meeting_en_dev_007/minutes_GENER_annot07.deidentified.txt  \n",
            "   creating: train/meeting_cs_train_007_1/\n",
            "  inflating: train/meeting_cs_train_007_1/minutes_ORIG.deidentified.txt  \n",
            "  inflating: train/meeting_cs_train_007_1/transcript_MAN_annot05.deidentified.txt  \n",
            "   creating: train/meeting_cs_train_028_2/\n",
            "  inflating: train/meeting_cs_train_028_2/minutes_ORIG.deidentified.txt  \n",
            "  inflating: train/meeting_cs_train_028_2/transcript_MAN2_annot05.deidentified.txt  \n",
            "   creating: train/meeting_en_train_023_1/\n",
            "  inflating: train/meeting_en_train_023_1/transcript_MAN_annot07.deidentified.txt  \n",
            "  inflating: train/meeting_en_train_023_1/minutes_ORIG.deidentified.txt  \n",
            "   creating: train/meeting_cs_test_016_1/\n",
            "  inflating: train/meeting_cs_test_016_1/transcript_MAN_annot05.deidentified.txt  \n",
            "  inflating: train/meeting_cs_test_016_1/minutes_GENER_annot05.txt  \n",
            "   creating: train/meeting_en_train_082_1/\n",
            "  inflating: train/meeting_en_train_082_1/minutes_GENER_annot02.deidentified.txt  \n",
            "  inflating: train/meeting_en_train_082_1/transcript_MAN_annot02.deidentified.txt  \n",
            "   creating: train/meeting_cs_test_007_1/\n",
            "  inflating: train/meeting_cs_test_007_1/transcript_MAN_annot18.deidentified.txt  \n",
            "  inflating: train/meeting_cs_test_007_1/minutes_GENER_annot18.deidentified.txt  \n",
            "   creating: train/meeting_en_train_085_4/\n",
            "  inflating: train/meeting_en_train_085_4/transcript_MAN_annot07.deidentified.txt  \n",
            "  inflating: train/meeting_en_train_085_4/minutes_GENER_annot09.deidentified.txt  \n",
            "   creating: train/meeting_cs_dev_008_2/\n",
            "  inflating: train/meeting_cs_dev_008_2/transcript_MAN2_annot18.deidentified.txt  \n",
            "  inflating: train/meeting_cs_dev_008_2/minutes_ORIG.deidentified.txt  \n",
            "   creating: train/meeting_en_train_046/\n",
            "  inflating: train/meeting_en_train_046/minutes_GENER_annot11.deidentified.txt  \n",
            "  inflating: train/meeting_en_train_046/transcript_MAN_annot11.deidentified.txt  \n",
            "   creating: train/meeting_cs_train_008/\n",
            "  inflating: train/meeting_cs_train_008/minutes_GENER_annot05.deidentified.txt  \n",
            "  inflating: train/meeting_cs_train_008/transcript_MAN2_annot05.deidentified.txt  \n",
            "   creating: train/meeting_cs_train_016_1/\n",
            "  inflating: train/meeting_cs_train_016_1/minutes_GENER_annot18.deidentified.txt  \n",
            "  inflating: train/meeting_cs_train_016_1/transcript_MAN2_annot05.deidentified.txt  \n",
            "   creating: train/meeting_cs_test_008/\n",
            "  inflating: train/meeting_cs_test_008/minutes_GENER_annot19.deidentified.txt  \n",
            "  inflating: train/meeting_cs_test_008/transcript_MAN_annot18.deidentified.txt  \n",
            "   creating: train/meeting_cs_train_002/\n",
            "  inflating: train/meeting_cs_train_002/minutes_GENER_annot19.deidentified.txt  \n",
            "  inflating: train/meeting_cs_train_002/transcript_MAN_annot19.deidentified.txt  \n",
            "   creating: train/meeting_en_train_007_1/\n",
            "  inflating: train/meeting_en_train_007_1/transcript_MAN_annot13.deidentified.txt  \n",
            "  inflating: train/meeting_en_train_007_1/minutes_GENER_annot13.deidentified.txt  \n",
            "   creating: train/meeting_en_train_085/\n",
            "  inflating: train/meeting_en_train_085/transcript_MAN_annot07.deidentified.txt  \n",
            "  inflating: train/meeting_en_train_085/minutes_GENER_annot11.deidentified.txt  \n",
            "   creating: train/meeting_cs_test_002_2/\n",
            "  inflating: train/meeting_cs_test_002_2/transcript_MAN_annot18.deidentified.txt  \n",
            "  inflating: train/meeting_cs_test_002_2/minutes_ORIG.deidentified.txt  \n",
            "   creating: train/meeting_cs_dev_005_2/\n",
            "  inflating: train/meeting_cs_dev_005_2/minutes_ORIG.deidentified.txt  \n",
            "  inflating: train/meeting_cs_dev_005_2/transcript_MAN2_annot05.deidentified.txt  \n",
            "   creating: train/meeting_cs_train_016_2/\n",
            "  inflating: train/meeting_cs_train_016_2/minutes_ORIG.deidentified.txt  \n",
            "  inflating: train/meeting_cs_train_016_2/transcript_MAN2_annot05.deidentified.txt  \n",
            "   creating: train/meeting_en_dev_009_3/\n",
            "  inflating: train/meeting_en_dev_009_3/transcript_MAN2_annot06.deidentified.txt  \n",
            "  inflating: train/meeting_en_dev_009_3/minutes_GENER_annot01.deidentified.txt  \n",
            "   creating: train/meeting_cs_dev_004/\n",
            "  inflating: train/meeting_cs_dev_004/minutes_GENER_annot05.deidentified.txt  \n",
            "  inflating: train/meeting_cs_dev_004/transcript_MAN2_annot05.deidentified.txt  \n",
            "   creating: train/meeting_en_train_039/\n",
            "  inflating: train/meeting_en_train_039/transcript_MAN2_annot09.deidentified.txt  \n",
            "  inflating: train/meeting_en_train_039/minutes_ORIG.deidentified.txt  \n",
            "   creating: train/meeting_en_train_084_1/\n",
            "  inflating: train/meeting_en_train_084_1/transcript_MAN_annot07.deidentified.txt  \n",
            "  inflating: train/meeting_en_train_084_1/minutes_ORIG.deidentified.txt  \n",
            "   creating: train/meeting_cs_train_006/\n",
            "  inflating: train/meeting_cs_train_006/minutes_GENER_annot05.deidentified.txt  \n",
            "  inflating: train/meeting_cs_train_006/transcript_MAN2_annot05.deidentified.txt  \n",
            "   creating: train/meeting_cs_train_026/\n",
            "  inflating: train/meeting_cs_train_026/minutes_GENER_annot05.deidentified.txt  \n",
            "  inflating: train/meeting_cs_train_026/transcript_MAN_annot05.deidentified.txt  \n",
            "   creating: train/meeting_en_train_061/\n",
            "  inflating: train/meeting_en_train_061/minutes_GENER_annot06.deidentified.txt  \n",
            "  inflating: train/meeting_en_train_061/transcript_MAN_annot06.deidentified.txt  \n",
            "   creating: train/meeting_en_train_047/\n",
            "  inflating: train/meeting_en_train_047/transcript_MAN_annot09.deidentified.txt  \n",
            "  inflating: train/meeting_en_train_047/minutes_ORIG.deidentified.txt  \n",
            "   creating: train/meeting_cs_train_017/\n",
            "  inflating: train/meeting_cs_train_017/minutes_GENER_annot05.deidentified.txt  \n",
            "  inflating: train/meeting_cs_train_017/transcript_MAN2_annot05.deidentified.txt  \n",
            "   creating: train/meeting_cs_dev_003_4/\n",
            "  inflating: train/meeting_cs_dev_003_4/transcript_MAN_annot18.deidentified.txt  \n",
            "  inflating: train/meeting_cs_dev_003_4/minutes_GENER_annot08.deidentified.txt  \n",
            "   creating: train/meeting_en_train_045_1/\n",
            "  inflating: train/meeting_en_train_045_1/minutes_GENER_annot06.deidentified.txt  \n",
            "  inflating: train/meeting_en_train_045_1/transcript_MAN_annot06.deidentified.txt  \n",
            "   creating: train/meeting_en_train_002_1/\n",
            "  inflating: train/meeting_en_train_002_1/transcript_MAN_annot17.deidentified.txt  \n",
            "  inflating: train/meeting_en_train_002_1/minutes_GENER_annot17.deidentified.txt  \n",
            "   creating: train/meeting_en_train_035_1/\n",
            "  inflating: train/meeting_en_train_035_1/minutes_ORIG.deidentified.txt  \n",
            "  inflating: train/meeting_en_train_035_1/transcript_MAN2_annot17.deidentified.txt  \n",
            "   creating: train/meeting_cs_test_006_4/\n",
            "  inflating: train/meeting_cs_test_006_4/transcript_MAN_annot18.deidentified.txt  \n",
            "  inflating: train/meeting_cs_test_006_4/minutes_GENER_annot08.deidentified.txt  \n",
            "   creating: train/meeting_cs_train_032/\n",
            "  inflating: train/meeting_cs_train_032/minutes_GENER_annot05.deidentified.txt  \n",
            "  inflating: train/meeting_cs_train_032/transcript_MAN2_annot19.deidentified.txt  \n",
            "   creating: train/meeting_en_train_067_1/\n",
            "  inflating: train/meeting_en_train_067_1/transcript_MAN_annot08.deidentified.txt  \n",
            "  inflating: train/meeting_en_train_067_1/minutes_GENER_annot08.deidentified.txt  \n",
            "   creating: train/meeting_cs_train_014/\n",
            "  inflating: train/meeting_cs_train_014/minutes_GENER_annot05.deidentified.txt  \n",
            "  inflating: train/meeting_cs_train_014/transcript_MAN_annot18.deidentified.txt  \n",
            "   creating: train/meeting_cs_dev_004_2/\n",
            "  inflating: train/meeting_cs_dev_004_2/minutes_ORIG.deidentified.txt  \n",
            "  inflating: train/meeting_cs_dev_004_2/transcript_MAN2_annot05.deidentified.txt  \n",
            "   creating: train/meeting_en_dev_009/\n",
            "  inflating: train/meeting_en_dev_009/minutes_ORIG.deidentified.txt  \n",
            "  inflating: train/meeting_en_dev_009/transcript_MAN2_annot06.deidentified.txt  \n",
            "   creating: train/meeting_cs_test_006_3/\n",
            "  inflating: train/meeting_cs_test_006_3/transcript_MAN_annot18.deidentified.txt  \n",
            "  inflating: train/meeting_cs_test_006_3/minutes_ORIG.deidentified.txt  \n",
            "   creating: train/meeting_en_test_018/\n",
            "  inflating: train/meeting_en_test_018/minutes_ORIG.deidentified.txt  \n",
            "  inflating: train/meeting_en_test_018/transcript_MAN_annot23.deidentified.txt  \n",
            "   creating: train/meeting_cs_dev_004_1/\n",
            "  inflating: train/meeting_cs_dev_004_1/minutes_GENER_annot18.deidentified.txt  \n",
            "  inflating: train/meeting_cs_dev_004_1/transcript_MAN2_annot05.deidentified.txt  \n",
            "   creating: train/meeting_en_dev_010/\n",
            "  inflating: train/meeting_en_dev_010/minutes_GENER_annot21.deidentified.txt  \n",
            "  inflating: train/meeting_en_dev_010/transcript_MAN2_annot21.deidentified.txt  \n",
            "   creating: train/meeting_cs_test_005/\n",
            "  inflating: train/meeting_cs_test_005/minutes_GENER_annot05.deidentified.txt  \n",
            "  inflating: train/meeting_cs_test_005/transcript_MAN_annot18.deidentified.txt  \n",
            "   creating: train/meeting_cs_dev_006_1/\n",
            "  inflating: train/meeting_cs_dev_006_1/transcript_MAN_annot18.deidentified.txt  \n",
            "  inflating: train/meeting_cs_dev_006_1/minutes_GENER_annot18.deidentified.txt  \n",
            "   creating: train/meeting_en_test_003_1/\n",
            "  inflating: train/meeting_en_test_003_1/transcript_MAN_annot07.deidentified.txt  \n",
            "  inflating: train/meeting_en_test_003_1/minutes_ORIG.deidentified.txt  \n",
            "   creating: train/meeting_cs_train_009_2/\n",
            "  inflating: train/meeting_cs_train_009_2/transcript_MAN_annot18.deidentified.txt  \n",
            "  inflating: train/meeting_cs_train_009_2/minutes_ORIG.deidentified.txt  \n",
            "   creating: train/meeting_en_train_037/\n",
            "  inflating: train/meeting_en_train_037/minutes_GENER_annot02.deidentified.txt  \n",
            "  inflating: train/meeting_en_train_037/transcript_MAN_annot02.deidentified.txt  \n",
            "   creating: train/meeting_en_train_053/\n",
            "  inflating: train/meeting_en_train_053/minutes_ORIG.deidentified.txt  \n",
            "  inflating: train/meeting_en_train_053/transcript_MAN_annot06.deidentified.txt  \n",
            "   creating: train/meeting_en_train_052/\n",
            "  inflating: train/meeting_en_train_052/transcript_MAN_annot17.deidentified.txt  \n",
            "  inflating: train/meeting_en_train_052/minutes_ORIG.deidentified.txt  \n",
            "   creating: train/meeting_cs_train_010/\n",
            "  inflating: train/meeting_cs_train_010/minutes_GENER_annot05.deidentified.txt  \n",
            "  inflating: train/meeting_cs_train_010/transcript_MAN2_annot05.deidentified.txt  \n",
            "   creating: train/meeting_cs_train_033/\n",
            "  inflating: train/meeting_cs_train_033/minutes_GENER_annot05.deidentified.txt  \n",
            "  inflating: train/meeting_cs_train_033/transcript_MAN_annot05.deidentified.txt  \n",
            "   creating: train/meeting_en_train_005/\n",
            "  inflating: train/meeting_en_train_005/transcript_MAN_annot15.deidentified.txt  \n",
            "  inflating: train/meeting_en_train_005/minutes_GENER_annot15.deidentified.txt  \n",
            "   creating: train/meeting_en_test_010_1/\n",
            "  inflating: train/meeting_en_test_010_1/transcript_MAN_annot03.deidentified.txt  \n",
            "  inflating: train/meeting_en_test_010_1/minutes_ORIG.deidentified.txt  \n",
            "   creating: train/meeting_en_train_041_1/\n",
            "  inflating: train/meeting_en_train_041_1/transcript_MAN_annot08.deidentified.txt  \n",
            "  inflating: train/meeting_en_train_041_1/minutes_GENER_annot08.deidentified.txt  \n",
            "   creating: train/meeting_en_train_052_1/\n",
            "  inflating: train/meeting_en_train_052_1/transcript_MAN_annot17.deidentified.txt  \n",
            "  inflating: train/meeting_en_train_052_1/minutes_GENER_annot17.deidentified.txt  \n",
            "   creating: train/meeting_cs_train_012/\n",
            "  inflating: train/meeting_cs_train_012/minutes_GENER_annot05.deidentified.txt  \n",
            "  inflating: train/meeting_cs_train_012/transcript_MAN2_annot19.deidentified.txt  \n",
            "   creating: train/meeting_en_train_027/\n",
            "  inflating: train/meeting_en_train_027/transcript_MAN_annot08.deidentified.txt  \n",
            "  inflating: train/meeting_en_train_027/minutes_GENER_annot08.deidentified.txt  \n",
            "   creating: train/meeting_cs_train_018/\n",
            "  inflating: train/meeting_cs_train_018/minutes_GENER_annot19.deidentified.txt  \n",
            "  inflating: train/meeting_cs_train_018/transcript_MAN_annot18.deidentified.txt  \n",
            "   creating: train/meeting_en_test_005_1/\n",
            "  inflating: train/meeting_en_test_005_1/transcript_MAN_annot09.deidentified.txt  \n",
            "  inflating: train/meeting_en_test_005_1/minutes_GENER_annot09.deidentified.txt  \n",
            "   creating: train/meeting_en_test_012_1/\n",
            "  inflating: train/meeting_en_test_012_1/minutes_GENER_annot02.deidentified.txt  \n",
            "  inflating: train/meeting_en_test_012_1/transcript_MAN2_annot02.deidentified.txt  \n",
            "   creating: train/meeting_cs_test_010/\n",
            "  inflating: train/meeting_cs_test_010/minutes_GENER_annot19.deidentified.txt  \n",
            "  inflating: train/meeting_cs_test_010/transcript_MAN_annot18.deidentified.txt  \n",
            "   creating: train/meeting_cs_train_012_2/\n",
            "  inflating: train/meeting_cs_train_012_2/minutes_ORIG.deidentified.txt  \n",
            "  inflating: train/meeting_cs_train_012_2/transcript_MAN2_annot19.deidentified.txt  \n",
            "   creating: train/meeting_cs_dev_005_1/\n",
            "  inflating: train/meeting_cs_dev_005_1/minutes_GENER_annot19.deidentified.txt  \n",
            "  inflating: train/meeting_cs_dev_005_1/transcript_MAN2_annot05.deidentified.txt  \n",
            "   creating: train/meeting_cs_train_011/\n",
            "  inflating: train/meeting_cs_train_011/minutes_GENER_annot05.deidentified.txt  \n",
            "  inflating: train/meeting_cs_train_011/transcript_MAN2_annot05.deidentified.txt  \n",
            "   creating: train/meeting_en_test_013_1/\n",
            "  inflating: train/meeting_en_test_013_1/minutes_GENER_annot20.deidentified.txt  \n",
            "  inflating: train/meeting_en_test_013_1/transcript_MAN_annot20.deidentified.txt  \n",
            "   creating: train/meeting_en_train_072/\n",
            "  inflating: train/meeting_en_train_072/transcript_MAN2_annot11.deidentified.txt  \n",
            "  inflating: train/meeting_en_train_072/minutes_GENER_annot11.deidentified.txt  \n",
            "   creating: train/meeting_en_dev_006_1/\n",
            "  inflating: train/meeting_en_dev_006_1/transcript_MAN_annot07.deidentified.txt  \n",
            "  inflating: train/meeting_en_dev_006_1/minutes_ORIG.deidentified.txt  \n",
            "   creating: train/meeting_cs_train_022_2/\n",
            "  inflating: train/meeting_cs_train_022_2/minutes_ORIG.deidentified.txt  \n",
            "  inflating: train/meeting_cs_train_022_2/transcript_MAN2_annot19.deidentified.txt  \n",
            "   creating: train/meeting_cs_train_004_1/\n",
            "  inflating: train/meeting_cs_train_004_1/minutes_ORIG.deidentified.txt  \n",
            "  inflating: train/meeting_cs_train_004_1/transcript_MAN_annot19.deidentified.txt  \n",
            "   creating: train/meeting_en_train_011_1/\n",
            "  inflating: train/meeting_en_train_011_1/minutes_ORIG.deidentified.txt  \n",
            "  inflating: train/meeting_en_train_011_1/transcript_MAN_annot11.deidentified.txt  \n",
            "   creating: train/meeting_en_train_025/\n",
            "  inflating: train/meeting_en_train_025/minutes_ORIG.deidentified.txt  \n",
            "  inflating: train/meeting_en_train_025/transcript_MAN_annot24.deidentified.txt  \n",
            "   creating: train/meeting_en_train_078_1/\n",
            "  inflating: train/meeting_en_train_078_1/minutes_GENER_annot06.deidentified.txt  \n",
            "  inflating: train/meeting_en_train_078_1/transcript_MAN_annot06.deidentified.txt  \n",
            "   creating: train/meeting_en_train_014_1/\n",
            "  inflating: train/meeting_en_train_014_1/transcript_MAN2_annot07.deidentified.txt  \n",
            "  inflating: train/meeting_en_train_014_1/minutes_ORIG.deidentified.txt  \n",
            "   creating: train/meeting_en_test_010/\n",
            "  inflating: train/meeting_en_test_010/transcript_MAN_annot03.deidentified.txt  \n",
            "  inflating: train/meeting_en_test_010/minutes_GENER_annot03.deidentified.txt  \n",
            "   creating: train/meeting_en_dev_004_2/\n",
            "  inflating: train/meeting_en_dev_004_2/transcript_MAN_annot18.deidentified.txt  \n",
            "  inflating: train/meeting_en_dev_004_2/minutes_ORIG.deidentified.txt  \n",
            "   creating: train/meeting_en_dev_001/\n",
            "  inflating: train/meeting_en_dev_001/transcript_MAN_annot18.deidentified.txt  \n",
            "  inflating: train/meeting_en_dev_001/minutes_GENER_annot18.deidentified.txt  \n",
            "   creating: train/meeting_en_train_032/\n",
            "  inflating: train/meeting_en_train_032/transcript_MAN_annot13.deidentified.txt  \n",
            "  inflating: train/meeting_en_train_032/minutes_GENER_annot13.deidentified.txt  \n",
            "   creating: train/meeting_en_train_039_1/\n",
            "  inflating: train/meeting_en_train_039_1/transcript_MAN2_annot09.deidentified.txt  \n",
            "  inflating: train/meeting_en_train_039_1/minutes_GENER_annot09.deidentified.txt  \n",
            "   creating: train/meeting_cs_train_001/\n",
            "  inflating: train/meeting_cs_train_001/transcript_MAN_annot18.deidentified.txt  \n",
            "  inflating: train/meeting_cs_train_001/minutes_GENER_annot18.deidentified.txt  \n",
            "   creating: train/meeting_en_train_074/\n",
            "  inflating: train/meeting_en_train_074/transcript_MAN_annot07.deidentified.txt  \n",
            "  inflating: train/meeting_en_train_074/minutes_GENER_annot07.deidentified.txt  \n",
            "   creating: train/meeting_cs_train_023_1/\n",
            "  inflating: train/meeting_cs_train_023_1/minutes_ORIG.deidentified.txt  \n",
            "  inflating: train/meeting_cs_train_023_1/transcript_MAN_annot05.deidentified.txt  \n",
            "   creating: train/meeting_en_train_064_1/\n",
            "  inflating: train/meeting_en_train_064_1/transcript_MAN_annot09.deidentified.txt  \n",
            "  inflating: train/meeting_en_train_064_1/minutes_GENER_annot09.deidentified.txt  \n",
            "   creating: train/meeting_en_test_009_1/\n",
            "  inflating: train/meeting_en_test_009_1/minutes_GENER_annot02.deidentified.txt  \n",
            "  inflating: train/meeting_en_test_009_1/transcript_MAN_annot02.deidentified.txt  \n",
            "   creating: train/meeting_en_train_006/\n",
            "  inflating: train/meeting_en_train_006/minutes_GENER_annot05.deidentified.txt  \n",
            "  inflating: train/meeting_en_train_006/transcript_MAN_annot13.deidentified.txt  \n",
            "   creating: train/meeting_en_train_038/\n",
            "  inflating: train/meeting_en_train_038/transcript_MAN_annot09.deidentified.txt  \n",
            "  inflating: train/meeting_en_train_038/minutes_ORIG.deidentified.txt  \n",
            "   creating: train/meeting_en_test_002_4/\n",
            "  inflating: train/meeting_en_test_002_4/minutes_ORIG.deidentified.txt  \n",
            "  inflating: train/meeting_en_test_002_4/transcript_MAN2_annot20.deidentified.txt  \n",
            "   creating: train/meeting_en_dev_005_1/\n",
            "  inflating: train/meeting_en_dev_005_1/minutes_ORIG.deidentified.txt  \n",
            "  inflating: train/meeting_en_dev_005_1/transcript_MAN_annot16.deidentified.txt  \n",
            "   creating: train/meeting_cs_test_012_1/\n",
            "  inflating: train/meeting_cs_test_012_1/minutes_GENER_annot19.txt.txt  \n",
            "  inflating: train/meeting_cs_test_012_1/transcript_MAN_annot19.txt.txt  \n",
            "   creating: train/meeting_cs_test_004_1/\n",
            "  inflating: train/meeting_cs_test_004_1/transcript_MAN2_annot18.deidentified.txt  \n",
            "  inflating: train/meeting_cs_test_004_1/minutes_GENER_annot18.deidentified.txt  \n",
            "   creating: train/meeting_en_train_079/\n",
            "  inflating: train/meeting_en_train_079/transcript_MAN_annot07.deidentified.txt  \n",
            "  inflating: train/meeting_en_train_079/minutes_GENER_annot07.deidentified.txt  \n",
            "   creating: train/meeting_en_train_079_2/\n",
            "  inflating: train/meeting_en_train_079_2/transcript_MAN_annot07.deidentified.txt  \n",
            "  inflating: train/meeting_en_train_079_2/minutes_GENER_annot02.deidentified.txt  \n",
            "   creating: train/meeting_en_train_024_1/\n",
            "  inflating: train/meeting_en_train_024_1/transcript_MAN_annot18.deidentified.txt  \n",
            "  inflating: train/meeting_en_train_024_1/minutes_GENER_annot13.deidentified.txt  \n",
            "   creating: train/meeting_en_train_029_1/\n",
            "  inflating: train/meeting_en_train_029_1/minutes_ORIG.deidentified.txt  \n",
            "  inflating: train/meeting_en_train_029_1/transcript_MAN_annot20.deidentified.txt  \n",
            "   creating: train/meeting_cs_test_004_2/\n",
            "  inflating: train/meeting_cs_test_004_2/transcript_MAN2_annot18.deidentified.txt  \n",
            "  inflating: train/meeting_cs_test_004_2/minutes_ORIG.deidentified.txt  \n",
            "   creating: train/meeting_en_train_062_1/\n",
            "  inflating: train/meeting_en_train_062_1/minutes_GENER_annot24.deidentified.txt  \n",
            "  inflating: train/meeting_en_train_062_1/transcript_MAN_annot24.deidentified.txt  \n",
            "   creating: train/meeting_cs_train_031/\n",
            "  inflating: train/meeting_cs_train_031/minutes_GENER_annot19.deidentified.txt  \n",
            "  inflating: train/meeting_cs_train_031/transcript_MAN_annot19.deidentified.txt  \n",
            "   creating: train/meeting_cs_dev_003_1/\n",
            "  inflating: train/meeting_cs_dev_003_1/minutes_GENER_annot19.deidentified.txt  \n",
            "  inflating: train/meeting_cs_dev_003_1/transcript_MAN_annot18.deidentified.txt  \n",
            "   creating: train/meeting_cs_dev_001/\n",
            "  inflating: train/meeting_cs_dev_001/minutes_GENER_annot19.deidentified.txt  \n",
            "  inflating: train/meeting_cs_dev_001/transcript_MAN_annot18.deidentified.txt  \n",
            "   creating: train/meeting_en_train_015/\n",
            "  inflating: train/meeting_en_train_015/minutes_ORIG.deidentified.txt  \n",
            "  inflating: train/meeting_en_train_015/transcript_MAN_annot06.deidentified.txt  \n",
            "   creating: train/meeting_cs_train_033_1/\n",
            "  inflating: train/meeting_cs_train_033_1/transcript_MAN_annot05.deidentified.txt  \n",
            "  inflating: train/meeting_cs_train_033_1/minutes_GENER_annot02.deidentified.txt  \n",
            "  inflating: train/.DS_Store         \n",
            "   creating: train/meeting_cs_dev_003/\n",
            "  inflating: train/meeting_cs_dev_003/minutes_GENER_annot05.deidentified.txt  \n",
            "  inflating: train/meeting_cs_dev_003/transcript_MAN_annot18.deidentified.txt  \n",
            "   creating: train/meeting_en_test_017/\n",
            "  inflating: train/meeting_en_test_017/transcript_MAN2_annot07.deidentified.txt  \n",
            "  inflating: train/meeting_en_test_017/minutes_GENER_annot07.deidentified.txt  \n",
            "   creating: train/meeting_en_train_017/\n",
            "  inflating: train/meeting_en_train_017/transcript_MAN_annot03.deidentified.txt  \n",
            "  inflating: train/meeting_en_train_017/minutes_GENER_annot03.deidentified.txt  \n",
            "   creating: train/meeting_en_train_082/\n",
            "  inflating: train/meeting_en_train_082/minutes_ORIG.deidentified.txt  \n",
            "  inflating: train/meeting_en_train_082/transcript_MAN_annot02.deidentified.txt  \n",
            "   creating: train/meeting_cs_test_007/\n",
            "  inflating: train/meeting_cs_test_007/minutes_GENER_annot19.deidentified.txt  \n",
            "  inflating: train/meeting_cs_test_007/transcript_MAN_annot18.deidentified.txt  \n",
            "   creating: train/meeting_cs_test_015/\n",
            "  inflating: train/meeting_cs_test_015/minutes_GENER_annot19.txt  \n",
            "  inflating: train/meeting_cs_test_015/transcript_MAN_annot19_deidentified.txt  \n",
            "  inflating: train/meeting_cs_test_015/notations.txt.txt  \n",
            "  inflating: train/meeting_cs_test_015/transcript_MAN_annot19.txt  \n",
            "   creating: train/meeting_cs_train_017_1/\n",
            "  inflating: train/meeting_cs_train_017_1/minutes_GENER_annot19.deidentified.txt  \n",
            "  inflating: train/meeting_cs_train_017_1/transcript_MAN2_annot05.deidentified.txt  \n",
            "   creating: train/meeting_cs_train_005_1/\n",
            "  inflating: train/meeting_cs_train_005_1/transcript_MAN2_annot18.deidentified.txt  \n",
            "  inflating: train/meeting_cs_train_005_1/minutes_GENER_annot18.deidentified.txt  \n",
            "   creating: train/meeting_cs_train_020_1/\n",
            "  inflating: train/meeting_cs_train_020_1/transcript_MAN2_annot18.deidentified.txt  \n",
            "  inflating: train/meeting_cs_train_020_1/minutes_GENER_annot18.deidentified.txt  \n",
            "   creating: train/meeting_en_dev_002/\n",
            "  inflating: train/meeting_en_dev_002/minutes_GENER_annot02.deidentified.txt  \n",
            "  inflating: train/meeting_en_dev_002/transcript_MAN_annot02.deidentified.txt  \n",
            "   creating: train/meeting_cs_test_014_1/\n",
            "  inflating: train/meeting_cs_test_014_1/transcript_MAN_annot05.deidentified.txt  \n",
            "  inflating: train/meeting_cs_test_014_1/minutes_GENER_annot05.txt  \n",
            "   creating: train/meeting_en_dev_007_1/\n",
            "  inflating: train/meeting_en_dev_007_1/transcript_MAN2_annot07.deidentified.txt  \n",
            "  inflating: train/meeting_en_dev_007_1/minutes_GENER_annot06.deidentified.txt  \n",
            "   creating: train/meeting_cs_train_023/\n",
            "  inflating: train/meeting_cs_train_023/minutes_GENER_annot05.deidentified.txt  \n",
            "  inflating: train/meeting_cs_train_023/transcript_MAN_annot05.deidentified.txt  \n",
            "   creating: train/meeting_en_train_028/\n",
            "  inflating: train/meeting_en_train_028/minutes_GENER_annot02.deidentified.txt  \n",
            "  inflating: train/meeting_en_train_028/transcript_MAN_annot15.deidentified.txt  \n",
            "   creating: train/meeting_cs_test_015_1/\n",
            "  inflating: train/meeting_cs_test_015_1/minutes_GENER_annot19_deidentified.txt  \n",
            "  inflating: train/meeting_cs_test_015_1/transcript_MAN_annot19.txt  \n",
            "   creating: train/meeting_en_test_002_3/\n",
            "  inflating: train/meeting_en_test_002_3/minutes_GENER_annot20.deidentified.txt  \n",
            "  inflating: train/meeting_en_test_002_3/transcript_MAN2_annot20.deidentified.txt  \n",
            "   creating: train/meeting_en_test_007_2/\n",
            "  inflating: train/meeting_en_test_007_2/transcript_MAN_annot07.deidentified.txt  \n",
            "  inflating: train/meeting_en_test_007_2/minutes_GENER_annot02.deidentified.txt  \n",
            "   creating: train/meeting_en_train_001/\n",
            "  inflating: train/meeting_en_train_001/minutes_ORIG.deidentified.txt  \n",
            "  inflating: train/meeting_en_train_001/transcript_MAN2_annot02.deidentified.txt  \n",
            "   creating: train/meeting_en_train_022/\n",
            "  inflating: train/meeting_en_train_022/minutes_ORIG.deidentified.txt  \n",
            "  inflating: train/meeting_en_train_022/transcript_MAN_annot13.deidentified.txt  \n",
            "   creating: train/meeting_cs_train_022_1/\n",
            "  inflating: train/meeting_cs_train_022_1/minutes_GENER_annot19.deidentified.txt  \n",
            "  inflating: train/meeting_cs_train_022_1/transcript_MAN2_annot19.deidentified.txt  \n",
            "   creating: train/meeting_en_train_078/\n",
            "  inflating: train/meeting_en_train_078/minutes_ORIG.deidentified.txt  \n",
            "  inflating: train/meeting_en_train_078/transcript_MAN_annot06.deidentified.txt  \n",
            "   creating: train/meeting_cs_train_005/\n",
            "  inflating: train/meeting_cs_train_005/transcript_MAN2_annot18.deidentified.txt  \n",
            "  inflating: train/meeting_cs_train_005/minutes_GENER_annot19.deidentified.txt  \n",
            "   creating: train/meeting_en_train_080_2/\n",
            "  inflating: train/meeting_en_train_080_2/transcript_MAN2_annot12.deidentified.txt  \n",
            "  inflating: train/meeting_en_train_080_2/minutes_GENER_annot01.deidentified.txt  \n",
            "   creating: train/meeting_en_train_019/\n",
            "  inflating: train/meeting_en_train_019/minutes_GENER_annot14.deidentified.txt  \n",
            "  inflating: train/meeting_en_train_019/transcript_MAN_annot14.deidentified.txt  \n",
            "   creating: train/meeting_en_train_020_1/\n",
            "  inflating: train/meeting_en_train_020_1/minutes_GENER_annot06.deidentified.txt  \n",
            "  inflating: train/meeting_en_train_020_1/transcript_MAN_annot06.deidentified.txt  \n",
            "   creating: train/meeting_cs_train_029_1/\n",
            "  inflating: train/meeting_cs_train_029_1/transcript_MAN2_annot18.deidentified.txt  \n",
            "  inflating: train/meeting_cs_train_029_1/minutes_GENER_annot18.deidentified.txt  \n",
            "   creating: train/meeting_en_test_016_1/\n",
            "  inflating: train/meeting_en_test_016_1/transcript_MAN_annot07.deidentified.txt  \n",
            "  inflating: train/meeting_en_test_016_1/minutes_GENER_annot06.deidentified.txt  \n",
            "   creating: train/meeting_en_dev_001_1/\n",
            "  inflating: train/meeting_en_dev_001_1/transcript_MAN_annot18.deidentified.txt  \n",
            "  inflating: train/meeting_en_dev_001_1/minutes_GENER_annot02.deidentified.txt  \n",
            "   creating: train/meeting_cs_train_022/\n",
            "  inflating: train/meeting_cs_train_022/minutes_GENER_annot05.deidentified.txt  \n",
            "  inflating: train/meeting_cs_train_022/transcript_MAN2_annot19.deidentified.txt  \n",
            "   creating: train/meeting_en_train_069_2/\n",
            "  inflating: train/meeting_en_train_069_2/transcript_MAN2_annot13.deidentified.txt  \n",
            "  inflating: train/meeting_en_train_069_2/minutes_GENER_annot13.deidentified.txt  \n",
            "   creating: train/meeting_cs_test_006/\n",
            "  inflating: train/meeting_cs_test_006/minutes_GENER_annot05.deidentified.txt  \n",
            "  inflating: train/meeting_cs_test_006/transcript_MAN_annot18.deidentified.txt  \n",
            "   creating: train/meeting_cs_test_013/\n",
            "  inflating: train/meeting_cs_test_013/transcript_MAN_annot08.deidentified.txt  \n",
            " extracting: train/meeting_cs_test_013/readme.txt  \n",
            "  inflating: train/meeting_cs_test_013/minutes_GENER_annot08.deidentified.tx.txt  \n",
            "  inflating: train/meeting_cs_test_013/transcript_MAN_annot08.txt.txt  \n",
            "  inflating: train/meeting_cs_test_013/notations.txt  \n",
            "   creating: train/meeting_en_train_050/\n",
            "  inflating: train/meeting_en_train_050/transcript_MAN_annot07.deidentified.txt  \n",
            "  inflating: train/meeting_en_train_050/minutes_GENER_annot07.deidentified.txt  \n",
            "   creating: train/meeting_cs_train_013_2/\n",
            "  inflating: train/meeting_cs_train_013_2/minutes_ORIG.deidentified.txt  \n",
            "  inflating: train/meeting_cs_train_013_2/transcript_MAN2_annot05.deidentified.txt  \n",
            "   creating: train/meeting_en_train_047_1/\n",
            "  inflating: train/meeting_en_train_047_1/transcript_MAN_annot09.deidentified.txt  \n",
            "  inflating: train/meeting_en_train_047_1/minutes_GENER_annot09.deidentified.txt  \n",
            "   creating: train/meeting_cs_test_005_1/\n",
            "  inflating: train/meeting_cs_test_005_1/transcript_MAN_annot18.deidentified.txt  \n",
            "  inflating: train/meeting_cs_test_005_1/minutes_GENER_annot18.deidentified.txt  \n",
            "   creating: train/meeting_cs_test_009/\n",
            "  inflating: train/meeting_cs_test_009/minutes_GENER_annot05.deidentified.txt  \n",
            "  inflating: train/meeting_cs_test_009/transcript_MAN_annot05.deidentified.txt  \n",
            "   creating: train/meeting_cs_train_027/\n",
            "  inflating: train/meeting_cs_train_027/minutes_GENER_annot19.deidentified.txt  \n",
            "  inflating: train/meeting_cs_train_027/transcript_MAN_annot19.deidentified.txt  \n",
            "   creating: train/meeting_cs_test_016/\n",
            "  inflating: train/meeting_cs_test_016/minutes_GENER_annot05.deidentified.txt  \n",
            " extracting: train/meeting_cs_test_016/readme.txt  \n",
            "  inflating: train/meeting_cs_test_016/transcript_MAN_annot05.txt  \n",
            "  inflating: train/meeting_cs_test_016/transcript_MAN_annot05.deidentified.txt  \n",
            "  inflating: train/meeting_cs_test_016/notations.txt  \n",
            "   creating: train/meeting_en_test_013_2/\n",
            "  inflating: train/meeting_en_test_013_2/minutes_ORIG.deidentified.txt  \n",
            "  inflating: train/meeting_en_test_013_2/transcript_MAN_annot20.deidentified.txt  \n",
            "   creating: train/meeting_en_train_085_3/\n",
            "  inflating: train/meeting_en_train_085_3/transcript_MAN_annot07.deidentified.txt  \n",
            "  inflating: train/meeting_en_train_085_3/minutes_ORIG.deidentified.txt  \n",
            "   creating: train/meeting_en_test_004/\n",
            "  inflating: train/meeting_en_test_004/minutes_GENER_annot07.deidentified.txt  \n",
            "  inflating: train/meeting_en_test_004/transcript_MAN2_annot14.deidentified.txt  \n",
            "   creating: train/meeting_cs_dev_005/\n",
            "  inflating: train/meeting_cs_dev_005/minutes_GENER_annot05.deidentified.txt  \n",
            "  inflating: train/meeting_cs_dev_005/transcript_MAN2_annot05.deidentified.txt  \n",
            "   creating: train/meeting_en_train_068/\n",
            "  inflating: train/meeting_en_train_068/transcript_MAN_annot09.deidentified.txt  \n",
            "  inflating: train/meeting_en_train_068/minutes_GENER_annot09.deidentified.txt  \n",
            "   creating: train/meeting_en_test_018_1/\n",
            "  inflating: train/meeting_en_test_018_1/transcript_MAN_annot23.deidentified.txt  \n",
            "  inflating: train/meeting_en_test_018_1/minutes_GENER_annot23.deidentified.txt  \n",
            "   creating: train/meeting_en_train_085_2/\n",
            "  inflating: train/meeting_en_train_085_2/transcript_MAN_annot07.deidentified.txt  \n",
            "  inflating: train/meeting_en_train_085_2/minutes_GENER_annot98.deidentified.txt  \n",
            "   creating: train/meeting_en_train_083_1/\n",
            "  inflating: train/meeting_en_train_083_1/transcript_MAN_annot08.deidentified.txt  \n",
            "  inflating: train/meeting_en_train_083_1/minutes_GENER_annot08.deidentified.txt  \n",
            "   creating: train/meeting_en_train_069_1/\n",
            "  inflating: train/meeting_en_train_069_1/minutes_ORIG.deidentified.txt  \n",
            "  inflating: train/meeting_en_train_069_1/transcript_MAN2_annot13.deidentified.txt  \n",
            "   creating: train/meeting_en_dev_006/\n",
            "  inflating: train/meeting_en_dev_006/transcript_MAN_annot07.deidentified.txt  \n",
            "  inflating: train/meeting_en_dev_006/minutes_GENER_annot07.deidentified.txt  \n",
            "   creating: train/meeting_en_test_002_5/\n",
            "  inflating: train/meeting_en_test_002_5/transcript_MAN2_annot20.deidentified.txt  \n",
            "  inflating: train/meeting_en_test_002_5/minutes_GENER_annot16.deidentified.txt  \n",
            "   creating: train/meeting_en_test_001/\n",
            "  inflating: train/meeting_en_test_001/transcript_MAN2_annot24.deidentified.txt  \n",
            "  inflating: train/meeting_en_test_001/minutes_ORIG.deidentified.txt  \n",
            "   creating: train/meeting_cs_train_021/\n",
            "  inflating: train/meeting_cs_train_021/minutes_GENER_annot19.deidentified.txt  \n",
            "  inflating: train/meeting_cs_train_021/transcript_MAN_annot19.deidentified.txt  \n",
            "   creating: train/meeting_en_test_008_2/\n",
            "  inflating: train/meeting_en_test_008_2/transcript_MAN2_annot22.deidentified.txt  \n",
            "  inflating: train/meeting_en_test_008_2/minutes_GENER_annot02.deidentified.txt  \n",
            "   creating: train/meeting_en_train_038_2/\n",
            "  inflating: train/meeting_en_train_038_2/transcript_MAN_annot09.deidentified.txt  \n",
            "  inflating: train/meeting_en_train_038_2/minutes_GENER_annot08.deidentified.txt  \n",
            "   creating: train/meeting_en_train_013_1/\n",
            "  inflating: train/meeting_en_train_013_1/transcript_MAN2_annot06.deidentified.txt  \n",
            "  inflating: train/meeting_en_train_013_1/minutes_GENER_annot06.deidentified.txt  \n",
            "   creating: train/meeting_en_train_044/\n",
            "  inflating: train/meeting_en_train_044/minutes_GENER_annot20.deidentified.txt  \n",
            "  inflating: train/meeting_en_train_044/transcript_MAN_annot20.deidentified.txt  \n",
            "   creating: train/meeting_en_train_008_1/\n",
            "  inflating: train/meeting_en_train_008_1/minutes_GENER_annot06.deidentified.txt  \n",
            "  inflating: train/meeting_en_train_008_1/transcript_MAN_annot06.deidentified.txt  \n",
            "   creating: train/meeting_cs_test_002_1/\n",
            "  inflating: train/meeting_cs_test_002_1/transcript_MAN_annot18.deidentified.txt  \n",
            "  inflating: train/meeting_cs_test_002_1/minutes_GENER_annot18.deidentified.txt  \n",
            "   creating: train/meeting_en_train_072_1/\n",
            "  inflating: train/meeting_en_train_072_1/transcript_MAN2_annot11.deidentified.txt  \n",
            "  inflating: train/meeting_en_train_072_1/minutes_ORIG.deidentified.txt  \n",
            "   creating: train/meeting_en_train_009/\n",
            "  inflating: train/meeting_en_train_009/minutes_ORIG.deidentified.txt  \n",
            "  inflating: train/meeting_en_train_009/transcript_MAN_annot13.deidentified.txt  \n",
            "   creating: train/meeting_en_dev_005_2/\n",
            "  inflating: train/meeting_en_dev_005_2/minutes_GENER_annot16.deidentified.txt  \n",
            "  inflating: train/meeting_en_dev_005_2/transcript_MAN_annot16.deidentified.txt  \n",
            "   creating: train/meeting_en_dev_010_4/\n",
            "  inflating: train/meeting_en_dev_010_4/minutes_GENER_annot99.deidentified.txt  \n",
            "  inflating: train/meeting_en_dev_010_4/transcript_MAN2_annot21.deidentified.txt  \n",
            "   creating: train/meeting_en_train_030/\n",
            "  inflating: train/meeting_en_train_030/transcript_MAN_annot01.deidentified.txt  \n",
            "  inflating: train/meeting_en_train_030/minutes_ORIG.deidentified.txt  \n",
            "   creating: train/meeting_cs_dev_007/\n",
            "  inflating: train/meeting_cs_dev_007/minutes_GENER_annot05.deidentified.txt  \n",
            "  inflating: train/meeting_cs_dev_007/transcript_MAN2_annot05.deidentified.txt  \n",
            "   creating: train/meeting_en_train_054/\n",
            "  inflating: train/meeting_en_train_054/transcript_MAN_annot08.deidentified.txt  \n",
            "  inflating: train/meeting_en_train_054/minutes_GENER_annot08.deidentified.txt  \n",
            "   creating: train/meeting_cs_train_015_1/\n",
            "  inflating: train/meeting_cs_train_015_1/minutes_GENER_annot18.deidentified.txt  \n",
            "  inflating: train/meeting_cs_train_015_1/transcript_MAN2_annot05.deidentified.txt  \n",
            "   creating: train/meeting_cs_train_011_2/\n",
            "  inflating: train/meeting_cs_train_011_2/minutes_ORIG.deidentified.txt  \n",
            "  inflating: train/meeting_cs_train_011_2/transcript_MAN2_annot05.deidentified.txt  \n",
            "   creating: train/meeting_en_train_020/\n",
            "  inflating: train/meeting_en_train_020/minutes_ORIG.deidentified.txt  \n",
            "  inflating: train/meeting_en_train_020/transcript_MAN_annot06.deidentified.txt  \n",
            "   creating: train/meeting_cs_train_025/\n",
            "  inflating: train/meeting_cs_train_025/minutes_GENER_annot05.deidentified.txt  \n",
            "  inflating: train/meeting_cs_train_025/transcript_MAN_annot05.deidentified.txt  \n",
            "   creating: train/meeting_en_train_029/\n",
            "  inflating: train/meeting_en_train_029/minutes_GENER_annot20.deidentified.txt  \n",
            "  inflating: train/meeting_en_train_029/transcript_MAN_annot20.deidentified.txt  \n",
            "   creating: train/meeting_en_train_003/\n",
            "  inflating: train/meeting_en_train_003/minutes_GENER_annot11.deidentified.txt  \n",
            "  inflating: train/meeting_en_train_003/transcript_MAN2_annot13.deidentified.txt  \n",
            "   creating: train/meeting_en_dev_003/\n",
            "  inflating: train/meeting_en_dev_003/transcript_MAN_annot08.deidentified.txt  \n",
            "  inflating: train/meeting_en_dev_003/minutes_GENER_annot08.deidentified.txt  \n",
            "   creating: train/meeting_en_train_040_1/\n",
            "  inflating: train/meeting_en_train_040_1/minutes_ORIG.deidentified.txt  \n",
            "  inflating: train/meeting_en_train_040_1/transcript_MAN_annot10.deidentified.txt  \n",
            "   creating: train/meeting_cs_train_013_1/\n",
            "  inflating: train/meeting_cs_train_013_1/minutes_GENER_annot18.deidentified.txt  \n",
            "  inflating: train/meeting_cs_train_013_1/transcript_MAN2_annot05.deidentified.txt  \n",
            "   creating: train/meeting_cs_test_012/\n",
            " extracting: train/meeting_cs_test_012/readme.txt  \n",
            "  inflating: train/meeting_cs_test_012/minutes_GENER_annot19.deidentified.txt.txt  \n",
            "  inflating: train/meeting_cs_test_012/notations.txt.txt  \n",
            "  inflating: train/meeting_cs_test_012/transcript_MAN_annot19.deidentified.txt  \n",
            "  inflating: train/meeting_cs_test_012/transcript_MAN_annot19.txt.txt  \n",
            "   creating: train/meeting_en_train_018_1/\n",
            "  inflating: train/meeting_en_train_018_1/transcript_MAN2_annot23.deidentified.txt  \n",
            "  inflating: train/meeting_en_train_018_1/minutes_GENER_annot23.deidentified.txt  \n",
            "   creating: train/meeting_en_test_011/\n",
            "  inflating: train/meeting_en_test_011/minutes_ORIG.deidentified.txt  \n",
            "  inflating: train/meeting_en_test_011/transcript_MAN_annot24.deidentified.txt  \n",
            "   creating: train/meeting_cs_dev_009/\n",
            "  inflating: train/meeting_cs_dev_009/minutes_GENER_annot05.deidentified.txt  \n",
            "  inflating: train/meeting_cs_dev_009/transcript_MAN_annot05.deidentified.txt  \n",
            "   creating: train/meeting_en_test_008_1/\n",
            "  inflating: train/meeting_en_test_008_1/transcript_MAN2_annot22.deidentified.txt  \n",
            "  inflating: train/meeting_en_test_008_1/minutes_GENER_annot22.deidentified.txt  \n",
            "   creating: train/meeting_en_train_046_1/\n",
            "  inflating: train/meeting_en_train_046_1/minutes_GENER_annot07.deidentified.txt  \n",
            "  inflating: train/meeting_en_train_046_1/transcript_MAN_annot11.deidentified.txt  \n",
            "   creating: train/meeting_en_test_004_1/\n",
            "  inflating: train/meeting_en_test_004_1/transcript_MAN2_annot14.deidentified.txt  \n",
            "  inflating: train/meeting_en_test_004_1/minutes_GENER_annot14.deidentified.txt  \n",
            "   creating: train/meeting_en_dev_009_2/\n",
            "  inflating: train/meeting_en_dev_009_2/transcript_MAN2_annot06.deidentified.txt  \n",
            "  inflating: train/meeting_en_dev_009_2/minutes_GENER_annot02.deidentified.txt  \n",
            "   creating: train/meeting_en_train_010/\n",
            "  inflating: train/meeting_en_train_010/minutes_ORIG.deidentified.txt  \n",
            "  inflating: train/meeting_en_train_010/transcript_MAN_annot12.deidentified.txt  \n",
            "   creating: train/meeting_en_train_079_1/\n",
            "  inflating: train/meeting_en_train_079_1/transcript_MAN_annot07.deidentified.txt  \n",
            "  inflating: train/meeting_en_train_079_1/minutes_ORIG.deidentified.txt  \n",
            "   creating: train/meeting_en_train_085_6/\n",
            "  inflating: train/meeting_en_train_085_6/transcript_MAN_annot07.deidentified.txt  \n",
            "  inflating: train/meeting_en_train_085_6/minutes_GENER_annot02.deidentified.txt  \n",
            "   creating: train/meeting_en_test_002_1/\n",
            "  inflating: train/meeting_en_test_002_1/minutes_GENER_annot00.deidentified.txt  \n",
            "  inflating: train/meeting_en_test_002_1/transcript_MAN2_annot20.deidentified.txt  \n",
            "   creating: train/meeting_cs_test_014/\n",
            "  inflating: train/meeting_cs_test_014/minutes_GENER_annot05.deidentified.txt  \n",
            " extracting: train/meeting_cs_test_014/readme.txt  \n",
            "  inflating: train/meeting_cs_test_014/transcript_MAN_annot05.txt  \n",
            "  inflating: train/meeting_cs_test_014/transcript_MAN_annot05.deidentified.txt  \n",
            "  inflating: train/meeting_cs_test_014/notations.txt  \n",
            "   creating: train/meeting_cs_train_010_2/\n",
            "  inflating: train/meeting_cs_train_010_2/minutes_ORIG.deidentified.txt  \n",
            "  inflating: train/meeting_cs_train_010_2/transcript_MAN2_annot05.deidentified.txt  \n",
            "   creating: train/meeting_en_train_066/\n",
            "  inflating: train/meeting_en_train_066/transcript_MAN_annot08.deidentified.txt  \n",
            "  inflating: train/meeting_en_train_066/minutes_GENER_annot08.deidentified.txt  \n",
            "   creating: train/meeting_cs_train_003/\n",
            "  inflating: train/meeting_cs_train_003/minutes_GENER_annot05.deidentified.txt  \n",
            "  inflating: train/meeting_cs_train_003/transcript_MAN2_annot18.deidentified.txt  \n",
            "   creating: train/meeting_en_train_077_2/\n",
            "  inflating: train/meeting_en_train_077_2/transcript_MAN_annot13.deidentified.txt  \n",
            "  inflating: train/meeting_en_train_077_2/minutes_GENER_annot13.deidentified.txt  \n",
            "   creating: train/meeting_cs_test_011/\n",
            "  inflating: train/meeting_cs_test_011/minutes_GENER_annot05.deidentified.txt  \n",
            " extracting: train/meeting_cs_test_011/readme.txt  \n",
            "  inflating: train/meeting_cs_test_011/transcript_MAN_annot05.txt  \n",
            "  inflating: train/meeting_cs_test_011/transcript_MAN_annot05.deidentified.txt  \n",
            "  inflating: train/meeting_cs_test_011/notations.txt  \n",
            "   creating: train/meeting_cs_test_002/\n",
            "  inflating: train/meeting_cs_test_002/minutes_GENER_annot19.deidentified.txt  \n",
            "  inflating: train/meeting_cs_test_002/transcript_MAN_annot18.deidentified.txt  \n",
            "   creating: train/meeting_en_train_039_2/\n",
            "  inflating: train/meeting_en_train_039_2/transcript_MAN2_annot09.deidentified.txt  \n",
            "  inflating: train/meeting_en_train_039_2/minutes_GENER_annot08.deidentified.txt  \n",
            "   creating: train/meeting_en_train_033/\n",
            "  inflating: train/meeting_en_train_033/minutes_ORIG.deidentified.txt  \n",
            "  inflating: train/meeting_en_train_033/transcript_MAN_annot13.deidentified.txt  \n",
            "   creating: train/meeting_cs_dev_002_2/\n",
            "  inflating: train/meeting_cs_dev_002_2/minutes_ORIG.deidentified.txt  \n",
            "  inflating: train/meeting_cs_dev_002_2/transcript_MAN2_annot05.deidentified.txt  \n",
            "   creating: train/meeting_cs_train_003_1/\n",
            "  inflating: train/meeting_cs_train_003_1/transcript_MAN2_annot18.deidentified.txt  \n",
            "  inflating: train/meeting_cs_train_003_1/minutes_GENER_annot18.deidentified.txt  \n",
            "   creating: train/meeting_cs_train_002_1/\n",
            "  inflating: train/meeting_cs_train_002_1/minutes_ORIG.deidentified.txt  \n",
            "  inflating: train/meeting_cs_train_002_1/transcript_MAN_annot19.deidentified.txt  \n",
            "   creating: train/meeting_cs_train_020_2/\n",
            "  inflating: train/meeting_cs_train_020_2/transcript_MAN2_annot18.deidentified.txt  \n",
            "  inflating: train/meeting_cs_train_020_2/minutes_ORIG.deidentified.txt  \n",
            "   creating: train/meeting_cs_test_008_2/\n",
            "  inflating: train/meeting_cs_test_008_2/transcript_MAN_annot18.deidentified.txt  \n",
            "  inflating: train/meeting_cs_test_008_2/minutes_ORIG.deidentified.txt  \n",
            "   creating: train/meeting_en_train_012/\n",
            "  inflating: train/meeting_en_train_012/minutes_GENER_annot21.deidentified.txt  \n",
            "  inflating: train/meeting_en_train_012/transcript_MAN_annot21.deidentified.txt  \n",
            "   creating: train/meeting_cs_test_006_1/\n",
            "  inflating: train/meeting_cs_test_006_1/minutes_GENER_annot19.deidentified.txt  \n",
            "  inflating: train/meeting_cs_test_006_1/transcript_MAN_annot18.deidentified.txt  \n",
            "   creating: train/meeting_en_train_038_1/\n",
            "  inflating: train/meeting_en_train_038_1/transcript_MAN_annot09.deidentified.txt  \n",
            "  inflating: train/meeting_en_train_038_1/minutes_GENER_annot09.deidentified.txt  \n",
            "   creating: train/meeting_en_test_014/\n",
            "  inflating: train/meeting_en_test_014/minutes_ORIG.deidentified.txt  \n",
            "  inflating: train/meeting_en_test_014/transcript_MAN_annot06.deidentified.txt  \n",
            "   creating: train/meeting_cs_dev_002_1/\n",
            "  inflating: train/meeting_cs_dev_002_1/minutes_GENER_annot18.deidentified.txt  \n",
            "  inflating: train/meeting_cs_dev_002_1/transcript_MAN2_annot05.deidentified.txt  \n",
            "   creating: train/meeting_cs_test_013_1/\n",
            "  inflating: train/meeting_cs_test_013_1/minutes_GENER_annot08.txt  \n",
            "  inflating: train/meeting_cs_test_013_1/transcript_MAN_annot08.txt.txt  \n",
            "   creating: train/meeting_cs_train_020/\n",
            "  inflating: train/meeting_cs_train_020/minutes_GENER_annot05.deidentified.txt  \n",
            "  inflating: train/meeting_cs_train_020/transcript_MAN2_annot18.deidentified.txt  \n",
            "   creating: train/meeting_en_train_075/\n",
            "  inflating: train/meeting_en_train_075/transcript_MAN3_annot06.deidentified.txt  \n",
            "  inflating: train/meeting_en_train_075/minutes_ORIG.deidentified.txt  \n",
            "   creating: train/meeting_en_train_059/\n",
            "  inflating: train/meeting_en_train_059/transcript_MAN_annot17.deidentified.txt  \n",
            "  inflating: train/meeting_en_train_059/minutes_GENER_annot17.deidentified.txt  \n",
            "   creating: train/meeting_cs_train_019/\n",
            "  inflating: train/meeting_cs_train_019/minutes_GENER_annot05.deidentified.txt  \n",
            "  inflating: train/meeting_cs_train_019/transcript_MAN2_annot18.deidentified.txt  \n",
            "   creating: train/meeting_en_test_017_2/\n",
            "  inflating: train/meeting_en_test_017_2/transcript_MAN2_annot07.deidentified.txt  \n",
            "  inflating: train/meeting_en_test_017_2/minutes_GENER_annot06.deidentified.txt  \n",
            "   creating: train/meeting_en_dev_010_1/\n",
            "  inflating: train/meeting_en_dev_010_1/minutes_GENER_annot11.deidentified.txt  \n",
            "  inflating: train/meeting_en_dev_010_1/transcript_MAN2_annot21.deidentified.txt  \n",
            "   creating: train/meeting_en_train_055/\n",
            "  inflating: train/meeting_en_train_055/minutes_GENER_annot11.deidentified.txt  \n",
            "  inflating: train/meeting_en_train_055/transcript_MAN2_annot06.deidentified.txt  \n",
            "   creating: train/meeting_cs_test_009_1/\n",
            "  inflating: train/meeting_cs_test_009_1/minutes_GENER_annot19.deidentified.txt  \n",
            "  inflating: train/meeting_cs_test_009_1/transcript_MAN_annot05.deidentified.txt  \n",
            "   creating: train/meeting_cs_dev_009_1/\n",
            "  inflating: train/meeting_cs_dev_009_1/minutes_GENER_annot19.deidentified.txt  \n",
            "  inflating: train/meeting_cs_dev_009_1/transcript_MAN_annot05.deidentified.txt  \n"
          ]
        }
      ]
    },
    {
      "cell_type": "code",
      "source": [
        "path='/content/train'\n",
        "filelist=os.listdir(path)\n",
        "\n",
        "automin_transcripts={}\n",
        "automin_summary={}\n",
        "participants={}\n",
        "for file in filelist:\n",
        "    summs={}\n",
        "    if file[8:10]=='en' or file[8:10]=='cs':\n",
        "        f=os.listdir(f'{path}/{file}')\n",
        "        for ts in f:\n",
        "            if ts[-4:]!='.txt':\n",
        "                continue\n",
        "            #print(ts[:7])\n",
        "            \n",
        "            if ts[:10]=='transcript':\n",
        "                name=list(ts.split('_'))[2][:8]\n",
        "                with open(f'{path}/{file}/{ts}', 'r', encoding='utf8') as f1:\n",
        "                    txt=f1.read()\n",
        "                    automin_transcripts[file[:-3]]=txt\n",
        "                    \n",
        "            if ts[:7]=='minutes':\n",
        "                # print(ts)\n",
        "                try:\n",
        "                    name=''.join(list(ts.split('.'))[-3])\n",
        "                except:\n",
        "                    name=''.join(list(ts.split('.'))[0])\n",
        "                with open(f'{path}/{file}/{ts}', 'r', encoding='utf8') as f2:\n",
        "                    txt=f2.read()\n",
        "                    summs[name]=txt\n",
        "        automin_summary[file[:-3]]=summs"
      ],
      "metadata": {
        "id": "mc75az1v8r9I"
      },
      "execution_count": null,
      "outputs": []
    },
    {
      "cell_type": "code",
      "source": [
        "(count_small_transcripts_automin, count_big_transcripts_automin, sum_small_transcripts_automin, \n",
        "sum_big_transcripts_automin, position_small_transcripts_automin, position_big_transcripts_automin, \n",
        "total_sent_transcripts_automin, total_words_transcripts_automin, total_refined_words_transcripts_automin,\n",
        "total_refined_unique_words_transcripts_automin, unique_dict_transcripts_automin, number_transcripts_automin,\n",
        "max_len_transcripts_automin, position_max_len_transcripts_automin, small_cont_transcripts_automin,\n",
        " total_words_list_transcripts_automin) = ami_mean(automin_transcripts, 5 , 10)\n",
        "\n",
        "count_small_asum_automin=[]\n",
        "count_big_asum_automin=[]\n",
        "sum_small_asum_automin=[]\n",
        "sum_big_asum_automin=[]\n",
        "position_small_asum_automin=[]\n",
        "position_big_asum_automin=[]\n",
        "total_sent_asum_automin=[]\n",
        "total_words_asum_automin=[]\n",
        "total_refined_words_asum_automin=[]\n",
        "total_refined_unique_words_asum_automin=[]\n",
        "unique_dict_asum_automin=[]\n",
        "number_asum_automin=[]\n",
        "max_len_asum_automin=[]\n",
        "position_max_len_asum_automin=[]\n",
        "small_cont_asum_automin=[]\n",
        "total_words_list_asum_automin=[]\n",
        "\n",
        "ll=[count_small_asum_automin, count_big_asum_automin, sum_small_asum_automin, \n",
        "sum_big_asum_automin, position_small_asum_automin, position_big_asum_automin, \n",
        "total_sent_asum_automin, total_words_asum_automin, total_refined_words_asum_automin,\n",
        "total_refined_unique_words_asum_automin, unique_dict_asum_automin, number_asum_automin,\n",
        "max_len_asum_automin, position_max_len_asum_automin, small_cont_asum_automin,total_words_list_asum_automin]\n",
        "\n",
        "for key in automin_summary.keys():\n",
        "    temp=ami_mean(automin_summary[key], 5,10)\n",
        "    for index in range(len(temp)):\n",
        "        ll[index].append(temp[index])\n",
        "    \n",
        "count_small_asum_automin=sum(count_small_asum_automin)\n",
        "count_big_asum_automin=sum(count_big_asum_automin)\n",
        "sum_small_asum_automin=sum(sum_small_asum_automin)\n",
        "sum_big_asum_automin=sum(sum_big_asum_automin)\n",
        "position_small_asum_automin=sum(position_small_asum_automin,[])\n",
        "position_big_asum_automin=sum(position_big_asum_automin,[])\n",
        "total_sent_asum_automin=sum(total_sent_asum_automin)\n",
        "total_words_asum_automin=sum(total_words_asum_automin)\n",
        "total_refined_words_asum_automin=sum(total_refined_words_asum_automin)\n",
        "total_refined_unique_words_asum_automin=sum(total_refined_unique_words_asum_automin)\n",
        "number_asum_automin=sum(number_asum_automin)\n",
        "max_len_asum_automin=sum(max_len_asum_automin,[])\n",
        "position_max_len_asum_automin=sum(position_max_len_asum_automin,[])\n",
        "small_cont_asum_automin=sum(small_cont_asum_automin)\n",
        "total_words_list_asum_automin=sum(total_words_list_asum_automin,[])\n",
        "\n",
        "\"\"\"## AutoMin Turns and number of speakers (using change in speaker) \"\"\"\n",
        "\n",
        "turns_list=[]\n",
        "speaker_list=[]\n",
        "\n",
        "for key in automin_transcripts.keys():\n",
        "    s=[]\n",
        "    check=False\n",
        "    turns=0\n",
        "    speaker=[]\n",
        "    for index,i in enumerate(automin_transcripts[key]):\n",
        "        if check == True:\n",
        "            s.append(i)\n",
        "        if i=='(' and automin_transcripts[key][index+1:index+7]=='PERSON':\n",
        "            turns+=1\n",
        "            check=True\n",
        "        if i==')' and check == True:\n",
        "            check=False\n",
        "            speaker.append(''.join(s[:-1]))\n",
        "            s=[]\n",
        "    turns_list.append(turns)\n",
        "    speaker_list.append(list(set(speaker)))\n",
        "# number of speakers\n",
        "\n",
        "print(len(sum(speaker_list, []))/ len(speaker_list))\n",
        "\n",
        "\n",
        "# turns\n",
        "\n",
        "print(sum(turns_list)/len(turns_list))"
      ],
      "metadata": {
        "colab": {
          "base_uri": "https://localhost:8080/"
        },
        "id": "UQt5Gx0M_sZo",
        "outputId": "e994a4a4-75f4-41f9-f9ff-e642ec408a93"
      },
      "execution_count": null,
      "outputs": [
        {
          "output_type": "stream",
          "name": "stdout",
          "text": [
            "6.535714285714286\n",
            "356.67857142857144\n"
          ]
        }
      ]
    },
    {
      "cell_type": "code",
      "source": [
        "\"\"\"# DataFrame\"\"\"\n",
        "\n",
        "df=pd.DataFrame(columns=['count_small', 'count_big','sum_small','sum_big','position_small','position_big',\n",
        "    'total_sent','total_words','total_refined_words','total_unique_refined_words','number','unique','max_len',\n",
        "                         'position_max_len','small_cont_percentage','dataset', 'label'],\n",
        "                index=['ami_transcripts', 'ami_esum', 'ami_asum','icsi_transcripts', 'icsi_asum','automin_transcripts', 'automin_asum'])\n",
        "df.count_small=[count_small_transcripts_ami, count_small_esum_ami, count_small_asum_ami,count_small_transcripts_icsi,count_small_asum_icsi, count_small_transcripts_automin, count_small_asum_automin]\n",
        "df.count_big=[count_big_transcripts_ami, count_big_esum_ami, count_big_asum_ami,count_big_transcripts_icsi, count_big_asum_icsi, count_big_transcripts_automin, count_big_asum_automin]\n",
        "df.sum_small=[sum_small_transcripts_ami, sum_small_esum_ami, sum_small_asum_ami, sum_small_transcripts_icsi,sum_small_asum_icsi, sum_small_transcripts_automin, sum_small_asum_automin]\n",
        "df.sum_big=[sum_big_transcripts_ami,sum_big_esum_ami, sum_big_asum_ami, sum_big_transcripts_icsi, sum_big_asum_icsi, sum_big_transcripts_automin, sum_big_asum_automin]\n",
        "df.position_small=[position_small_transcripts_ami,position_small_esum_ami, position_small_asum_ami, position_small_transcripts_icsi, position_small_asum_icsi, position_small_transcripts_automin, position_small_asum_automin]\n",
        "df.position_big=[position_big_transcripts_ami,position_big_esum_ami, position_big_asum_ami, position_big_transcripts_icsi, position_big_asum_icsi, position_big_transcripts_automin, position_big_asum_automin]\n",
        "df.total_sent=[total_sent_transcripts_ami, total_sent_esum_ami, total_sent_asum_ami, total_sent_transcripts_icsi, total_sent_asum_icsi, total_sent_transcripts_automin, total_sent_asum_automin]\n",
        "df.total_words=[total_words_transcripts_ami,total_words_esum_ami,total_words_asum_ami, total_words_transcripts_icsi, total_words_asum_icsi, total_words_transcripts_automin, total_words_asum_automin]\n",
        "df.total_refined_words=[total_refined_words_transcripts_ami, total_refined_words_esum_ami, total_refined_words_asum_ami, total_refined_words_transcripts_icsi, total_refined_words_asum_icsi, total_refined_words_transcripts_automin, total_refined_words_asum_automin]\n",
        "df.total_unique_refined_words=[total_refined_unique_words_transcripts_ami, total_refined_unique_words_esum_ami, total_refined_unique_words_asum_ami, total_refined_unique_words_transcripts_icsi, total_refined_unique_words_asum_icsi, total_refined_unique_words_transcripts_ami, total_refined_unique_words_asum_automin]\n",
        "df.number=[number_transcripts_ami,number_esum_ami, number_asum_ami, number_transcripts_icsi, number_asum_icsi, number_transcripts_automin, number_asum_automin]\n",
        "df.unique=[unique_dict_transcripts_ami, unique_dict_esum_ami, unique_dict_asum_ami, unique_dict_transcripts_icsi, unique_dict_asum_icsi, unique_dict_transcripts_automin, unique_dict_asum_automin]\n",
        "df.max_len=[max_len_transcripts_ami, max_len_esum_ami, max_len_asum_ami,max_len_transcripts_icsi,max_len_asum_icsi, max_len_transcripts_automin, max_len_asum_automin]\n",
        "df.position_max_len=[position_max_len_transcripts_ami, position_max_len_esum_ami, position_max_len_asum_ami,position_max_len_transcripts_icsi,position_max_len_asum_icsi, position_max_len_transcripts_automin, position_max_len_asum_automin]\n",
        "df.small_cont_percentage=[small_cont_transcripts_ami/total_sent_transcripts_ami, small_cont_esum_ami/total_sent_esum_ami, small_cont_asum_ami/total_sent_asum_ami,small_cont_transcripts_icsi/total_sent_transcripts_icsi, small_count_asum_icsi/total_sent_asum_icsi, small_cont_transcripts_automin/total_sent_transcripts_automin, small_cont_asum_automin/total_sent_asum_automin]\n",
        "\n",
        "df.dataset=['ami', 'ami','ami', 'icsi', 'icsi','our_minuting_corpora', 'our_minuting_corpora']\n",
        "df.label=['transcript', 'extractive_summary', 'abstractive_summary','transcript', 'abstractive_summary','transcript', 'abstractive_summary']"
      ],
      "metadata": {
        "id": "2cEIZgPv_7k-"
      },
      "execution_count": null,
      "outputs": []
    },
    {
      "cell_type": "code",
      "source": [
        "# convert list of automin unique words to dict\n",
        "\n",
        "t={}\n",
        "for dic in df['unique']['automin_asum']:\n",
        "    for key in dic:\n",
        "        if key in t:\n",
        "            t[key]+=dic[key]\n",
        "        else:\n",
        "            t[key]=dic[key]\n",
        "df['unique']['automin_asum']=t\n",
        "\n",
        "\"\"\"### Novel Summary Words\"\"\"\n",
        "\n",
        "def novel_summ_word(df, dataset):\n",
        "    t=0\n",
        "    for i in df['unique'][f'{dataset}_asum'].keys():\n",
        "        if i not in df['unique'][f'{dataset}_transcripts'].keys():\n",
        "            t+=1\n",
        "            \n",
        "    return t, t/len(df.unique.ami_asum)\n",
        "\n",
        "print('Novel summary words in AMI: ', novel_summ_word(df, 'ami'))\n",
        "print('Novel summary words in ICSI: ',novel_summ_word(df, 'icsi'))\n",
        "print('Novel summary words in AutoMin: ',novel_summ_word(df,'automin'))"
      ],
      "metadata": {
        "colab": {
          "base_uri": "https://localhost:8080/"
        },
        "id": "Fu9LpaAJACn1",
        "outputId": "cea52cc7-17c9-4dbc-e7c6-5e7929e5386b"
      },
      "execution_count": null,
      "outputs": [
        {
          "output_type": "stream",
          "name": "stdout",
          "text": [
            "Novel summary words in AMI:  (304, 0.16712479384277076)\n",
            "Novel summary words in ICSI:  (33, 0.018141836173721827)\n",
            "Novel summary words in AutoMin:  (646, 0.35514018691588783)\n"
          ]
        },
        {
          "output_type": "stream",
          "name": "stderr",
          "text": [
            "/usr/local/lib/python3.7/dist-packages/ipykernel_launcher.py:10: SettingWithCopyWarning: \n",
            "A value is trying to be set on a copy of a slice from a DataFrame\n",
            "\n",
            "See the caveats in the documentation: https://pandas.pydata.org/pandas-docs/stable/user_guide/indexing.html#returning-a-view-versus-a-copy\n",
            "  # Remove the CWD from sys.path while we load stuff.\n"
          ]
        }
      ]
    },
    {
      "cell_type": "code",
      "source": [
        "# In terms of sentences\n",
        "print('In terms of sentences')\n",
        "print(df.total_sent/df.number)\n",
        "# In terms of words\n",
        "print('In terms of words')\n",
        "print(df.total_words/df.number)\n"
      ],
      "metadata": {
        "colab": {
          "base_uri": "https://localhost:8080/"
        },
        "id": "qL6atqYWAFfy",
        "outputId": "a87ea79a-5359-48cc-8fa6-0d9f3c36d5db"
      },
      "execution_count": null,
      "outputs": [
        {
          "output_type": "stream",
          "name": "stdout",
          "text": [
            "In terms of sentences\n",
            "ami_transcripts         553.080292\n",
            "ami_esum                 94.175182\n",
            "ami_asum                  8.503650\n",
            "icsi_transcripts       1667.967213\n",
            "icsi_asum                34.000000\n",
            "automin_transcripts     630.607143\n",
            "automin_asum             20.142857\n",
            "dtype: float64\n",
            "In terms of words\n",
            "ami_transcripts         5934.401460\n",
            "ami_esum                1981.598540\n",
            "ami_asum                 179.423358\n",
            "icsi_transcripts        9795.131148\n",
            "icsi_asum                658.000000\n",
            "automin_transcripts    10547.928571\n",
            "automin_asum             405.821429\n",
            "dtype: float64\n"
          ]
        }
      ]
    },
    {
      "cell_type": "code",
      "source": [
        "\"\"\"### Max sentence length\"\"\"\n",
        "\n",
        "print('Maximum length of sentences')\n",
        "print(df.max_len.apply(sum)/df.max_len.apply(len))"
      ],
      "metadata": {
        "colab": {
          "base_uri": "https://localhost:8080/"
        },
        "id": "Cn3_zkagAJTL",
        "outputId": "e8c49092-24fd-44cc-d9a8-370209a926b7"
      },
      "execution_count": null,
      "outputs": [
        {
          "output_type": "stream",
          "name": "stdout",
          "text": [
            "Maximum length of sentences\n",
            "ami_transcripts         89.569343\n",
            "ami_esum                92.890511\n",
            "ami_asum                36.963504\n",
            "icsi_transcripts        44.724864\n",
            "icsi_asum               30.294118\n",
            "automin_transcripts     96.857143\n",
            "automin_asum           117.500000\n",
            "Name: max_len, dtype: float64\n"
          ]
        }
      ]
    },
    {
      "cell_type": "code",
      "source": [
        "\"\"\"### T-test\"\"\"\n",
        "\n",
        "from scipy.stats import ttest_ind\n",
        "print('Position of big sentences in ICSI vs AutoMin: ')\n",
        "print(ttest_ind(df.position_big.icsi_transcripts,df.position_big.automin_transcripts))\n",
        "print('Position of big sentences in AMI vs AutoMin: ')\n",
        "print(ttest_ind(df.position_big.ami_transcripts,df.position_big.automin_transcripts))"
      ],
      "metadata": {
        "colab": {
          "base_uri": "https://localhost:8080/"
        },
        "id": "-qj9q4RUALQw",
        "outputId": "bacbcc8d-852c-44ba-b572-0d09c0aa1449"
      },
      "execution_count": null,
      "outputs": [
        {
          "output_type": "stream",
          "name": "stdout",
          "text": [
            "Position of big sentences in ICSI vs AutoMin: \n",
            "Ttest_indResult(statistic=1.437982766874127, pvalue=0.1504495074470736)\n",
            "Position of big sentences in AMI vs AutoMin: \n",
            "Ttest_indResult(statistic=0.029841131849375886, pvalue=0.9761939230309229)\n"
          ]
        }
      ]
    },
    {
      "cell_type": "code",
      "source": [
        "\"\"\"### Perplexity and Entropy\"\"\"\n",
        "\n",
        "# find number of words spoken by each speaker\n",
        "# ami\n",
        "path='/content/AMICorpusXML/data/ami-transcripts-speaker'\n",
        "filelist=os.listdir(path)\n",
        "entropy=[]\n",
        "perplexity=[]\n",
        "for key in transcripts.keys():\n",
        "    speaker_words=[]\n",
        "    for file in filelist:\n",
        "        if file[:7]==key:\n",
        "            with open(f'{path}/{file}','r', encoding='utf8') as f:\n",
        "                txt=f.read()\n",
        "                speaker_words.append(len(txt.split(' ')))\n",
        "        elif file[:6]==key:\n",
        "            with open(f'{path}/{file}','r', encoding='utf8') as f:\n",
        "                txt=f.read()\n",
        "                speaker_words.append(len(txt.split(' ')))\n",
        "        else:\n",
        "            pass\n",
        "    tot=sum(speaker_words)\n",
        "    speaker_words=[i/tot for i in speaker_words]\n",
        "    e=0\n",
        "    for p in speaker_words:\n",
        "        e+=(np.log2(p))\n",
        "    e=e/len(speaker_words)\n",
        "    entropy.append(e)\n",
        "    perplexity.append(pow(2,e))\n",
        "print('AVG Perplexity: ',statistics.mean(perplexity))\n",
        "print('AVG Entropy: ',statistics.mean(entropy))\n"
      ],
      "metadata": {
        "colab": {
          "base_uri": "https://localhost:8080/"
        },
        "id": "gPDaZPWTANuM",
        "outputId": "fbe92476-e309-427b-db45-a5d1db5ac838"
      },
      "execution_count": null,
      "outputs": [
        {
          "output_type": "stream",
          "name": "stdout",
          "text": [
            "AVG Perplexity:  0.2251349979092201\n",
            "AVG Entropy:  -2.1612473077968395\n"
          ]
        }
      ]
    },
    {
      "cell_type": "code",
      "source": [
        "# icsi\n",
        "\n",
        "speakers={}\n",
        "entropy=[]\n",
        "perplexity=[]\n",
        "for root in root_list:\n",
        "    \n",
        "    #getting number of words spoken by speakers\n",
        "    \n",
        "    for child in root[1]:\n",
        "        if 'Participant' in child.attrib:\n",
        "                #print(len(child.text.split(' ')))\n",
        "                if child.attrib['Participant'] in speakers:\n",
        "                    speakers[child.attrib['Participant']]+=len(child.text.split(' '))\n",
        "                else:\n",
        "                    speakers[child.attrib['Participant']]=len(child.text.split(' '))\n",
        "        #print(child)\n",
        "    \n",
        "    tot=sum(speakers.values())\n",
        "    speaker=[i/tot for i in speakers.values()]\n",
        "    e=0\n",
        "    for p in speaker:\n",
        "        e+=(np.log2(p))\n",
        "    e=e/len(speaker)\n",
        "    entropy.append(e)\n",
        "    perplexity.append(pow(2,e))\n",
        "\n",
        "print('AVG Perplexity: ',statistics.mean(perplexity))\n",
        "print('AVG Entropy: ',statistics.mean(entropy))"
      ],
      "metadata": {
        "colab": {
          "base_uri": "https://localhost:8080/"
        },
        "id": "FsTkAh3CBfR4",
        "outputId": "ec4cf45f-544c-4be0-ff58-7508795d81cd"
      },
      "execution_count": null,
      "outputs": [
        {
          "output_type": "stream",
          "name": "stdout",
          "text": [
            "AVG Perplexity:  0.010368495597762577\n",
            "AVG Entropy:  -7.119352311464264\n"
          ]
        }
      ]
    },
    {
      "cell_type": "code",
      "source": [
        "# automin\n",
        "\n",
        "entropy=[]\n",
        "perplexity=[]\n",
        "\n",
        "for key in automin_transcripts.keys():\n",
        "    turns=0\n",
        "    speaker={}\n",
        "    text=automin_transcripts[key]#.split(' ')\n",
        "    # get speaker words\n",
        "    for index,i in enumerate(text):\n",
        "        \n",
        "        \n",
        "        if i=='(' and text[index+1:index+7]=='PERSON':\n",
        "            name=text[index+1:index+8]\n",
        "            t=[]\n",
        "            for index_temp,temp in enumerate(text[(index+10):]):\n",
        "                if temp=='(':\n",
        "                    break\n",
        "                t.append(temp)\n",
        "            t=len((''.join(t)).split(' '))\n",
        "            if name in speaker:\n",
        "                speaker[name]+=t\n",
        "            else:\n",
        "                speaker[name]=t\n",
        "    try:\n",
        "        tot=sum(speaker.values())\n",
        "        speaker=[i/tot for i in speaker.values()]\n",
        "        e=0\n",
        "        for p in speaker:\n",
        "            e+=(np.log2(p))\n",
        "        e=e/len(speaker)\n",
        "        entropy.append(e)\n",
        "        perplexity.append(pow(2,e))\n",
        "    except:\n",
        "        pass\n",
        "        #print(key)\n",
        "                    \n",
        "\n",
        "print('AVG Perplexity: ',statistics.mean(perplexity))\n",
        "print('AVG Entropy: ',statistics.mean(entropy))"
      ],
      "metadata": {
        "colab": {
          "base_uri": "https://localhost:8080/"
        },
        "id": "J4BIYW61BjSv",
        "outputId": "1f5885b8-77ad-4996-a99c-4d62e0089d49"
      },
      "execution_count": null,
      "outputs": [
        {
          "output_type": "stream",
          "name": "stdout",
          "text": [
            "AVG Perplexity:  0.1332975372756228\n",
            "AVG Entropy:  -3.2644839563521044\n"
          ]
        }
      ]
    },
    {
      "cell_type": "code",
      "source": [
        "\"\"\"### Correlation\"\"\"\n",
        "\n",
        "# Correlation between transcript and summary vocabulary\n",
        "\n",
        "from scipy.stats import pearsonr\n",
        "def correlation(dataset):\n",
        "    #normalize score\n",
        "    t_vocab={}\n",
        "    for key in df['unique'][f'{dataset}_transcripts'].keys():\n",
        "        t_vocab[key]=df['unique'][f'{dataset}_transcripts'][key]/len(df['unique'][f'{dataset}_transcripts'])\n",
        "\n",
        "    s_vocab={}\n",
        "    for key in df['unique'][f'{dataset}_asum'].keys():\n",
        "        s_vocab[key]=df['unique'][f'{dataset}_asum'][key]/len(df['unique'][f'{dataset}_asum'])\n",
        "\n",
        "    corr=[]\n",
        "    x=[]\n",
        "    y=[]\n",
        "    for key in t_vocab:\n",
        "        if key in s_vocab:\n",
        "            x.append(t_vocab[key])\n",
        "            y.append(s_vocab[key])\n",
        "\n",
        "    return pearsonr(x,y)[0]\n",
        "\n",
        "print('AMI :', correlation('ami'))\n",
        "print('ICSI: ', correlation('icsi'))\n",
        "print('AutoMin:', correlation('automin'))"
      ],
      "metadata": {
        "colab": {
          "base_uri": "https://localhost:8080/"
        },
        "id": "r_CfsKg5BltZ",
        "outputId": "796f949f-49e0-495c-9db0-fffd86667095"
      },
      "execution_count": null,
      "outputs": [
        {
          "output_type": "stream",
          "name": "stdout",
          "text": [
            "AMI : 0.8496506489573399\n",
            "ICSI:  0.9449936459177705\n",
            "AutoMin: 0.6663630356572788\n"
          ]
        }
      ]
    },
    {
      "cell_type": "code",
      "source": [
        "\"\"\"### LDA \"\"\"\n",
        "\n",
        "# functions \n",
        "\n",
        "import spacy\n",
        "from gensim import corpora\n",
        "import gensim\n",
        "\n",
        "spacy.load('en')\n",
        "from spacy.lang.en import English\n",
        "parser = English()\n",
        "\n",
        "def tokenize(text):\n",
        "    lda_tokens = []\n",
        "    tokens = parser(text)\n",
        "    for token in tokens:\n",
        "        if token.orth_.isspace():\n",
        "            continue\n",
        "        elif token.like_url:\n",
        "            lda_tokens.append('URL')\n",
        "        elif token.orth_.startswith('@'):\n",
        "            lda_tokens.append('SCREEN_NAME')\n",
        "        else:\n",
        "            lda_tokens.append(token.lower_)\n",
        "    return lda_tokens\n",
        "\n",
        "import nltk\n",
        "nltk.download('wordnet')\n",
        "from nltk.corpus import wordnet as wn\n",
        "def get_lemma(word):\n",
        "    lemma = wn.morphy(word)\n",
        "    if lemma is None:\n",
        "        return word\n",
        "    else:\n",
        "        return lemma\n",
        "    \n",
        "from nltk.stem.wordnet import WordNetLemmatizer\n",
        "def get_lemma2(word):\n",
        "    return WordNetLemmatizer().lemmatize(word)\n",
        "\n",
        "nltk.download('stopwords')\n",
        "en_stop = set(nltk.corpus.stopwords.words('english'))\n",
        "\n",
        "def prepare_text_for_lda(text):\n",
        "    tokens = tokenize(text)\n",
        "    tokens = [token for token in tokens if len(token) > 4]\n",
        "    tokens = [token for token in tokens if token not in en_stop]\n",
        "    tokens = [get_lemma(token) for token in tokens]\n",
        "    return tokens"
      ],
      "metadata": {
        "colab": {
          "base_uri": "https://localhost:8080/"
        },
        "id": "rnETUWOZBorh",
        "outputId": "ea14930e-dbb0-4433-e279-0fa43d2da8a0"
      },
      "execution_count": null,
      "outputs": [
        {
          "output_type": "stream",
          "name": "stdout",
          "text": [
            "[nltk_data] Downloading package wordnet to /root/nltk_data...\n",
            "[nltk_data]   Unzipping corpora/wordnet.zip.\n",
            "[nltk_data] Downloading package stopwords to /root/nltk_data...\n",
            "[nltk_data]   Package stopwords is already up-to-date!\n"
          ]
        }
      ]
    },
    {
      "cell_type": "code",
      "source": [
        "#ami \n",
        "scores=0\n",
        "for key in transcripts.keys():\n",
        "    text_data = []\n",
        "    for line in nltk.sent_tokenize(transcripts[key]):\n",
        "        tokens = prepare_text_for_lda(line)\n",
        "        # print(tokens)\n",
        "        if len(tokens)>=5:\n",
        "            #print(tokens)\n",
        "            text_data.append(tokens)\n",
        "    dictionary = corpora.Dictionary(text_data)\n",
        "    corpus = [dictionary.doc2bow(text) for text in text_data]\n",
        "    #pickle.dump(corpus, open('corpus.pkl', 'wb'))\n",
        "    #dictionary.save('dictionary.gensim')\n",
        "    ldamodel = gensim.models.ldamodel.LdaModel(corpus,num_topics=50, id2word=dictionary, passes=15)\n",
        "    topics = ldamodel.print_topics(num_words=20)\n",
        "    a=[]\n",
        "    for topic in topics:\n",
        "        #print(topic[1].split('+ '))\n",
        "        s=0\n",
        "        for i in topic[1].split('+ '):\n",
        "            s+=float(i[:5])\n",
        "        a.append(s)\n",
        "    maxa=max(a)\n",
        "    a=[i/maxa for i in a if i/maxa>0.5]\n",
        "    scores+=len(a)\n",
        "    \n",
        "print('Average topics AMI: ',scores/len(transcripts))"
      ],
      "metadata": {
        "colab": {
          "base_uri": "https://localhost:8080/"
        },
        "id": "RqR8rbIKBtzb",
        "outputId": "1c37be11-8b3b-4fa3-a328-66401975d0fc"
      },
      "execution_count": null,
      "outputs": [
        {
          "output_type": "stream",
          "name": "stdout",
          "text": [
            "Average topics AMI:  14.832116788321168\n"
          ]
        }
      ]
    },
    {
      "cell_type": "code",
      "source": [
        "#icsi\n",
        "\n",
        "scores=0\n",
        "for index in range(len(text_list)):\n",
        "    text_data = []\n",
        "    for line in nltk.sent_tokenize(''.join(text_list[index])):\n",
        "        tokens = prepare_text_for_lda(line)\n",
        "        # print(tokens)\n",
        "        if len(tokens)>=5:\n",
        "            #print(tokens)\n",
        "            text_data.append(tokens)\n",
        "    dictionary = corpora.Dictionary(text_data)\n",
        "    corpus = [dictionary.doc2bow(text) for text in text_data]\n",
        "    #pickle.dump(corpus, open('corpus.pkl', 'wb'))\n",
        "    #dictionary.save('dictionary.gensim')\n",
        "    ldamodel = gensim.models.ldamodel.LdaModel(corpus,num_topics=100, id2word=dictionary, passes=15)\n",
        "    topics = ldamodel.print_topics(num_words=20)\n",
        "    a=[]\n",
        "    for topic in topics:\n",
        "        #print(topic[1].split('+ '))\n",
        "        s=0\n",
        "        for i in topic[1].split('+ '):\n",
        "            s+=float(i[:5])\n",
        "        a.append(s)\n",
        "    maxa=max(a)\n",
        "    a=[i/maxa for i in a if i/maxa>0.5]\n",
        "    scores+=len(a)\n",
        "\n",
        "    \n",
        "print('Average topics ICSI: ',scores/len(text_list))"
      ],
      "metadata": {
        "colab": {
          "base_uri": "https://localhost:8080/"
        },
        "id": "ZBdCqGUlBxAS",
        "outputId": "edd523fc-3449-4623-e0ce-561ef3e7465d"
      },
      "execution_count": null,
      "outputs": [
        {
          "output_type": "stream",
          "name": "stderr",
          "text": [
            "/usr/local/lib/python3.7/dist-packages/gensim/models/ldamodel.py:1023: RuntimeWarning: divide by zero encountered in log\n",
            "  diff = np.log(self.expElogbeta)\n"
          ]
        },
        {
          "output_type": "stream",
          "name": "stdout",
          "text": [
            "Average topics ICSI:  13.639344262295081\n"
          ]
        }
      ]
    },
    {
      "cell_type": "code",
      "source": [
        "# automin\n",
        "\n",
        "scores=0\n",
        "for key in automin_transcripts.keys():\n",
        "    text_data = []\n",
        "    for line in nltk.sent_tokenize(automin_transcripts[key]):\n",
        "        tokens = prepare_text_for_lda(line)\n",
        "        # print(tokens)\n",
        "        if len(tokens)>=5:\n",
        "            #print(tokens)\n",
        "            text_data.append(tokens)\n",
        "    dictionary = corpora.Dictionary(text_data)\n",
        "    corpus = [dictionary.doc2bow(text) for text in text_data]\n",
        "    #pickle.dump(corpus, open('corpus.pkl', 'wb'))\n",
        "    #dictionary.save('dictionary.gensim')\n",
        "    ldamodel = gensim.models.ldamodel.LdaModel(corpus,num_topics=100, id2word=dictionary, passes=15)\n",
        "    topics = ldamodel.print_topics(num_words=20)\n",
        "    a=[]\n",
        "    for topic in topics:\n",
        "        #print(topic[1].split('+ '))\n",
        "        s=0\n",
        "        for i in topic[1].split('+ '):\n",
        "            s+=float(i[:5])\n",
        "        a.append(s)\n",
        "    maxa=max(a)\n",
        "    a=[i/maxa for i in a if i/maxa>0.5]\n",
        "    scores+=len(a)\n",
        "    \n",
        "print('Average topics AutoMin: ',scores/len(text_list))"
      ],
      "metadata": {
        "colab": {
          "base_uri": "https://localhost:8080/"
        },
        "id": "XlMCoPWmB0pu",
        "outputId": "ff3b8e26-515d-474f-e87c-d9a82d042de5"
      },
      "execution_count": null,
      "outputs": [
        {
          "output_type": "stream",
          "name": "stderr",
          "text": [
            "/usr/local/lib/python3.7/dist-packages/gensim/models/ldamodel.py:1023: RuntimeWarning: divide by zero encountered in log\n",
            "  diff = np.log(self.expElogbeta)\n"
          ]
        },
        {
          "output_type": "stream",
          "name": "stdout",
          "text": [
            "Average topics AutoMin:  7.377049180327869\n"
          ]
        }
      ]
    },
    {
      "cell_type": "code",
      "source": [
        "\"\"\"### Inter Annotator Agreement\"\"\"\n",
        "\n",
        "from scipy.stats import chisquare\n",
        "chisq=[]\n",
        "standard_deviations=[]\n",
        "for key1 in automin_summary.keys():\n",
        "    scores=0\n",
        "    og=[]\n",
        "    full_dioc={}\n",
        "    dioc=[]\n",
        "    for key in automin_summary[key1].keys():\n",
        "        text_data = []\n",
        "        a=[]\n",
        "        for line in nltk.sent_tokenize(automin_summary[key1][key]):\n",
        "            tokens = prepare_text_for_lda(line)\n",
        "            # print(tokens)\n",
        "            if len(tokens)>=5:\n",
        "                #print(tokens)\n",
        "                text_data.append(tokens)\n",
        "        dictionary = corpora.Dictionary(text_data)\n",
        "        corpus = [dictionary.doc2bow(text) for text in text_data]\n",
        "        #pickle.dump(corpus, open('corpus.pkl', 'wb'))\n",
        "        #dictionary.save('dictionary.gensim')\n",
        "        ldamodel = gensim.models.ldamodel.LdaModel(corpus,num_topics=10, id2word=dictionary, passes=15)\n",
        "        topics = ldamodel.print_topics(num_words=10)\n",
        "        topic_list=[]\n",
        "        topc_dic={}\n",
        "        for topic in topics:\n",
        "            #print(topic[1].split('+'))\n",
        "            for i in topic[1].split('+'):\n",
        "                a.append(i[7:-1])\n",
        "                name=i[7:-1]\n",
        "                if name in dioc:\n",
        "                    full_dioc[name]+=1\n",
        "                else:\n",
        "                    full_dioc[name]=1\n",
        "                if name in topc_dic:\n",
        "                    topc_dic[name]+=1\n",
        "                else:\n",
        "                    topc_dic[name]=1\n",
        "\n",
        "            #a.append(topic[1].split('+')[7:-1])\n",
        "            topic_list.append(a)\n",
        "        dioc.append(topc_dic)\n",
        "        og.append(topic_list)\n",
        "    vals=[]\n",
        "    for i in range(len(dioc)):\n",
        "        #print(i)\n",
        "        x_obs=list(dioc[i].values())\n",
        "        y_exp=[]\n",
        "        for key in dioc[i]:\n",
        "            if key in full_dioc:\n",
        "                y_exp.append(full_dioc[key])\n",
        "            else:\n",
        "                y_exp.append(0)\n",
        "        vals.append(chisquare(x_obs,y_exp)[1])\n",
        "    chisq.append(statistics.median(vals))\n",
        "    if len(vals)>1:\n",
        "        standard_deviations.append(statistics.stdev(vals))\n",
        "    else:\n",
        "        standard_deviations.append(0)"
      ],
      "metadata": {
        "id": "QgySg45yB2_C"
      },
      "execution_count": null,
      "outputs": []
    },
    {
      "cell_type": "code",
      "source": [
        "\"\"\"# Graphs\n",
        "### Distribution of small sentences in datasets\n",
        "\"\"\"\n",
        "\n",
        "ax=sns.kdeplot(df.position_small.loc['ami_transcripts'])\n",
        "sns.kdeplot(df.position_small.loc['icsi_transcripts'])\n",
        "sns.kdeplot(df.position_small.loc['automin_transcripts'])\n",
        "ax.set(xlabel='Position')\n",
        "ax.legend(['AMI', 'ICSI', 'ELITR_Minuting_Corpus'])\n",
        "# ax.figure.savefig(\"out.png\") "
      ],
      "metadata": {
        "colab": {
          "base_uri": "https://localhost:8080/",
          "height": 296
        },
        "id": "ljX_OQoWB6UL",
        "outputId": "82d21d2a-6ce9-4ce6-d901-2eee3854b00b"
      },
      "execution_count": null,
      "outputs": [
        {
          "output_type": "execute_result",
          "data": {
            "text/plain": [
              "<matplotlib.legend.Legend at 0x7fb1bfccd8d0>"
            ]
          },
          "metadata": {},
          "execution_count": 25
        },
        {
          "output_type": "display_data",
          "data": {
            "text/plain": [
              "<Figure size 432x288 with 1 Axes>"
            ],
            "image/png": "[encoded data removed]"
          },
          "metadata": {
            "needs_background": "light"
          }
        }
      ]
    },
    {
      "cell_type": "code",
      "source": [
        "\"\"\"### Distribution of big sentences in datasets \"\"\"\n",
        "\n",
        "ax=sns.kdeplot(df.position_big.loc['ami_transcripts'])\n",
        "sns.kdeplot(df.position_big.loc['icsi_transcripts'])\n",
        "sns.kdeplot(df.position_big.loc['automin_transcripts'])\n",
        "ax.set(xlabel='Position')\n",
        "ax.legend(['AMI', 'ICSI', 'ELITR_Minuting_Corpus'])\n",
        "# ax.figure.savefig(\"out.png\") "
      ],
      "metadata": {
        "colab": {
          "base_uri": "https://localhost:8080/",
          "height": 279
        },
        "id": "4bpb7qs3C60J",
        "outputId": "72980344-0279-4e54-ee47-bcc5d9c2e2e5"
      },
      "execution_count": null,
      "outputs": [
        {
          "output_type": "display_data",
          "data": {
            "text/plain": [
              "<Figure size 432x288 with 1 Axes>"
            ],
            "image/png": "[encoded data removed]"
          },
          "metadata": {
            "needs_background": "light"
          }
        }
      ]
    },
    {
      "cell_type": "code",
      "source": [
        "\"\"\"## Speakers\n",
        "### AMI\n",
        "\"\"\"\n",
        "\n",
        "ax=sns.kdeplot(ami_speakers, color='r')\n",
        "ax.set(xlabel='Number of speaker', ylabel='Density')"
      ],
      "metadata": {
        "colab": {
          "base_uri": "https://localhost:8080/",
          "height": 351
        },
        "id": "IVmmnjgRC-P0",
        "outputId": "44ebffb5-38bb-4621-9459-ed1711889d19"
      },
      "execution_count": null,
      "outputs": [
        {
          "output_type": "stream",
          "name": "stderr",
          "text": [
            "/usr/local/lib/python3.7/dist-packages/seaborn/distributions.py:316: UserWarning: Dataset has 0 variance; skipping density estimate. Pass `warn_singular=False` to disable this warning.\n",
            "  warnings.warn(msg, UserWarning)\n"
          ]
        },
        {
          "output_type": "execute_result",
          "data": {
            "text/plain": [
              "[Text(0, 0.5, 'Density'), Text(0.5, 0, 'Number of speaker')]"
            ]
          },
          "metadata": {},
          "execution_count": 36
        },
        {
          "output_type": "display_data",
          "data": {
            "text/plain": [
              "<Figure size 432x288 with 1 Axes>"
            ],
            "image/png": "[encoded data removed]"
          },
          "metadata": {
            "needs_background": "light"
          }
        }
      ]
    },
    {
      "cell_type": "code",
      "source": [
        "\"\"\"### ICSI\"\"\"\n",
        "\n",
        "ax=sns.kdeplot(participants_count_list, color='r')\n",
        "ax.set(xlabel='Number of speaker', ylabel='Density')\n"
      ],
      "metadata": {
        "colab": {
          "base_uri": "https://localhost:8080/",
          "height": 296
        },
        "id": "49Ox1KR2DAD0",
        "outputId": "0614f38f-984d-4c99-8a27-5a102fa82a9d"
      },
      "execution_count": null,
      "outputs": [
        {
          "output_type": "execute_result",
          "data": {
            "text/plain": [
              "[Text(0, 0.5, 'Density'), Text(0.5, 0, 'Number of speaker')]"
            ]
          },
          "metadata": {},
          "execution_count": 42
        },
        {
          "output_type": "display_data",
          "data": {
            "text/plain": [
              "<Figure size 432x288 with 1 Axes>"
            ],
            "image/png": "[encoded data removed]"
          },
          "metadata": {
            "needs_background": "light"
          }
        }
      ]
    },
    {
      "cell_type": "code",
      "source": [
        "\n",
        "\"\"\"### AutoMin\"\"\"\n",
        "\n",
        "#speaker_list=[len(i) for i in speaker_list]\n",
        "ax=sns.kdeplot(speaker_list,  color='g')\n",
        "ax.set(xlabel='Number of speaker', ylabel='Density')"
      ],
      "metadata": {
        "id": "dtZvtgmlDp0X"
      },
      "execution_count": null,
      "outputs": []
    },
    {
      "cell_type": "code",
      "source": [
        "\"\"\"## Turns\n",
        "### AMI\n",
        "\"\"\"\n",
        "\n",
        "ax=sns.kdeplot(ami_turns)\n",
        "ax.set(xlabel='Number of turns', ylabel='Density')\n"
      ],
      "metadata": {
        "colab": {
          "base_uri": "https://localhost:8080/",
          "height": 296
        },
        "id": "GuMCZZt3EVSU",
        "outputId": "f529c76d-31d2-4233-a028-43ec115417c9"
      },
      "execution_count": null,
      "outputs": [
        {
          "output_type": "execute_result",
          "data": {
            "text/plain": [
              "[Text(0, 0.5, 'Density'), Text(0.5, 0, 'Number of turns')]"
            ]
          },
          "metadata": {},
          "execution_count": 47
        },
        {
          "output_type": "display_data",
          "data": {
            "text/plain": [
              "<Figure size 432x288 with 1 Axes>"
            ],
            "image/png": "[encoded data removed]"
          },
          "metadata": {
            "needs_background": "light"
          }
        }
      ]
    },
    {
      "cell_type": "code",
      "source": [
        "\"\"\"### ICSI\"\"\"\n",
        "\n",
        "ax=sns.kdeplot(icsi_turns, color='r')\n",
        "ax.set(xlabel='Number of turns', ylabel='Density')"
      ],
      "metadata": {
        "colab": {
          "base_uri": "https://localhost:8080/",
          "height": 296
        },
        "id": "tF4wvzkKHuN6",
        "outputId": "2768b8f7-784e-4e0b-f688-abd446c84885"
      },
      "execution_count": null,
      "outputs": [
        {
          "output_type": "execute_result",
          "data": {
            "text/plain": [
              "[Text(0, 0.5, 'Density'), Text(0.5, 0, 'Number of turns')]"
            ]
          },
          "metadata": {},
          "execution_count": 48
        },
        {
          "output_type": "display_data",
          "data": {
            "text/plain": [
              "<Figure size 432x288 with 1 Axes>"
            ],
            "image/png": "[encoded data removed]"
          },
          "metadata": {
            "needs_background": "light"
          }
        }
      ]
    },
    {
      "cell_type": "code",
      "source": [
        "\"\"\"### Automin\"\"\"\n",
        "\n",
        "ax=sns.kdeplot(turns_list, color='g')\n",
        "ax.set(xlabel='Number of turns', ylabel='Density')"
      ],
      "metadata": {
        "colab": {
          "base_uri": "https://localhost:8080/",
          "height": 298
        },
        "id": "kXsVbC1aHv_p",
        "outputId": "4115e901-21fb-421c-81bf-72a4bcda19c5"
      },
      "execution_count": null,
      "outputs": [
        {
          "output_type": "execute_result",
          "data": {
            "text/plain": [
              "[Text(0, 0.5, 'Density'), Text(0.5, 0, 'Number of turns')]"
            ]
          },
          "metadata": {},
          "execution_count": 49
        },
        {
          "output_type": "display_data",
          "data": {
            "text/plain": [
              "<Figure size 432x288 with 1 Axes>"
            ],
            "image/png": "[encoded data removed]"
          },
          "metadata": {
            "needs_background": "light"
          }
        }
      ]
    },
    {
      "cell_type": "code",
      "source": [
        "\"\"\"### Combined\"\"\"\n",
        "\n",
        "ax=sns.kdeplot(ami_turns)\n",
        "sns.kdeplot(icsi_turns, color='r')\n",
        "sns.kdeplot(turns_list, color='g')\n",
        "ax.set(xlabel='Number of turns', ylabel='Density')\n",
        "plt.legend(['AMI', 'ICSI', 'ELITR_Minuting_Corpus'])\n",
        "ax.figure.savefig(\"out.png\") "
      ],
      "metadata": {
        "colab": {
          "base_uri": "https://localhost:8080/",
          "height": 279
        },
        "id": "SmvJFrXtHxpM",
        "outputId": "3a7a1624-1d9a-467c-ee9d-6c8e2c8dcf86"
      },
      "execution_count": null,
      "outputs": [
        {
          "output_type": "display_data",
          "data": {
            "text/plain": [
              "<Figure size 432x288 with 1 Axes>"
            ],
            "image/png": "[encoded data removed]"
          },
          "metadata": {
            "needs_background": "light"
          }
        }
      ]
    },
    {
      "cell_type": "code",
      "source": [
        "\"\"\"## Dialogue tokens\n",
        "### AMI\n",
        "\"\"\"\n",
        "\n",
        "# AMI\n",
        "ax=sns.kdeplot(total_words_list_transcripts_ami)\n",
        "ax.set(xlabel='Number of dialogue tokens', ylabel='Density')\n"
      ],
      "metadata": {
        "colab": {
          "base_uri": "https://localhost:8080/",
          "height": 296
        },
        "id": "imup8pdMH3Vm",
        "outputId": "7e769a75-b273-4936-bcd6-c5b577caa039"
      },
      "execution_count": null,
      "outputs": [
        {
          "output_type": "execute_result",
          "data": {
            "text/plain": [
              "[Text(0, 0.5, 'Density'), Text(0.5, 0, 'Number of dialogue tokens')]"
            ]
          },
          "metadata": {},
          "execution_count": 52
        },
        {
          "output_type": "display_data",
          "data": {
            "text/plain": [
              "<Figure size 432x288 with 1 Axes>"
            ],
            "image/png": "[encoded data removed]"
          },
          "metadata": {
            "needs_background": "light"
          }
        }
      ]
    },
    {
      "cell_type": "code",
      "source": [
        "\"\"\"### ICSI\"\"\"\n",
        "\n",
        "ax=sns.kdeplot(total_words_list_transcripts_icsi, color='r')\n",
        "ax.set(xlabel='Number of dialogue tokens', ylabel='Density')\n"
      ],
      "metadata": {
        "colab": {
          "base_uri": "https://localhost:8080/",
          "height": 296
        },
        "id": "TlGgrgHQH-ip",
        "outputId": "79fad3ce-56e5-4efd-e2cc-de8f86898209"
      },
      "execution_count": null,
      "outputs": [
        {
          "output_type": "execute_result",
          "data": {
            "text/plain": [
              "[Text(0, 0.5, 'Density'), Text(0.5, 0, 'Number of dialogue tokens')]"
            ]
          },
          "metadata": {},
          "execution_count": 53
        },
        {
          "output_type": "display_data",
          "data": {
            "text/plain": [
              "<Figure size 432x288 with 1 Axes>"
            ],
            "image/png": "[encoded data removed]"
          },
          "metadata": {
            "needs_background": "light"
          }
        }
      ]
    },
    {
      "cell_type": "code",
      "source": [
        "\n",
        "\"\"\"### AutoMin\"\"\"\n",
        "\n",
        "ax=sns.kdeplot(total_words_list_transcripts_automin, color='g')\n",
        "ax.set(xlabel='Number of dialogue tokens', ylabel='Density')"
      ],
      "metadata": {
        "colab": {
          "base_uri": "https://localhost:8080/",
          "height": 307
        },
        "id": "DnbdrAe4IAOL",
        "outputId": "52578702-439f-4ccb-ce6a-735deeb341cf"
      },
      "execution_count": null,
      "outputs": [
        {
          "output_type": "execute_result",
          "data": {
            "text/plain": [
              "[Text(0, 0.5, 'Density'), Text(0.5, 0, 'Number of dialogue tokens')]"
            ]
          },
          "metadata": {},
          "execution_count": 54
        },
        {
          "output_type": "display_data",
          "data": {
            "text/plain": [
              "<Figure size 432x288 with 1 Axes>"
            ],
            "image/png": "[encoded data removed]"
          },
          "metadata": {
            "needs_background": "light"
          }
        }
      ]
    },
    {
      "cell_type": "code",
      "source": [
        "\n",
        "\"\"\"### Combined\"\"\"\n",
        "\n",
        "ax=sns.kdeplot(total_words_list_transcripts_ami)\n",
        "sns.kdeplot(total_words_list_transcripts_icsi, color='r')\n",
        "sns.kdeplot(total_words_list_transcripts_automin, color='g')\n",
        "ax.set(xlabel='Number of dialogue tokens', ylabel='Density')\n",
        "plt.legend(['AMI', 'ICSI', 'ELITR_Minuting_Corpus'])\n",
        "ax.figure.savefig(\"out.png\") "
      ],
      "metadata": {
        "colab": {
          "base_uri": "https://localhost:8080/",
          "height": 279
        },
        "id": "clqeO6hmIBhO",
        "outputId": "d079efa1-b274-4ca8-dd63-d93aee352023"
      },
      "execution_count": null,
      "outputs": [
        {
          "output_type": "display_data",
          "data": {
            "text/plain": [
              "<Figure size 432x288 with 1 Axes>"
            ],
            "image/png": "[encoded data removed]"
          },
          "metadata": {
            "needs_background": "light"
          }
        }
      ]
    },
    {
      "cell_type": "code",
      "source": [
        "\"\"\"## Summary tokens\n",
        "### AMI Abstractive\n",
        "\"\"\"\n",
        "\n",
        "ax=sns.kdeplot(total_words_list_asum_ami)\n",
        "ax.set(xlabel='Number of summary tokens', ylabel='Density')\n"
      ],
      "metadata": {
        "colab": {
          "base_uri": "https://localhost:8080/",
          "height": 296
        },
        "id": "eBUnGr9OIDbN",
        "outputId": "2630cb12-a76e-4d68-a25c-ef9185895f41"
      },
      "execution_count": null,
      "outputs": [
        {
          "output_type": "execute_result",
          "data": {
            "text/plain": [
              "[Text(0, 0.5, 'Density'), Text(0.5, 0, 'Number of summary tokens')]"
            ]
          },
          "metadata": {},
          "execution_count": 56
        },
        {
          "output_type": "display_data",
          "data": {
            "text/plain": [
              "<Figure size 432x288 with 1 Axes>"
            ],
            "image/png": "[encoded data removed]"
          },
          "metadata": {
            "needs_background": "light"
          }
        }
      ]
    },
    {
      "cell_type": "code",
      "source": [
        "\"\"\"### ICSI\"\"\"\n",
        "\n",
        "ax=sns.kdeplot(total_words_list_asum_icsi, color='r')\n",
        "ax.set(xlabel='Number of summary tokens', ylabel='Density')\n"
      ],
      "metadata": {
        "colab": {
          "base_uri": "https://localhost:8080/",
          "height": 296
        },
        "id": "T7OEYLm0IGLQ",
        "outputId": "935ca590-9461-40dc-c929-c1869488ff62"
      },
      "execution_count": null,
      "outputs": [
        {
          "output_type": "execute_result",
          "data": {
            "text/plain": [
              "[Text(0, 0.5, 'Density'), Text(0.5, 0, 'Number of summary tokens')]"
            ]
          },
          "metadata": {},
          "execution_count": 57
        },
        {
          "output_type": "display_data",
          "data": {
            "text/plain": [
              "<Figure size 432x288 with 1 Axes>"
            ],
            "image/png": "[encoded data removed]"
          },
          "metadata": {
            "needs_background": "light"
          }
        }
      ]
    },
    {
      "cell_type": "code",
      "source": [
        "\"\"\"### AutoMin\"\"\"\n",
        "\n",
        "ax=sns.kdeplot(total_words_list_asum_automin, color='g')\n",
        "ax.set(xlabel='Number of summary tokens', ylabel='Density')"
      ],
      "metadata": {
        "colab": {
          "base_uri": "https://localhost:8080/",
          "height": 296
        },
        "id": "vAs5l5-IIICY",
        "outputId": "f40a08e4-ce7e-413a-f5e0-d29063d16da0"
      },
      "execution_count": null,
      "outputs": [
        {
          "output_type": "execute_result",
          "data": {
            "text/plain": [
              "[Text(0, 0.5, 'Density'), Text(0.5, 0, 'Number of summary tokens')]"
            ]
          },
          "metadata": {},
          "execution_count": 58
        },
        {
          "output_type": "display_data",
          "data": {
            "text/plain": [
              "<Figure size 432x288 with 1 Axes>"
            ],
            "image/png": "[encoded data removed]"
          },
          "metadata": {
            "needs_background": "light"
          }
        }
      ]
    },
    {
      "cell_type": "code",
      "source": [
        "\"\"\"### Combined\"\"\"\n",
        "\n",
        "ax=sns.kdeplot(total_words_list_asum_ami)\n",
        "sns.kdeplot(total_words_list_asum_icsi, color='r')\n",
        "sns.kdeplot(total_words_list_asum_automin, color='g')\n",
        "ax.set(xlabel='Number of summary tokens', ylabel='Density')\n",
        "ax.legend(['AMI', 'ICSI', 'ELITR_Minuting_Corpus'])\n",
        "ax.figure.savefig(\"out.png\") "
      ],
      "metadata": {
        "colab": {
          "base_uri": "https://localhost:8080/",
          "height": 279
        },
        "id": "6xO0ztjMIJzO",
        "outputId": "be29957b-d640-47cd-bcdd-2447fd9610a1"
      },
      "execution_count": null,
      "outputs": [
        {
          "output_type": "display_data",
          "data": {
            "text/plain": [
              "<Figure size 432x288 with 1 Axes>"
            ],
            "image/png": "[encoded data removed]"
          },
          "metadata": {
            "needs_background": "light"
          }
        }
      ]
    },
    {
      "cell_type": "code",
      "source": [
        "\"\"\"## Position Bias\n",
        "### AMI\n",
        "\"\"\"\n",
        "\n",
        "# ami\n",
        "\n",
        "final_scores=[0]*100\n",
        "for key in extractive_summary.keys():\n",
        "    unique={}\n",
        "    # creating vocab\n",
        "    txt=nltk.sent_tokenize(extractive_summary[key])\n",
        "    for index,sentence in enumerate(txt):\n",
        "        temp=nltk.word_tokenize(sentence)\n",
        "        temp=[word.lower() for word in temp]\n",
        "        word_tokens_refined=[x for x in temp if x not in stopWords]\n",
        "        for word in word_tokens_refined:\n",
        "            if word not in unique: \n",
        "                unique[word]=1\n",
        "            elif word in unique:\n",
        "                unique[word]+=1\n",
        "    sentence_scores=[]\n",
        "    txt=nltk.sent_tokenize(transcripts[key])\n",
        "    \n",
        "    # scoring each sentence in transcript\n",
        "    for index,sentence in enumerate(txt):\n",
        "        score=0\n",
        "        temp=nltk.word_tokenize(sentence)\n",
        "        temp=[word.lower() for word in temp]\n",
        "        word_tokens_refined=[x for x in temp if x not in stopWords]\n",
        "        for word in word_tokens_refined:\n",
        "            if word in unique: \n",
        "                score+=1\n",
        "        sentence_scores.append(score)\n",
        "    # creating 100 bins\n",
        "    for index,i in enumerate(range(0,len(sentence_scores),(len(sentence_scores)//100)+1)):\n",
        "        try:\n",
        "            final_scores[index]+=sum(sentence_scores[i:i+len(sentence_scores)//100])\n",
        "        except:\n",
        "            final_scores[index]+=sum(sentence_scores[i:])\n",
        "final_scores_ami=final_scores\n",
        "ax=sns.lineplot(x=list(range(100)),y=final_scores)\n",
        "ax.set(xlabel='Position', ylabel='Score')"
      ],
      "metadata": {
        "colab": {
          "base_uri": "https://localhost:8080/",
          "height": 296
        },
        "id": "c5pabM4KIL5G",
        "outputId": "4fcefcbd-36a3-4aa2-cc57-d2a7eaad9477"
      },
      "execution_count": null,
      "outputs": [
        {
          "output_type": "execute_result",
          "data": {
            "text/plain": [
              "[Text(0, 0.5, 'Score'), Text(0.5, 0, 'Position')]"
            ]
          },
          "metadata": {},
          "execution_count": 33
        },
        {
          "output_type": "display_data",
          "data": {
            "text/plain": [
              "<Figure size 432x288 with 1 Axes>"
            ],
            "image/png": "[encoded data removed]"
          },
          "metadata": {
            "needs_background": "light"
          }
        }
      ]
    },
    {
      "cell_type": "code",
      "source": [
        "\"\"\"### ICSI\"\"\"\n",
        "\n",
        "# icsi\n",
        "\n",
        "final_scores=[0]*100\n",
        "for key in range(len(text_list)):\n",
        "    unique={}\n",
        "    # creating vocab\n",
        "    txt=nltk.sent_tokenize(''.join(ab_sumtext_list[key]))\n",
        "    for index,sentence in enumerate(txt):\n",
        "        temp=nltk.word_tokenize(sentence)\n",
        "        temp=[word.lower() for word in temp]\n",
        "        word_tokens_refined=[x for x in temp if x not in stopWords]\n",
        "        for word in word_tokens_refined:\n",
        "            if word not in unique: \n",
        "                unique[word]=1\n",
        "            elif word in unique:\n",
        "                unique[word]+=1\n",
        "    \n",
        "    sentence_scores=[]\n",
        "    txt=nltk.sent_tokenize(''.join(text_list[key]))\n",
        "    \n",
        "    # scoring each sentence in transcript\n",
        "    for index,sentence in enumerate(txt):\n",
        "        score=0\n",
        "        temp=nltk.word_tokenize(sentence)\n",
        "        temp=[word.lower() for word in temp]\n",
        "        word_tokens_refined=[x for x in temp if x not in stopWords]\n",
        "        for word in word_tokens_refined:\n",
        "            if word in unique: \n",
        "                score+=1\n",
        "        sentence_scores.append(score)\n",
        "    # creating 100 bins\n",
        "    for index,i in enumerate(range(0,len(sentence_scores),(len(sentence_scores)//100)+1)):\n",
        "        try:\n",
        "            final_scores[index]+=sum(sentence_scores[i:i+len(sentence_scores)//100])\n",
        "        except:\n",
        "            final_scores[index]+=sum(sentence_scores[i:])\n",
        "final_scores_icsi=final_scores\n",
        "ax=sns.lineplot(x=list(range(100)),y=final_scores, color='r')\n",
        "ax.set(xlabel='Position', ylabel='Score')"
      ],
      "metadata": {
        "colab": {
          "base_uri": "https://localhost:8080/",
          "height": 296
        },
        "id": "1Jz93pc7IOlg",
        "outputId": "3d863dfe-d29e-4376-932f-448b8d38476d"
      },
      "execution_count": null,
      "outputs": [
        {
          "output_type": "execute_result",
          "data": {
            "text/plain": [
              "[Text(0, 0.5, 'Score'), Text(0.5, 0, 'Position')]"
            ]
          },
          "metadata": {},
          "execution_count": 34
        },
        {
          "output_type": "display_data",
          "data": {
            "text/plain": [
              "<Figure size 432x288 with 1 Axes>"
            ],
            "image/png": "[encoded data removed]"
          },
          "metadata": {
            "needs_background": "light"
          }
        }
      ]
    },
    {
      "cell_type": "code",
      "source": [
        "\"\"\"### AutoMin\"\"\"\n",
        "\n",
        "# automin\n",
        "\n",
        "\n",
        "final_scores=[0]*100\n",
        "for key in automin_summary.keys():\n",
        "    unique={}\n",
        "    # creating vocab\n",
        "    for key1 in automin_summary[key].keys():\n",
        "        txt=nltk.sent_tokenize(automin_summary[key][key1])\n",
        "        for index,sentence in enumerate(txt):\n",
        "            temp=nltk.word_tokenize(sentence)\n",
        "            temp=[word.lower() for word in temp]\n",
        "            word_tokens_refined=[x for x in temp if x not in stopWords]\n",
        "            for word in word_tokens_refined:\n",
        "                if word not in unique: \n",
        "                    unique[word]=1\n",
        "                elif word in unique:\n",
        "                    unique[word]+=1\n",
        "    \n",
        "    sentence_scores=[]\n",
        "    try:\n",
        "        txt=nltk.sent_tokenize(automin_transcripts[key])\n",
        "        # scoring each sentence in transcript\n",
        "        for index,sentence in enumerate(txt):\n",
        "            score=0\n",
        "            temp=nltk.word_tokenize(sentence)\n",
        "            temp=[word.lower() for word in temp]\n",
        "            word_tokens_refined=[x for x in temp if x not in stopWords]\n",
        "            for word in word_tokens_refined:\n",
        "                if word in unique: \n",
        "                    score+=1\n",
        "            sentence_scores.append(score)\n",
        "    except:\n",
        "        pass\n",
        "    # creating 100 bins\n",
        "    for index,i in enumerate(range(0,len(sentence_scores),(len(sentence_scores)//100)+1)):\n",
        "        try:\n",
        "            final_scores[index]+=sum(sentence_scores[i:i+len(sentence_scores)//100])\n",
        "        except:\n",
        "            final_scores[index]+=sum(sentence_scores[i:])\n",
        "\n",
        "final_scores_automin=final_scores\n",
        "ax=sns.lineplot(x=list(range(100)),y=final_scores, color='g')\n",
        "ax.set(xlabel='Position', ylabel='Score')"
      ],
      "metadata": {
        "colab": {
          "base_uri": "https://localhost:8080/",
          "height": 299
        },
        "id": "-2CQN2RWIYSS",
        "outputId": "3842eb63-a360-4b5e-8ec1-8fc99b09e706"
      },
      "execution_count": null,
      "outputs": [
        {
          "output_type": "execute_result",
          "data": {
            "text/plain": [
              "[Text(0, 0.5, 'Score'), Text(0.5, 0, 'Position')]"
            ]
          },
          "metadata": {},
          "execution_count": 35
        },
        {
          "output_type": "display_data",
          "data": {
            "text/plain": [
              "<Figure size 432x288 with 1 Axes>"
            ],
            "image/png": "[encoded data removed]"
          },
          "metadata": {
            "needs_background": "light"
          }
        }
      ]
    },
    {
      "cell_type": "code",
      "source": [
        "\"\"\"### Combined\"\"\"\n",
        "\n",
        "ax=sns.lineplot(x=list(range(100)),y=final_scores_ami)\n",
        "sns.lineplot(x=list(range(100)),y=final_scores_icsi, color='r')\n",
        "sns.lineplot(x=list(range(100)),y=final_scores_automin, color='g')\n",
        "ax.set(xlabel='Position', ylabel='Score')\n",
        "plt.legend(['AMI', 'ICSI', 'ELITR_Minuting_Corpus'])\n",
        "ax.figure.savefig(\"out.png\") "
      ],
      "metadata": {
        "colab": {
          "base_uri": "https://localhost:8080/",
          "height": 279
        },
        "id": "eGQUYKjtIaLe",
        "outputId": "16bf43a7-1b2a-447d-c0d2-07b936b1b827"
      },
      "execution_count": null,
      "outputs": [
        {
          "output_type": "display_data",
          "data": {
            "text/plain": [
              "<Figure size 432x288 with 1 Axes>"
            ],
            "image/png": "[encoded data removed]"
          },
          "metadata": {
            "needs_background": "light"
          }
        }
      ]
    },
    {
      "cell_type": "code",
      "source": [
        "\"\"\"## Inter Annotator Agreement\"\"\"\n",
        "\n",
        "ax=sns.kdeplot(standard_deviations, color='r')\n",
        "ax.set(xlabel='Standard Deviation between chisquare test values')"
      ],
      "metadata": {
        "colab": {
          "base_uri": "https://localhost:8080/",
          "height": 351
        },
        "id": "EyR8yiEPIcWd",
        "outputId": "7e1f76d5-d390-4ae5-cc1f-d1e44381233b"
      },
      "execution_count": null,
      "outputs": [
        {
          "output_type": "stream",
          "name": "stderr",
          "text": [
            "/usr/local/lib/python3.7/dist-packages/seaborn/distributions.py:316: UserWarning: Dataset has 0 variance; skipping density estimate. Pass `warn_singular=False` to disable this warning.\n",
            "  warnings.warn(msg, UserWarning)\n"
          ]
        },
        {
          "output_type": "execute_result",
          "data": {
            "text/plain": [
              "[Text(0.5, 0, 'Standard Deviation between chisquare test values')]"
            ]
          },
          "metadata": {},
          "execution_count": 65
        },
        {
          "output_type": "display_data",
          "data": {
            "text/plain": [
              "<Figure size 432x288 with 1 Axes>"
            ],
            "image/png": "[encoded data removed]"
          },
          "metadata": {
            "needs_background": "light"
          }
        }
      ]
    },
    {
      "cell_type": "markdown",
      "source": [
        "Error in: Graph for no. of speakers in AMI, Automin. Standard deviations calculations"
      ],
      "metadata": {
        "id": "mG8QKyNJItY5"
      }
    }
  ]
}